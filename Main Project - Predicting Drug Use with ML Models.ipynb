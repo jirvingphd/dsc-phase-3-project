{
 "cells": [
  {
   "cell_type": "markdown",
   "metadata": {},
   "source": [
    "# Predicing Drug Use"
   ]
  },
  {
   "cell_type": "markdown",
   "metadata": {},
   "source": [
    "## Goal"
   ]
  },
  {
   "cell_type": "markdown",
   "metadata": {},
   "source": [
    "- To predict if someone is a heroin user and to use the model to gain insights into risk factors for using heroin. "
   ]
  },
  {
   "cell_type": "markdown",
   "metadata": {},
   "source": [
    "## Data"
   ]
  },
  {
   "cell_type": "markdown",
   "metadata": {},
   "source": [
    "- Drug Consumption Survey: \n",
    "    - http://archive.ics.uci.edu/ml/datasets/Drug+consumption+%28quantified%29\n",
    "\n",
    "- Data Set contains information about previous drug use for many classes of drugs, demographic data such as education, age, country, and personality scores for several metrics.\n",
    "    - Nscore\n",
    "    - Escore\t\n",
    "    - Oscore\t\n",
    "    - Ascore\t\n",
    "    - Cscore\t\n",
    "    - Impulsiveness\t\n",
    "    - SS"
   ]
  },
  {
   "cell_type": "markdown",
   "metadata": {},
   "source": [
    ">- This dataset has already been heavily pre-processed to restore the orignal values of the dataset before the dataset providers encoded features. \n",
    "    - See `reference`>`Feature Selection - data-renaming.ipynb`\" [GitHub notebook Link](https://github.com/jirvingphd/dsc-phase-3-project/blob/9258a878234c98d13a48204131fa09eb9171f445/reference/Feature%20Selection%20-%20data-renaming.ipynb)"
   ]
  },
  {
   "cell_type": "markdown",
   "metadata": {},
   "source": [
    "### Imports and Functions"
   ]
  },
  {
   "cell_type": "code",
   "execution_count": 1,
   "metadata": {
    "ExecuteTime": {
     "end_time": "2021-05-20T15:39:21.854195Z",
     "start_time": "2021-05-20T15:39:19.673994Z"
    }
   },
   "outputs": [],
   "source": [
    "%load_ext autoreload\n",
    "%autoreload 2\n",
    "\n",
    "import project_functions as pf\n",
    "# pf.get_coefficients"
   ]
  },
  {
   "cell_type": "code",
   "execution_count": 2,
   "metadata": {
    "ExecuteTime": {
     "end_time": "2021-05-20T15:39:21.883187Z",
     "start_time": "2021-05-20T15:39:21.855781Z"
    }
   },
   "outputs": [],
   "source": [
    "## Import pd, sns, plt, np\n",
    "from project_functions.imports import *"
   ]
  },
  {
   "cell_type": "code",
   "execution_count": 3,
   "metadata": {
    "ExecuteTime": {
     "end_time": "2021-05-20T15:39:22.130009Z",
     "start_time": "2021-05-20T15:39:21.885459Z"
    }
   },
   "outputs": [],
   "source": [
    "## Preprocessing tools\n",
    "from sklearn.model_selection import train_test_split,cross_val_predict,cross_validate\n",
    "from sklearn.preprocessing import MinMaxScaler,StandardScaler,OneHotEncoder\n",
    "from sklearn.impute import SimpleImputer\n",
    "from sklearn.pipeline import Pipeline\n",
    "from sklearn.compose import ColumnTransformer\n",
    "from imblearn.over_sampling import SMOTE,SMOTENC\n",
    "\n",
    "\n",
    "## Models & Utils\n",
    "from sklearn.dummy import DummyClassifier\n",
    "from sklearn.linear_model import LogisticRegression,LogisticRegressionCV\n",
    "from sklearn.ensemble import RandomForestClassifier\n",
    "from sklearn.svm import SVC\n",
    "\n",
    "from time import time"
   ]
  },
  {
   "cell_type": "code",
   "execution_count": 4,
   "metadata": {
    "ExecuteTime": {
     "end_time": "2021-05-20T15:39:22.173069Z",
     "start_time": "2021-05-20T15:39:22.132299Z"
    }
   },
   "outputs": [],
   "source": [
    "# ## Changing Pandas Options to see full columns in previews and info\n",
    "n=200\n",
    "pd.set_option('display.max_columns',n)\n",
    "pd.set_option(\"display.max_info_rows\", n)\n",
    "pd.set_option('display.max_info_columns',n)\n",
    "# pd.set_option('display.float_format',lambda x: f\"{x:.2f}\")"
   ]
  },
  {
   "cell_type": "markdown",
   "metadata": {},
   "source": [
    "### Modeling Functionx (WIP)_"
   ]
  },
  {
   "cell_type": "markdown",
   "metadata": {},
   "source": [
    "## Preprocessing"
   ]
  },
  {
   "cell_type": "code",
   "execution_count": 5,
   "metadata": {
    "ExecuteTime": {
     "end_time": "2021-05-20T15:39:22.267302Z",
     "start_time": "2021-05-20T15:39:22.174959Z"
    }
   },
   "outputs": [
    {
     "data": {
      "text/html": [
       "<div>\n",
       "<style scoped>\n",
       "    .dataframe tbody tr th:only-of-type {\n",
       "        vertical-align: middle;\n",
       "    }\n",
       "\n",
       "    .dataframe tbody tr th {\n",
       "        vertical-align: top;\n",
       "    }\n",
       "\n",
       "    .dataframe thead th {\n",
       "        text-align: right;\n",
       "    }\n",
       "</style>\n",
       "<table border=\"1\" class=\"dataframe\">\n",
       "  <thead>\n",
       "    <tr style=\"text-align: right;\">\n",
       "      <th></th>\n",
       "      <th>ID</th>\n",
       "      <th>Age</th>\n",
       "      <th>Gender</th>\n",
       "      <th>Education</th>\n",
       "      <th>Country</th>\n",
       "      <th>Ethnicity</th>\n",
       "      <th>Nscore</th>\n",
       "      <th>Escore</th>\n",
       "      <th>Oscore</th>\n",
       "      <th>Ascore</th>\n",
       "      <th>Cscore</th>\n",
       "      <th>Impulsiveness</th>\n",
       "      <th>SS</th>\n",
       "      <th>Alcohol</th>\n",
       "      <th>Amphet</th>\n",
       "      <th>Amyl</th>\n",
       "      <th>Benzos</th>\n",
       "      <th>Caff</th>\n",
       "      <th>Cannabis</th>\n",
       "      <th>Choc</th>\n",
       "      <th>Coke</th>\n",
       "      <th>Crack</th>\n",
       "      <th>Ecstasy</th>\n",
       "      <th>Heroin</th>\n",
       "      <th>Ketamine</th>\n",
       "      <th>LegalH</th>\n",
       "      <th>LSD</th>\n",
       "      <th>Meth</th>\n",
       "      <th>Mushrooms</th>\n",
       "      <th>Nicotine</th>\n",
       "      <th>FakeDrugSemeron</th>\n",
       "      <th>VSA</th>\n",
       "    </tr>\n",
       "  </thead>\n",
       "  <tbody>\n",
       "    <tr>\n",
       "      <th>0</th>\n",
       "      <td>1</td>\n",
       "      <td>35-44</td>\n",
       "      <td>Female</td>\n",
       "      <td>Professional certificate/ diploma</td>\n",
       "      <td>UK</td>\n",
       "      <td>Mixed-White/Asian</td>\n",
       "      <td>39.0</td>\n",
       "      <td>36.0</td>\n",
       "      <td>42.0</td>\n",
       "      <td>37.0</td>\n",
       "      <td>42.0</td>\n",
       "      <td>-0.21712</td>\n",
       "      <td>-1.18084</td>\n",
       "      <td>Used in Last Week</td>\n",
       "      <td>Used in Last Decade</td>\n",
       "      <td>Never Used</td>\n",
       "      <td>Used in Last Decade</td>\n",
       "      <td>Used in Last Day</td>\n",
       "      <td>Never Used</td>\n",
       "      <td>Used in Last Week</td>\n",
       "      <td>Never Used</td>\n",
       "      <td>Never Used</td>\n",
       "      <td>Never Used</td>\n",
       "      <td>Never Used</td>\n",
       "      <td>Never Used</td>\n",
       "      <td>Never Used</td>\n",
       "      <td>Never Used</td>\n",
       "      <td>Never Used</td>\n",
       "      <td>Never Used</td>\n",
       "      <td>Used in Last Decade</td>\n",
       "      <td>Never Used</td>\n",
       "      <td>Never Used</td>\n",
       "    </tr>\n",
       "    <tr>\n",
       "      <th>1</th>\n",
       "      <td>2</td>\n",
       "      <td>25-34</td>\n",
       "      <td>Male</td>\n",
       "      <td>Doctorate degree</td>\n",
       "      <td>UK</td>\n",
       "      <td>White</td>\n",
       "      <td>29.0</td>\n",
       "      <td>52.0</td>\n",
       "      <td>55.0</td>\n",
       "      <td>48.0</td>\n",
       "      <td>41.0</td>\n",
       "      <td>-0.71126</td>\n",
       "      <td>-0.21575</td>\n",
       "      <td>Used in Last Week</td>\n",
       "      <td>Used in Last Decade</td>\n",
       "      <td>Used in Last Decade</td>\n",
       "      <td>Never Used</td>\n",
       "      <td>Used in Last Day</td>\n",
       "      <td>Used in Last Month</td>\n",
       "      <td>Used in Last Day</td>\n",
       "      <td>Used in Last Year</td>\n",
       "      <td>Never Used</td>\n",
       "      <td>Used in Last Month</td>\n",
       "      <td>Never Used</td>\n",
       "      <td>Used in Last Decade</td>\n",
       "      <td>Never Used</td>\n",
       "      <td>Used in Last Decade</td>\n",
       "      <td>Used in Last Year</td>\n",
       "      <td>Never Used</td>\n",
       "      <td>Used in Last Month</td>\n",
       "      <td>Never Used</td>\n",
       "      <td>Never Used</td>\n",
       "    </tr>\n",
       "    <tr>\n",
       "      <th>2</th>\n",
       "      <td>3</td>\n",
       "      <td>35-44</td>\n",
       "      <td>Male</td>\n",
       "      <td>Professional certificate/ diploma</td>\n",
       "      <td>UK</td>\n",
       "      <td>White</td>\n",
       "      <td>31.0</td>\n",
       "      <td>45.0</td>\n",
       "      <td>40.0</td>\n",
       "      <td>32.0</td>\n",
       "      <td>34.0</td>\n",
       "      <td>-1.37983</td>\n",
       "      <td>0.40148</td>\n",
       "      <td>Used in Last Day</td>\n",
       "      <td>Never Used</td>\n",
       "      <td>Never Used</td>\n",
       "      <td>Never Used</td>\n",
       "      <td>Used in Last Day</td>\n",
       "      <td>Used in Last Year</td>\n",
       "      <td>Used in Last Month</td>\n",
       "      <td>Never Used</td>\n",
       "      <td>Never Used</td>\n",
       "      <td>Never Used</td>\n",
       "      <td>Never Used</td>\n",
       "      <td>Never Used</td>\n",
       "      <td>Never Used</td>\n",
       "      <td>Never Used</td>\n",
       "      <td>Never Used</td>\n",
       "      <td>Used over a Decade Ago</td>\n",
       "      <td>Never Used</td>\n",
       "      <td>Never Used</td>\n",
       "      <td>Never Used</td>\n",
       "    </tr>\n",
       "    <tr>\n",
       "      <th>3</th>\n",
       "      <td>4</td>\n",
       "      <td>18-24</td>\n",
       "      <td>Female</td>\n",
       "      <td>Masters degree</td>\n",
       "      <td>UK</td>\n",
       "      <td>White</td>\n",
       "      <td>34.0</td>\n",
       "      <td>34.0</td>\n",
       "      <td>46.0</td>\n",
       "      <td>47.0</td>\n",
       "      <td>46.0</td>\n",
       "      <td>-1.37983</td>\n",
       "      <td>-1.18084</td>\n",
       "      <td>Used in Last Month</td>\n",
       "      <td>Never Used</td>\n",
       "      <td>Never Used</td>\n",
       "      <td>Used in Last Year</td>\n",
       "      <td>Used in Last Week</td>\n",
       "      <td>Used in Last Decade</td>\n",
       "      <td>Used in Last Month</td>\n",
       "      <td>Used in Last Decade</td>\n",
       "      <td>Never Used</td>\n",
       "      <td>Never Used</td>\n",
       "      <td>Never Used</td>\n",
       "      <td>Used in Last Decade</td>\n",
       "      <td>Never Used</td>\n",
       "      <td>Never Used</td>\n",
       "      <td>Never Used</td>\n",
       "      <td>Never Used</td>\n",
       "      <td>Used in Last Decade</td>\n",
       "      <td>Never Used</td>\n",
       "      <td>Never Used</td>\n",
       "    </tr>\n",
       "    <tr>\n",
       "      <th>4</th>\n",
       "      <td>5</td>\n",
       "      <td>35-44</td>\n",
       "      <td>Female</td>\n",
       "      <td>Doctorate degree</td>\n",
       "      <td>UK</td>\n",
       "      <td>White</td>\n",
       "      <td>43.0</td>\n",
       "      <td>28.0</td>\n",
       "      <td>43.0</td>\n",
       "      <td>41.0</td>\n",
       "      <td>50.0</td>\n",
       "      <td>-0.21712</td>\n",
       "      <td>-0.21575</td>\n",
       "      <td>Used in Last Month</td>\n",
       "      <td>Used over a Decade Ago</td>\n",
       "      <td>Used over a Decade Ago</td>\n",
       "      <td>Never Used</td>\n",
       "      <td>Used in Last Day</td>\n",
       "      <td>Used in Last Year</td>\n",
       "      <td>Used in Last Day</td>\n",
       "      <td>Never Used</td>\n",
       "      <td>Never Used</td>\n",
       "      <td>Used over a Decade Ago</td>\n",
       "      <td>Never Used</td>\n",
       "      <td>Never Used</td>\n",
       "      <td>Used over a Decade Ago</td>\n",
       "      <td>Never Used</td>\n",
       "      <td>Never Used</td>\n",
       "      <td>Used in Last Decade</td>\n",
       "      <td>Used in Last Decade</td>\n",
       "      <td>Never Used</td>\n",
       "      <td>Never Used</td>\n",
       "    </tr>\n",
       "    <tr>\n",
       "      <th>...</th>\n",
       "      <td>...</td>\n",
       "      <td>...</td>\n",
       "      <td>...</td>\n",
       "      <td>...</td>\n",
       "      <td>...</td>\n",
       "      <td>...</td>\n",
       "      <td>...</td>\n",
       "      <td>...</td>\n",
       "      <td>...</td>\n",
       "      <td>...</td>\n",
       "      <td>...</td>\n",
       "      <td>...</td>\n",
       "      <td>...</td>\n",
       "      <td>...</td>\n",
       "      <td>...</td>\n",
       "      <td>...</td>\n",
       "      <td>...</td>\n",
       "      <td>...</td>\n",
       "      <td>...</td>\n",
       "      <td>...</td>\n",
       "      <td>...</td>\n",
       "      <td>...</td>\n",
       "      <td>...</td>\n",
       "      <td>...</td>\n",
       "      <td>...</td>\n",
       "      <td>...</td>\n",
       "      <td>...</td>\n",
       "      <td>...</td>\n",
       "      <td>...</td>\n",
       "      <td>...</td>\n",
       "      <td>...</td>\n",
       "      <td>...</td>\n",
       "    </tr>\n",
       "    <tr>\n",
       "      <th>1880</th>\n",
       "      <td>1884</td>\n",
       "      <td>18-24</td>\n",
       "      <td>Female</td>\n",
       "      <td>Some college or university, no certificate or ...</td>\n",
       "      <td>USA</td>\n",
       "      <td>White</td>\n",
       "      <td>25.0</td>\n",
       "      <td>51.0</td>\n",
       "      <td>57.0</td>\n",
       "      <td>48.0</td>\n",
       "      <td>33.0</td>\n",
       "      <td>0.88113</td>\n",
       "      <td>1.92173</td>\n",
       "      <td>Used in Last Week</td>\n",
       "      <td>Never Used</td>\n",
       "      <td>Never Used</td>\n",
       "      <td>Never Used</td>\n",
       "      <td>Used in Last Month</td>\n",
       "      <td>Used in Last Week</td>\n",
       "      <td>Used in Last Month</td>\n",
       "      <td>Never Used</td>\n",
       "      <td>Never Used</td>\n",
       "      <td>Never Used</td>\n",
       "      <td>Never Used</td>\n",
       "      <td>Never Used</td>\n",
       "      <td>Used in Last Year</td>\n",
       "      <td>Used in Last Year</td>\n",
       "      <td>Never Used</td>\n",
       "      <td>Never Used</td>\n",
       "      <td>Never Used</td>\n",
       "      <td>Never Used</td>\n",
       "      <td>Used in Last Week</td>\n",
       "    </tr>\n",
       "    <tr>\n",
       "      <th>1881</th>\n",
       "      <td>1885</td>\n",
       "      <td>18-24</td>\n",
       "      <td>Male</td>\n",
       "      <td>Some college or university, no certificate or ...</td>\n",
       "      <td>USA</td>\n",
       "      <td>White</td>\n",
       "      <td>33.0</td>\n",
       "      <td>51.0</td>\n",
       "      <td>50.0</td>\n",
       "      <td>48.0</td>\n",
       "      <td>30.0</td>\n",
       "      <td>0.88113</td>\n",
       "      <td>0.76540</td>\n",
       "      <td>Used in Last Week</td>\n",
       "      <td>Never Used</td>\n",
       "      <td>Never Used</td>\n",
       "      <td>Never Used</td>\n",
       "      <td>Used in Last Week</td>\n",
       "      <td>Used in Last Year</td>\n",
       "      <td>Used in Last Month</td>\n",
       "      <td>Never Used</td>\n",
       "      <td>Never Used</td>\n",
       "      <td>Used in Last Decade</td>\n",
       "      <td>Never Used</td>\n",
       "      <td>Never Used</td>\n",
       "      <td>Used in Last Year</td>\n",
       "      <td>Used in Last Week</td>\n",
       "      <td>Used in Last Month</td>\n",
       "      <td>Used in Last Month</td>\n",
       "      <td>Used in Last Week</td>\n",
       "      <td>Never Used</td>\n",
       "      <td>Never Used</td>\n",
       "    </tr>\n",
       "    <tr>\n",
       "      <th>1882</th>\n",
       "      <td>1886</td>\n",
       "      <td>25-34</td>\n",
       "      <td>Female</td>\n",
       "      <td>University degree</td>\n",
       "      <td>USA</td>\n",
       "      <td>White</td>\n",
       "      <td>47.0</td>\n",
       "      <td>30.0</td>\n",
       "      <td>37.0</td>\n",
       "      <td>31.0</td>\n",
       "      <td>31.0</td>\n",
       "      <td>0.52975</td>\n",
       "      <td>-0.52593</td>\n",
       "      <td>Used in Last Month</td>\n",
       "      <td>Used in Last Day</td>\n",
       "      <td>Used in Last Week</td>\n",
       "      <td>Used in Last Week</td>\n",
       "      <td>Used in Last Day</td>\n",
       "      <td>Used in Last Day</td>\n",
       "      <td>Used in Last Day</td>\n",
       "      <td>Used in Last Month</td>\n",
       "      <td>Never Used</td>\n",
       "      <td>Used in Last Month</td>\n",
       "      <td>Never Used</td>\n",
       "      <td>Used in Last Decade</td>\n",
       "      <td>Never Used</td>\n",
       "      <td>Used in Last Decade</td>\n",
       "      <td>Never Used</td>\n",
       "      <td>Used in Last Decade</td>\n",
       "      <td>Used in Last Day</td>\n",
       "      <td>Never Used</td>\n",
       "      <td>Never Used</td>\n",
       "    </tr>\n",
       "    <tr>\n",
       "      <th>1883</th>\n",
       "      <td>1887</td>\n",
       "      <td>18-24</td>\n",
       "      <td>Female</td>\n",
       "      <td>Some college or university, no certificate or ...</td>\n",
       "      <td>USA</td>\n",
       "      <td>White</td>\n",
       "      <td>45.0</td>\n",
       "      <td>26.0</td>\n",
       "      <td>48.0</td>\n",
       "      <td>32.0</td>\n",
       "      <td>22.0</td>\n",
       "      <td>1.29221</td>\n",
       "      <td>1.22470</td>\n",
       "      <td>Used in Last Week</td>\n",
       "      <td>Never Used</td>\n",
       "      <td>Never Used</td>\n",
       "      <td>Never Used</td>\n",
       "      <td>Used in Last Day</td>\n",
       "      <td>Used in Last Day</td>\n",
       "      <td>Used in Last Week</td>\n",
       "      <td>Never Used</td>\n",
       "      <td>Never Used</td>\n",
       "      <td>Used in Last Year</td>\n",
       "      <td>Never Used</td>\n",
       "      <td>Never Used</td>\n",
       "      <td>Used in Last Year</td>\n",
       "      <td>Used in Last Year</td>\n",
       "      <td>Never Used</td>\n",
       "      <td>Used in Last Year</td>\n",
       "      <td>Used in Last Month</td>\n",
       "      <td>Never Used</td>\n",
       "      <td>Never Used</td>\n",
       "    </tr>\n",
       "    <tr>\n",
       "      <th>1884</th>\n",
       "      <td>1888</td>\n",
       "      <td>18-24</td>\n",
       "      <td>Male</td>\n",
       "      <td>Some college or university, no certificate or ...</td>\n",
       "      <td>Republic of Ireland</td>\n",
       "      <td>White</td>\n",
       "      <td>31.0</td>\n",
       "      <td>53.0</td>\n",
       "      <td>56.0</td>\n",
       "      <td>50.0</td>\n",
       "      <td>45.0</td>\n",
       "      <td>0.88113</td>\n",
       "      <td>1.22470</td>\n",
       "      <td>Used in Last Month</td>\n",
       "      <td>Used in Last Year</td>\n",
       "      <td>Never Used</td>\n",
       "      <td>Used in Last Year</td>\n",
       "      <td>Used in Last Day</td>\n",
       "      <td>Used in Last Year</td>\n",
       "      <td>Used in Last Day</td>\n",
       "      <td>Used in Last Year</td>\n",
       "      <td>Never Used</td>\n",
       "      <td>Used in Last Year</td>\n",
       "      <td>Never Used</td>\n",
       "      <td>Never Used</td>\n",
       "      <td>Used in Last Year</td>\n",
       "      <td>Used in Last Year</td>\n",
       "      <td>Never Used</td>\n",
       "      <td>Used in Last Year</td>\n",
       "      <td>Used in Last Day</td>\n",
       "      <td>Never Used</td>\n",
       "      <td>Used in Last Decade</td>\n",
       "    </tr>\n",
       "  </tbody>\n",
       "</table>\n",
       "<p>1885 rows × 32 columns</p>\n",
       "</div>"
      ],
      "text/plain": [
       "        ID    Age  Gender                                          Education  \\\n",
       "0        1  35-44  Female                  Professional certificate/ diploma   \n",
       "1        2  25-34    Male                                   Doctorate degree   \n",
       "2        3  35-44    Male                  Professional certificate/ diploma   \n",
       "3        4  18-24  Female                                     Masters degree   \n",
       "4        5  35-44  Female                                   Doctorate degree   \n",
       "...    ...    ...     ...                                                ...   \n",
       "1880  1884  18-24  Female  Some college or university, no certificate or ...   \n",
       "1881  1885  18-24    Male  Some college or university, no certificate or ...   \n",
       "1882  1886  25-34  Female                                  University degree   \n",
       "1883  1887  18-24  Female  Some college or university, no certificate or ...   \n",
       "1884  1888  18-24    Male  Some college or university, no certificate or ...   \n",
       "\n",
       "                  Country          Ethnicity  Nscore  Escore  Oscore  Ascore  \\\n",
       "0                      UK  Mixed-White/Asian    39.0    36.0    42.0    37.0   \n",
       "1                      UK              White    29.0    52.0    55.0    48.0   \n",
       "2                      UK              White    31.0    45.0    40.0    32.0   \n",
       "3                      UK              White    34.0    34.0    46.0    47.0   \n",
       "4                      UK              White    43.0    28.0    43.0    41.0   \n",
       "...                   ...                ...     ...     ...     ...     ...   \n",
       "1880                  USA              White    25.0    51.0    57.0    48.0   \n",
       "1881                  USA              White    33.0    51.0    50.0    48.0   \n",
       "1882                  USA              White    47.0    30.0    37.0    31.0   \n",
       "1883                  USA              White    45.0    26.0    48.0    32.0   \n",
       "1884  Republic of Ireland              White    31.0    53.0    56.0    50.0   \n",
       "\n",
       "      Cscore  Impulsiveness       SS             Alcohol  \\\n",
       "0       42.0       -0.21712 -1.18084   Used in Last Week   \n",
       "1       41.0       -0.71126 -0.21575   Used in Last Week   \n",
       "2       34.0       -1.37983  0.40148    Used in Last Day   \n",
       "3       46.0       -1.37983 -1.18084  Used in Last Month   \n",
       "4       50.0       -0.21712 -0.21575  Used in Last Month   \n",
       "...      ...            ...      ...                 ...   \n",
       "1880    33.0        0.88113  1.92173   Used in Last Week   \n",
       "1881    30.0        0.88113  0.76540   Used in Last Week   \n",
       "1882    31.0        0.52975 -0.52593  Used in Last Month   \n",
       "1883    22.0        1.29221  1.22470   Used in Last Week   \n",
       "1884    45.0        0.88113  1.22470  Used in Last Month   \n",
       "\n",
       "                      Amphet                    Amyl               Benzos  \\\n",
       "0        Used in Last Decade              Never Used  Used in Last Decade   \n",
       "1        Used in Last Decade     Used in Last Decade           Never Used   \n",
       "2                 Never Used              Never Used           Never Used   \n",
       "3                 Never Used              Never Used    Used in Last Year   \n",
       "4     Used over a Decade Ago  Used over a Decade Ago           Never Used   \n",
       "...                      ...                     ...                  ...   \n",
       "1880              Never Used              Never Used           Never Used   \n",
       "1881              Never Used              Never Used           Never Used   \n",
       "1882        Used in Last Day       Used in Last Week    Used in Last Week   \n",
       "1883              Never Used              Never Used           Never Used   \n",
       "1884       Used in Last Year              Never Used    Used in Last Year   \n",
       "\n",
       "                    Caff             Cannabis                Choc  \\\n",
       "0       Used in Last Day           Never Used   Used in Last Week   \n",
       "1       Used in Last Day   Used in Last Month    Used in Last Day   \n",
       "2       Used in Last Day    Used in Last Year  Used in Last Month   \n",
       "3      Used in Last Week  Used in Last Decade  Used in Last Month   \n",
       "4       Used in Last Day    Used in Last Year    Used in Last Day   \n",
       "...                  ...                  ...                 ...   \n",
       "1880  Used in Last Month    Used in Last Week  Used in Last Month   \n",
       "1881   Used in Last Week    Used in Last Year  Used in Last Month   \n",
       "1882    Used in Last Day     Used in Last Day    Used in Last Day   \n",
       "1883    Used in Last Day     Used in Last Day   Used in Last Week   \n",
       "1884    Used in Last Day    Used in Last Year    Used in Last Day   \n",
       "\n",
       "                     Coke       Crack                 Ecstasy      Heroin  \\\n",
       "0              Never Used  Never Used              Never Used  Never Used   \n",
       "1       Used in Last Year  Never Used      Used in Last Month  Never Used   \n",
       "2              Never Used  Never Used              Never Used  Never Used   \n",
       "3     Used in Last Decade  Never Used              Never Used  Never Used   \n",
       "4              Never Used  Never Used  Used over a Decade Ago  Never Used   \n",
       "...                   ...         ...                     ...         ...   \n",
       "1880           Never Used  Never Used              Never Used  Never Used   \n",
       "1881           Never Used  Never Used     Used in Last Decade  Never Used   \n",
       "1882   Used in Last Month  Never Used      Used in Last Month  Never Used   \n",
       "1883           Never Used  Never Used       Used in Last Year  Never Used   \n",
       "1884    Used in Last Year  Never Used       Used in Last Year  Never Used   \n",
       "\n",
       "                 Ketamine                  LegalH                  LSD  \\\n",
       "0              Never Used              Never Used           Never Used   \n",
       "1     Used in Last Decade              Never Used  Used in Last Decade   \n",
       "2              Never Used              Never Used           Never Used   \n",
       "3     Used in Last Decade              Never Used           Never Used   \n",
       "4              Never Used  Used over a Decade Ago           Never Used   \n",
       "...                   ...                     ...                  ...   \n",
       "1880           Never Used       Used in Last Year    Used in Last Year   \n",
       "1881           Never Used       Used in Last Year    Used in Last Week   \n",
       "1882  Used in Last Decade              Never Used  Used in Last Decade   \n",
       "1883           Never Used       Used in Last Year    Used in Last Year   \n",
       "1884           Never Used       Used in Last Year    Used in Last Year   \n",
       "\n",
       "                    Meth               Mushrooms             Nicotine  \\\n",
       "0             Never Used              Never Used  Used in Last Decade   \n",
       "1      Used in Last Year              Never Used   Used in Last Month   \n",
       "2             Never Used  Used over a Decade Ago           Never Used   \n",
       "3             Never Used              Never Used  Used in Last Decade   \n",
       "4             Never Used     Used in Last Decade  Used in Last Decade   \n",
       "...                  ...                     ...                  ...   \n",
       "1880          Never Used              Never Used           Never Used   \n",
       "1881  Used in Last Month      Used in Last Month    Used in Last Week   \n",
       "1882          Never Used     Used in Last Decade     Used in Last Day   \n",
       "1883          Never Used       Used in Last Year   Used in Last Month   \n",
       "1884          Never Used       Used in Last Year     Used in Last Day   \n",
       "\n",
       "     FakeDrugSemeron                  VSA  \n",
       "0         Never Used           Never Used  \n",
       "1         Never Used           Never Used  \n",
       "2         Never Used           Never Used  \n",
       "3         Never Used           Never Used  \n",
       "4         Never Used           Never Used  \n",
       "...              ...                  ...  \n",
       "1880      Never Used    Used in Last Week  \n",
       "1881      Never Used           Never Used  \n",
       "1882      Never Used           Never Used  \n",
       "1883      Never Used           Never Used  \n",
       "1884      Never Used  Used in Last Decade  \n",
       "\n",
       "[1885 rows x 32 columns]"
      ]
     },
     "execution_count": 5,
     "metadata": {},
     "output_type": "execute_result"
    }
   ],
   "source": [
    "df = pd.read_csv('data/drug_use_renamed_converted.csv')\n",
    "df"
   ]
  },
  {
   "cell_type": "code",
   "execution_count": 6,
   "metadata": {
    "ExecuteTime": {
     "end_time": "2021-05-20T15:39:22.311859Z",
     "start_time": "2021-05-20T15:39:22.269162Z"
    }
   },
   "outputs": [
    {
     "name": "stdout",
     "output_type": "stream",
     "text": [
      "<class 'pandas.core.frame.DataFrame'>\n",
      "RangeIndex: 1885 entries, 0 to 1884\n",
      "Data columns (total 32 columns):\n",
      " #   Column           Dtype  \n",
      "---  ------           -----  \n",
      " 0   ID               int64  \n",
      " 1   Age              object \n",
      " 2   Gender           object \n",
      " 3   Education        object \n",
      " 4   Country          object \n",
      " 5   Ethnicity        object \n",
      " 6   Nscore           float64\n",
      " 7   Escore           float64\n",
      " 8   Oscore           float64\n",
      " 9   Ascore           float64\n",
      " 10  Cscore           float64\n",
      " 11  Impulsiveness    float64\n",
      " 12  SS               float64\n",
      " 13  Alcohol          object \n",
      " 14  Amphet           object \n",
      " 15  Amyl             object \n",
      " 16  Benzos           object \n",
      " 17  Caff             object \n",
      " 18  Cannabis         object \n",
      " 19  Choc             object \n",
      " 20  Coke             object \n",
      " 21  Crack            object \n",
      " 22  Ecstasy          object \n",
      " 23  Heroin           object \n",
      " 24  Ketamine         object \n",
      " 25  LegalH           object \n",
      " 26  LSD              object \n",
      " 27  Meth             object \n",
      " 28  Mushrooms        object \n",
      " 29  Nicotine         object \n",
      " 30  FakeDrugSemeron  object \n",
      " 31  VSA              object \n",
      "dtypes: float64(7), int64(1), object(24)\n",
      "memory usage: 471.4+ KB\n"
     ]
    }
   ],
   "source": [
    "df.info()"
   ]
  },
  {
   "cell_type": "code",
   "execution_count": 7,
   "metadata": {
    "ExecuteTime": {
     "end_time": "2021-05-20T15:39:22.358599Z",
     "start_time": "2021-05-20T15:39:22.314296Z"
    }
   },
   "outputs": [
    {
     "data": {
      "text/plain": [
       "['Alcohol',\n",
       " 'Amphet',\n",
       " 'Amyl',\n",
       " 'Benzos',\n",
       " 'Caff',\n",
       " 'Cannabis',\n",
       " 'Choc',\n",
       " 'Coke',\n",
       " 'Crack',\n",
       " 'Ecstasy',\n",
       " 'Heroin',\n",
       " 'Ketamine',\n",
       " 'LegalH',\n",
       " 'LSD',\n",
       " 'Meth',\n",
       " 'Mushrooms',\n",
       " 'Nicotine',\n",
       " 'FakeDrugSemeron',\n",
       " 'VSA']"
      ]
     },
     "execution_count": 7,
     "metadata": {},
     "output_type": "execute_result"
    }
   ],
   "source": [
    "columns= {0:'ID',1:'Age',2:'Gender',3:'Education',4:'Country',5:'Ethnicity',\n",
    "         6:'Nscore',7:'Escore',8:'Oscore',9:\"Ascore\",10:'Cscore',\n",
    "         11:'Impulsiveness',12:'SS'}\n",
    "\n",
    "drug_dict = {13:'Alcohol', \n",
    "              14: 'Amphet', \n",
    "              15: 'Amyl', \n",
    "              16: 'Benzos', \n",
    "              17: 'Caff', \n",
    "              18: 'Cannabis', \n",
    "              19: 'Choc', \n",
    "              20: 'Coke',\n",
    "              21: 'Crack', \n",
    "              22: 'Ecstasy',\n",
    "              23: 'Heroin', \n",
    "              24: 'Ketamine', \n",
    "              25: 'LegalH', \n",
    "              26: 'LSD',\n",
    "              27: 'Meth',\n",
    "              28: 'Mushrooms', \n",
    "              29: 'Nicotine', \n",
    "              30: \"FakeDrugSemeron\",\n",
    "              31: 'VSA'}\n",
    "\n",
    "all_columns = {**columns, **drug_dict}\n",
    "\n",
    "drug_cols = list(drug_dict.values())\n",
    "drug_cols"
   ]
  },
  {
   "cell_type": "markdown",
   "metadata": {},
   "source": [
    "### Identifying Columns for Preprocessing"
   ]
  },
  {
   "cell_type": "code",
   "execution_count": 8,
   "metadata": {
    "ExecuteTime": {
     "end_time": "2021-05-20T15:39:22.409519Z",
     "start_time": "2021-05-20T15:39:22.362752Z"
    }
   },
   "outputs": [
    {
     "data": {
      "text/plain": [
       "['Age', 'Gender', 'Education', 'Country', 'Ethnicity']"
      ]
     },
     "execution_count": 8,
     "metadata": {},
     "output_type": "execute_result"
    }
   ],
   "source": [
    "object_cols = list(df.drop(columns=drug_cols).select_dtypes('object').columns)\n",
    "object_cols"
   ]
  },
  {
   "cell_type": "code",
   "execution_count": 9,
   "metadata": {
    "ExecuteTime": {
     "end_time": "2021-05-20T15:39:22.452806Z",
     "start_time": "2021-05-20T15:39:22.412335Z"
    }
   },
   "outputs": [],
   "source": [
    "## Column Lists\n",
    "ordinal_cols = ['Age','Education']\n",
    "onehot_cols = ['Gender','Country', 'Ethnicity']"
   ]
  },
  {
   "cell_type": "code",
   "execution_count": 10,
   "metadata": {
    "ExecuteTime": {
     "end_time": "2021-05-20T15:39:22.499696Z",
     "start_time": "2021-05-20T15:39:22.454953Z"
    }
   },
   "outputs": [
    {
     "data": {
      "text/html": [
       "<div>\n",
       "<style scoped>\n",
       "    .dataframe tbody tr th:only-of-type {\n",
       "        vertical-align: middle;\n",
       "    }\n",
       "\n",
       "    .dataframe tbody tr th {\n",
       "        vertical-align: top;\n",
       "    }\n",
       "\n",
       "    .dataframe thead th {\n",
       "        text-align: right;\n",
       "    }\n",
       "</style>\n",
       "<table border=\"1\" class=\"dataframe\">\n",
       "  <thead>\n",
       "    <tr style=\"text-align: right;\">\n",
       "      <th></th>\n",
       "    </tr>\n",
       "  </thead>\n",
       "  <tbody>\n",
       "    <tr>\n",
       "      <th>0</th>\n",
       "    </tr>\n",
       "    <tr>\n",
       "      <th>1</th>\n",
       "    </tr>\n",
       "    <tr>\n",
       "      <th>2</th>\n",
       "    </tr>\n",
       "    <tr>\n",
       "      <th>3</th>\n",
       "    </tr>\n",
       "    <tr>\n",
       "      <th>4</th>\n",
       "    </tr>\n",
       "    <tr>\n",
       "      <th>...</th>\n",
       "    </tr>\n",
       "    <tr>\n",
       "      <th>1880</th>\n",
       "    </tr>\n",
       "    <tr>\n",
       "      <th>1881</th>\n",
       "    </tr>\n",
       "    <tr>\n",
       "      <th>1882</th>\n",
       "    </tr>\n",
       "    <tr>\n",
       "      <th>1883</th>\n",
       "    </tr>\n",
       "    <tr>\n",
       "      <th>1884</th>\n",
       "    </tr>\n",
       "  </tbody>\n",
       "</table>\n",
       "<p>1885 rows × 0 columns</p>\n",
       "</div>"
      ],
      "text/plain": [
       "Empty DataFrame\n",
       "Columns: []\n",
       "Index: [0, 1, 2, 3, 4, 5, 6, 7, 8, 9, 10, 11, 12, 13, 14, 15, 16, 17, 18, 19, 20, 21, 22, 23, 24, 25, 26, 27, 28, 29, 30, 31, 32, 33, 34, 35, 36, 37, 38, 39, 40, 41, 42, 43, 44, 45, 46, 47, 48, 49, 50, 51, 52, 53, 54, 55, 56, 57, 58, 59, 60, 61, 62, 63, 64, 65, 66, 67, 68, 69, 70, 71, 72, 73, 74, 75, 76, 77, 78, 79, 80, 81, 82, 83, 84, 85, 86, 87, 88, 89, 90, 91, 92, 93, 94, 95, 96, 97, 98, 99, ...]\n",
       "\n",
       "[1885 rows x 0 columns]"
      ]
     },
     "execution_count": 10,
     "metadata": {},
     "output_type": "execute_result"
    }
   ],
   "source": [
    "df.select_dtypes('object').drop(columns=[*drug_cols,*ordinal_cols,*onehot_cols])"
   ]
  },
  {
   "cell_type": "markdown",
   "metadata": {},
   "source": [
    "## Feature Engineering"
   ]
  },
  {
   "cell_type": "markdown",
   "metadata": {},
   "source": [
    "### How to treat drug cols?"
   ]
  },
  {
   "cell_type": "markdown",
   "metadata": {},
   "source": [
    "- Either encode as ordinal or bin into 3 bins ('never used','previous user','current user')"
   ]
  },
  {
   "cell_type": "code",
   "execution_count": 11,
   "metadata": {
    "ExecuteTime": {
     "end_time": "2021-05-20T15:39:22.534328Z",
     "start_time": "2021-05-20T15:39:22.501224Z"
    }
   },
   "outputs": [
    {
     "data": {
      "text/plain": [
       "Never Used                1605\n",
       "Used in Last Decade         94\n",
       "Used over a Decade Ago      68\n",
       "Used in Last Year           65\n",
       "Used in Last Month          24\n",
       "Used in Last Week           16\n",
       "Used in Last Day            13\n",
       "Name: Heroin, dtype: int64"
      ]
     },
     "execution_count": 11,
     "metadata": {},
     "output_type": "execute_result"
    }
   ],
   "source": [
    "df['Heroin'].value_counts()"
   ]
  },
  {
   "cell_type": "code",
   "execution_count": 12,
   "metadata": {
    "ExecuteTime": {
     "end_time": "2021-05-20T15:39:22.567323Z",
     "start_time": "2021-05-20T15:39:22.536138Z"
    }
   },
   "outputs": [
    {
     "data": {
      "text/plain": [
       "array(['Never Used', 'Used over a Decade Ago', 'Used in Last Decade',\n",
       "       'Used in Last Year', 'Used in Last Week', 'Used in Last Day',\n",
       "       'Used in Last Month'], dtype=object)"
      ]
     },
     "execution_count": 12,
     "metadata": {},
     "output_type": "execute_result"
    }
   ],
   "source": [
    "df['Heroin'].unique()"
   ]
  },
  {
   "cell_type": "markdown",
   "metadata": {},
   "source": [
    "## Making New df for processing"
   ]
  },
  {
   "cell_type": "code",
   "execution_count": 13,
   "metadata": {
    "ExecuteTime": {
     "end_time": "2021-05-20T15:39:22.599355Z",
     "start_time": "2021-05-20T15:39:22.568925Z"
    }
   },
   "outputs": [],
   "source": [
    "df2 = df.copy()"
   ]
  },
  {
   "cell_type": "markdown",
   "metadata": {},
   "source": [
    "### Encoding Categorical Features (Ordinal)"
   ]
  },
  {
   "cell_type": "code",
   "execution_count": 14,
   "metadata": {
    "ExecuteTime": {
     "end_time": "2021-05-20T15:39:22.632299Z",
     "start_time": "2021-05-20T15:39:22.601060Z"
    }
   },
   "outputs": [
    {
     "data": {
      "text/plain": [
       "['Age', 'Education']"
      ]
     },
     "execution_count": 14,
     "metadata": {},
     "output_type": "execute_result"
    }
   ],
   "source": [
    "ordinal_cols"
   ]
  },
  {
   "cell_type": "markdown",
   "metadata": {},
   "source": [
    "### Age"
   ]
  },
  {
   "cell_type": "code",
   "execution_count": 15,
   "metadata": {
    "ExecuteTime": {
     "end_time": "2021-05-20T15:39:22.663464Z",
     "start_time": "2021-05-20T15:39:22.633675Z"
    }
   },
   "outputs": [],
   "source": [
    "## Making age map\n",
    "age_map = {'18-24': 20,\n",
    "           '25-34':30,\n",
    "           '35-44':40, \n",
    "           '45-54':50,\n",
    "           '55-64':60,\n",
    "           '65+':70}"
   ]
  },
  {
   "cell_type": "code",
   "execution_count": 16,
   "metadata": {
    "ExecuteTime": {
     "end_time": "2021-05-20T15:39:22.698971Z",
     "start_time": "2021-05-20T15:39:22.664751Z"
    }
   },
   "outputs": [
    {
     "data": {
      "text/plain": [
       "20    643\n",
       "30    481\n",
       "40    356\n",
       "50    294\n",
       "60     93\n",
       "70     18\n",
       "Name: Age, dtype: int64"
      ]
     },
     "execution_count": 16,
     "metadata": {},
     "output_type": "execute_result"
    }
   ],
   "source": [
    "df2['Age'] = df['Age'].replace(age_map)#.value_counts(dropna=False)\n",
    "df2['Age'].value_counts(dropna=False)"
   ]
  },
  {
   "cell_type": "markdown",
   "metadata": {},
   "source": [
    "### Education"
   ]
  },
  {
   "cell_type": "code",
   "execution_count": 17,
   "metadata": {
    "ExecuteTime": {
     "end_time": "2021-05-20T15:39:22.739262Z",
     "start_time": "2021-05-20T15:39:22.700545Z"
    }
   },
   "outputs": [
    {
     "data": {
      "text/plain": [
       "Some college or university, no certificate or degree    506\n",
       "University degree                                       480\n",
       "Masters degree                                          283\n",
       "Professional certificate/ diploma                       270\n",
       "Left school at 18 years                                 100\n",
       "Left school at 16 years                                  99\n",
       "Doctorate degree                                         89\n",
       "Left school at 17 years                                  30\n",
       "Left school before 16 years                              28\n",
       "Name: Education, dtype: int64"
      ]
     },
     "execution_count": 17,
     "metadata": {},
     "output_type": "execute_result"
    }
   ],
   "source": [
    "df['Education'].value_counts(dropna=False)"
   ]
  },
  {
   "cell_type": "code",
   "execution_count": 18,
   "metadata": {
    "ExecuteTime": {
     "end_time": "2021-05-20T15:39:22.776777Z",
     "start_time": "2021-05-20T15:39:22.741607Z"
    }
   },
   "outputs": [
    {
     "data": {
      "text/plain": [
       "4    506\n",
       "6    480\n",
       "7    283\n",
       "5    270\n",
       "3    100\n",
       "1     99\n",
       "8     89\n",
       "2     30\n",
       "0     28\n",
       "Name: Education, dtype: int64"
      ]
     },
     "execution_count": 18,
     "metadata": {},
     "output_type": "execute_result"
    }
   ],
   "source": [
    "education_map = {\"Left school before 16 years\":0, \n",
    "                 \"Left school at 16 years\":1, \n",
    "                 \"Left school at 17 years\":2,\n",
    "                 \"Left school at 18 years\":3,\n",
    "                 \"Some college or university, no certificate or degree\":4,\n",
    "                 \"Professional certificate/ diploma\":5,\n",
    "                 \"University degree\":6, \"Masters degree\":7, \"Doctorate degree\":8}\n",
    "\n",
    "df2[\"Education\"] = df['Education'].replace(education_map)\n",
    "df2['Education'].value_counts(dropna=False)"
   ]
  },
  {
   "cell_type": "code",
   "execution_count": 19,
   "metadata": {
    "ExecuteTime": {
     "end_time": "2021-05-20T15:39:22.832911Z",
     "start_time": "2021-05-20T15:39:22.778025Z"
    }
   },
   "outputs": [
    {
     "data": {
      "text/html": [
       "<div>\n",
       "<style scoped>\n",
       "    .dataframe tbody tr th:only-of-type {\n",
       "        vertical-align: middle;\n",
       "    }\n",
       "\n",
       "    .dataframe tbody tr th {\n",
       "        vertical-align: top;\n",
       "    }\n",
       "\n",
       "    .dataframe thead th {\n",
       "        text-align: right;\n",
       "    }\n",
       "</style>\n",
       "<table border=\"1\" class=\"dataframe\">\n",
       "  <thead>\n",
       "    <tr style=\"text-align: right;\">\n",
       "      <th></th>\n",
       "      <th>ID</th>\n",
       "      <th>Age</th>\n",
       "      <th>Gender</th>\n",
       "      <th>Education</th>\n",
       "      <th>Country</th>\n",
       "      <th>Ethnicity</th>\n",
       "      <th>Nscore</th>\n",
       "      <th>Escore</th>\n",
       "      <th>Oscore</th>\n",
       "      <th>Ascore</th>\n",
       "      <th>Cscore</th>\n",
       "      <th>Impulsiveness</th>\n",
       "      <th>SS</th>\n",
       "      <th>Alcohol</th>\n",
       "      <th>Amphet</th>\n",
       "      <th>Amyl</th>\n",
       "      <th>Benzos</th>\n",
       "      <th>Caff</th>\n",
       "      <th>Cannabis</th>\n",
       "      <th>Choc</th>\n",
       "      <th>Coke</th>\n",
       "      <th>Crack</th>\n",
       "      <th>Ecstasy</th>\n",
       "      <th>Heroin</th>\n",
       "      <th>Ketamine</th>\n",
       "      <th>LegalH</th>\n",
       "      <th>LSD</th>\n",
       "      <th>Meth</th>\n",
       "      <th>Mushrooms</th>\n",
       "      <th>Nicotine</th>\n",
       "      <th>FakeDrugSemeron</th>\n",
       "      <th>VSA</th>\n",
       "    </tr>\n",
       "  </thead>\n",
       "  <tbody>\n",
       "    <tr>\n",
       "      <th>0</th>\n",
       "      <td>1</td>\n",
       "      <td>40</td>\n",
       "      <td>Female</td>\n",
       "      <td>5</td>\n",
       "      <td>UK</td>\n",
       "      <td>Mixed-White/Asian</td>\n",
       "      <td>39.0</td>\n",
       "      <td>36.0</td>\n",
       "      <td>42.0</td>\n",
       "      <td>37.0</td>\n",
       "      <td>42.0</td>\n",
       "      <td>-0.21712</td>\n",
       "      <td>-1.18084</td>\n",
       "      <td>Used in Last Week</td>\n",
       "      <td>Used in Last Decade</td>\n",
       "      <td>Never Used</td>\n",
       "      <td>Used in Last Decade</td>\n",
       "      <td>Used in Last Day</td>\n",
       "      <td>Never Used</td>\n",
       "      <td>Used in Last Week</td>\n",
       "      <td>Never Used</td>\n",
       "      <td>Never Used</td>\n",
       "      <td>Never Used</td>\n",
       "      <td>Never Used</td>\n",
       "      <td>Never Used</td>\n",
       "      <td>Never Used</td>\n",
       "      <td>Never Used</td>\n",
       "      <td>Never Used</td>\n",
       "      <td>Never Used</td>\n",
       "      <td>Used in Last Decade</td>\n",
       "      <td>Never Used</td>\n",
       "      <td>Never Used</td>\n",
       "    </tr>\n",
       "    <tr>\n",
       "      <th>1</th>\n",
       "      <td>2</td>\n",
       "      <td>30</td>\n",
       "      <td>Male</td>\n",
       "      <td>8</td>\n",
       "      <td>UK</td>\n",
       "      <td>White</td>\n",
       "      <td>29.0</td>\n",
       "      <td>52.0</td>\n",
       "      <td>55.0</td>\n",
       "      <td>48.0</td>\n",
       "      <td>41.0</td>\n",
       "      <td>-0.71126</td>\n",
       "      <td>-0.21575</td>\n",
       "      <td>Used in Last Week</td>\n",
       "      <td>Used in Last Decade</td>\n",
       "      <td>Used in Last Decade</td>\n",
       "      <td>Never Used</td>\n",
       "      <td>Used in Last Day</td>\n",
       "      <td>Used in Last Month</td>\n",
       "      <td>Used in Last Day</td>\n",
       "      <td>Used in Last Year</td>\n",
       "      <td>Never Used</td>\n",
       "      <td>Used in Last Month</td>\n",
       "      <td>Never Used</td>\n",
       "      <td>Used in Last Decade</td>\n",
       "      <td>Never Used</td>\n",
       "      <td>Used in Last Decade</td>\n",
       "      <td>Used in Last Year</td>\n",
       "      <td>Never Used</td>\n",
       "      <td>Used in Last Month</td>\n",
       "      <td>Never Used</td>\n",
       "      <td>Never Used</td>\n",
       "    </tr>\n",
       "    <tr>\n",
       "      <th>2</th>\n",
       "      <td>3</td>\n",
       "      <td>40</td>\n",
       "      <td>Male</td>\n",
       "      <td>5</td>\n",
       "      <td>UK</td>\n",
       "      <td>White</td>\n",
       "      <td>31.0</td>\n",
       "      <td>45.0</td>\n",
       "      <td>40.0</td>\n",
       "      <td>32.0</td>\n",
       "      <td>34.0</td>\n",
       "      <td>-1.37983</td>\n",
       "      <td>0.40148</td>\n",
       "      <td>Used in Last Day</td>\n",
       "      <td>Never Used</td>\n",
       "      <td>Never Used</td>\n",
       "      <td>Never Used</td>\n",
       "      <td>Used in Last Day</td>\n",
       "      <td>Used in Last Year</td>\n",
       "      <td>Used in Last Month</td>\n",
       "      <td>Never Used</td>\n",
       "      <td>Never Used</td>\n",
       "      <td>Never Used</td>\n",
       "      <td>Never Used</td>\n",
       "      <td>Never Used</td>\n",
       "      <td>Never Used</td>\n",
       "      <td>Never Used</td>\n",
       "      <td>Never Used</td>\n",
       "      <td>Used over a Decade Ago</td>\n",
       "      <td>Never Used</td>\n",
       "      <td>Never Used</td>\n",
       "      <td>Never Used</td>\n",
       "    </tr>\n",
       "    <tr>\n",
       "      <th>3</th>\n",
       "      <td>4</td>\n",
       "      <td>20</td>\n",
       "      <td>Female</td>\n",
       "      <td>7</td>\n",
       "      <td>UK</td>\n",
       "      <td>White</td>\n",
       "      <td>34.0</td>\n",
       "      <td>34.0</td>\n",
       "      <td>46.0</td>\n",
       "      <td>47.0</td>\n",
       "      <td>46.0</td>\n",
       "      <td>-1.37983</td>\n",
       "      <td>-1.18084</td>\n",
       "      <td>Used in Last Month</td>\n",
       "      <td>Never Used</td>\n",
       "      <td>Never Used</td>\n",
       "      <td>Used in Last Year</td>\n",
       "      <td>Used in Last Week</td>\n",
       "      <td>Used in Last Decade</td>\n",
       "      <td>Used in Last Month</td>\n",
       "      <td>Used in Last Decade</td>\n",
       "      <td>Never Used</td>\n",
       "      <td>Never Used</td>\n",
       "      <td>Never Used</td>\n",
       "      <td>Used in Last Decade</td>\n",
       "      <td>Never Used</td>\n",
       "      <td>Never Used</td>\n",
       "      <td>Never Used</td>\n",
       "      <td>Never Used</td>\n",
       "      <td>Used in Last Decade</td>\n",
       "      <td>Never Used</td>\n",
       "      <td>Never Used</td>\n",
       "    </tr>\n",
       "    <tr>\n",
       "      <th>4</th>\n",
       "      <td>5</td>\n",
       "      <td>40</td>\n",
       "      <td>Female</td>\n",
       "      <td>8</td>\n",
       "      <td>UK</td>\n",
       "      <td>White</td>\n",
       "      <td>43.0</td>\n",
       "      <td>28.0</td>\n",
       "      <td>43.0</td>\n",
       "      <td>41.0</td>\n",
       "      <td>50.0</td>\n",
       "      <td>-0.21712</td>\n",
       "      <td>-0.21575</td>\n",
       "      <td>Used in Last Month</td>\n",
       "      <td>Used over a Decade Ago</td>\n",
       "      <td>Used over a Decade Ago</td>\n",
       "      <td>Never Used</td>\n",
       "      <td>Used in Last Day</td>\n",
       "      <td>Used in Last Year</td>\n",
       "      <td>Used in Last Day</td>\n",
       "      <td>Never Used</td>\n",
       "      <td>Never Used</td>\n",
       "      <td>Used over a Decade Ago</td>\n",
       "      <td>Never Used</td>\n",
       "      <td>Never Used</td>\n",
       "      <td>Used over a Decade Ago</td>\n",
       "      <td>Never Used</td>\n",
       "      <td>Never Used</td>\n",
       "      <td>Used in Last Decade</td>\n",
       "      <td>Used in Last Decade</td>\n",
       "      <td>Never Used</td>\n",
       "      <td>Never Used</td>\n",
       "    </tr>\n",
       "    <tr>\n",
       "      <th>...</th>\n",
       "      <td>...</td>\n",
       "      <td>...</td>\n",
       "      <td>...</td>\n",
       "      <td>...</td>\n",
       "      <td>...</td>\n",
       "      <td>...</td>\n",
       "      <td>...</td>\n",
       "      <td>...</td>\n",
       "      <td>...</td>\n",
       "      <td>...</td>\n",
       "      <td>...</td>\n",
       "      <td>...</td>\n",
       "      <td>...</td>\n",
       "      <td>...</td>\n",
       "      <td>...</td>\n",
       "      <td>...</td>\n",
       "      <td>...</td>\n",
       "      <td>...</td>\n",
       "      <td>...</td>\n",
       "      <td>...</td>\n",
       "      <td>...</td>\n",
       "      <td>...</td>\n",
       "      <td>...</td>\n",
       "      <td>...</td>\n",
       "      <td>...</td>\n",
       "      <td>...</td>\n",
       "      <td>...</td>\n",
       "      <td>...</td>\n",
       "      <td>...</td>\n",
       "      <td>...</td>\n",
       "      <td>...</td>\n",
       "      <td>...</td>\n",
       "    </tr>\n",
       "    <tr>\n",
       "      <th>1880</th>\n",
       "      <td>1884</td>\n",
       "      <td>20</td>\n",
       "      <td>Female</td>\n",
       "      <td>4</td>\n",
       "      <td>USA</td>\n",
       "      <td>White</td>\n",
       "      <td>25.0</td>\n",
       "      <td>51.0</td>\n",
       "      <td>57.0</td>\n",
       "      <td>48.0</td>\n",
       "      <td>33.0</td>\n",
       "      <td>0.88113</td>\n",
       "      <td>1.92173</td>\n",
       "      <td>Used in Last Week</td>\n",
       "      <td>Never Used</td>\n",
       "      <td>Never Used</td>\n",
       "      <td>Never Used</td>\n",
       "      <td>Used in Last Month</td>\n",
       "      <td>Used in Last Week</td>\n",
       "      <td>Used in Last Month</td>\n",
       "      <td>Never Used</td>\n",
       "      <td>Never Used</td>\n",
       "      <td>Never Used</td>\n",
       "      <td>Never Used</td>\n",
       "      <td>Never Used</td>\n",
       "      <td>Used in Last Year</td>\n",
       "      <td>Used in Last Year</td>\n",
       "      <td>Never Used</td>\n",
       "      <td>Never Used</td>\n",
       "      <td>Never Used</td>\n",
       "      <td>Never Used</td>\n",
       "      <td>Used in Last Week</td>\n",
       "    </tr>\n",
       "    <tr>\n",
       "      <th>1881</th>\n",
       "      <td>1885</td>\n",
       "      <td>20</td>\n",
       "      <td>Male</td>\n",
       "      <td>4</td>\n",
       "      <td>USA</td>\n",
       "      <td>White</td>\n",
       "      <td>33.0</td>\n",
       "      <td>51.0</td>\n",
       "      <td>50.0</td>\n",
       "      <td>48.0</td>\n",
       "      <td>30.0</td>\n",
       "      <td>0.88113</td>\n",
       "      <td>0.76540</td>\n",
       "      <td>Used in Last Week</td>\n",
       "      <td>Never Used</td>\n",
       "      <td>Never Used</td>\n",
       "      <td>Never Used</td>\n",
       "      <td>Used in Last Week</td>\n",
       "      <td>Used in Last Year</td>\n",
       "      <td>Used in Last Month</td>\n",
       "      <td>Never Used</td>\n",
       "      <td>Never Used</td>\n",
       "      <td>Used in Last Decade</td>\n",
       "      <td>Never Used</td>\n",
       "      <td>Never Used</td>\n",
       "      <td>Used in Last Year</td>\n",
       "      <td>Used in Last Week</td>\n",
       "      <td>Used in Last Month</td>\n",
       "      <td>Used in Last Month</td>\n",
       "      <td>Used in Last Week</td>\n",
       "      <td>Never Used</td>\n",
       "      <td>Never Used</td>\n",
       "    </tr>\n",
       "    <tr>\n",
       "      <th>1882</th>\n",
       "      <td>1886</td>\n",
       "      <td>30</td>\n",
       "      <td>Female</td>\n",
       "      <td>6</td>\n",
       "      <td>USA</td>\n",
       "      <td>White</td>\n",
       "      <td>47.0</td>\n",
       "      <td>30.0</td>\n",
       "      <td>37.0</td>\n",
       "      <td>31.0</td>\n",
       "      <td>31.0</td>\n",
       "      <td>0.52975</td>\n",
       "      <td>-0.52593</td>\n",
       "      <td>Used in Last Month</td>\n",
       "      <td>Used in Last Day</td>\n",
       "      <td>Used in Last Week</td>\n",
       "      <td>Used in Last Week</td>\n",
       "      <td>Used in Last Day</td>\n",
       "      <td>Used in Last Day</td>\n",
       "      <td>Used in Last Day</td>\n",
       "      <td>Used in Last Month</td>\n",
       "      <td>Never Used</td>\n",
       "      <td>Used in Last Month</td>\n",
       "      <td>Never Used</td>\n",
       "      <td>Used in Last Decade</td>\n",
       "      <td>Never Used</td>\n",
       "      <td>Used in Last Decade</td>\n",
       "      <td>Never Used</td>\n",
       "      <td>Used in Last Decade</td>\n",
       "      <td>Used in Last Day</td>\n",
       "      <td>Never Used</td>\n",
       "      <td>Never Used</td>\n",
       "    </tr>\n",
       "    <tr>\n",
       "      <th>1883</th>\n",
       "      <td>1887</td>\n",
       "      <td>20</td>\n",
       "      <td>Female</td>\n",
       "      <td>4</td>\n",
       "      <td>USA</td>\n",
       "      <td>White</td>\n",
       "      <td>45.0</td>\n",
       "      <td>26.0</td>\n",
       "      <td>48.0</td>\n",
       "      <td>32.0</td>\n",
       "      <td>22.0</td>\n",
       "      <td>1.29221</td>\n",
       "      <td>1.22470</td>\n",
       "      <td>Used in Last Week</td>\n",
       "      <td>Never Used</td>\n",
       "      <td>Never Used</td>\n",
       "      <td>Never Used</td>\n",
       "      <td>Used in Last Day</td>\n",
       "      <td>Used in Last Day</td>\n",
       "      <td>Used in Last Week</td>\n",
       "      <td>Never Used</td>\n",
       "      <td>Never Used</td>\n",
       "      <td>Used in Last Year</td>\n",
       "      <td>Never Used</td>\n",
       "      <td>Never Used</td>\n",
       "      <td>Used in Last Year</td>\n",
       "      <td>Used in Last Year</td>\n",
       "      <td>Never Used</td>\n",
       "      <td>Used in Last Year</td>\n",
       "      <td>Used in Last Month</td>\n",
       "      <td>Never Used</td>\n",
       "      <td>Never Used</td>\n",
       "    </tr>\n",
       "    <tr>\n",
       "      <th>1884</th>\n",
       "      <td>1888</td>\n",
       "      <td>20</td>\n",
       "      <td>Male</td>\n",
       "      <td>4</td>\n",
       "      <td>Republic of Ireland</td>\n",
       "      <td>White</td>\n",
       "      <td>31.0</td>\n",
       "      <td>53.0</td>\n",
       "      <td>56.0</td>\n",
       "      <td>50.0</td>\n",
       "      <td>45.0</td>\n",
       "      <td>0.88113</td>\n",
       "      <td>1.22470</td>\n",
       "      <td>Used in Last Month</td>\n",
       "      <td>Used in Last Year</td>\n",
       "      <td>Never Used</td>\n",
       "      <td>Used in Last Year</td>\n",
       "      <td>Used in Last Day</td>\n",
       "      <td>Used in Last Year</td>\n",
       "      <td>Used in Last Day</td>\n",
       "      <td>Used in Last Year</td>\n",
       "      <td>Never Used</td>\n",
       "      <td>Used in Last Year</td>\n",
       "      <td>Never Used</td>\n",
       "      <td>Never Used</td>\n",
       "      <td>Used in Last Year</td>\n",
       "      <td>Used in Last Year</td>\n",
       "      <td>Never Used</td>\n",
       "      <td>Used in Last Year</td>\n",
       "      <td>Used in Last Day</td>\n",
       "      <td>Never Used</td>\n",
       "      <td>Used in Last Decade</td>\n",
       "    </tr>\n",
       "  </tbody>\n",
       "</table>\n",
       "<p>1885 rows × 32 columns</p>\n",
       "</div>"
      ],
      "text/plain": [
       "        ID  Age  Gender  Education              Country          Ethnicity  \\\n",
       "0        1   40  Female          5                   UK  Mixed-White/Asian   \n",
       "1        2   30    Male          8                   UK              White   \n",
       "2        3   40    Male          5                   UK              White   \n",
       "3        4   20  Female          7                   UK              White   \n",
       "4        5   40  Female          8                   UK              White   \n",
       "...    ...  ...     ...        ...                  ...                ...   \n",
       "1880  1884   20  Female          4                  USA              White   \n",
       "1881  1885   20    Male          4                  USA              White   \n",
       "1882  1886   30  Female          6                  USA              White   \n",
       "1883  1887   20  Female          4                  USA              White   \n",
       "1884  1888   20    Male          4  Republic of Ireland              White   \n",
       "\n",
       "      Nscore  Escore  Oscore  Ascore  Cscore  Impulsiveness       SS  \\\n",
       "0       39.0    36.0    42.0    37.0    42.0       -0.21712 -1.18084   \n",
       "1       29.0    52.0    55.0    48.0    41.0       -0.71126 -0.21575   \n",
       "2       31.0    45.0    40.0    32.0    34.0       -1.37983  0.40148   \n",
       "3       34.0    34.0    46.0    47.0    46.0       -1.37983 -1.18084   \n",
       "4       43.0    28.0    43.0    41.0    50.0       -0.21712 -0.21575   \n",
       "...      ...     ...     ...     ...     ...            ...      ...   \n",
       "1880    25.0    51.0    57.0    48.0    33.0        0.88113  1.92173   \n",
       "1881    33.0    51.0    50.0    48.0    30.0        0.88113  0.76540   \n",
       "1882    47.0    30.0    37.0    31.0    31.0        0.52975 -0.52593   \n",
       "1883    45.0    26.0    48.0    32.0    22.0        1.29221  1.22470   \n",
       "1884    31.0    53.0    56.0    50.0    45.0        0.88113  1.22470   \n",
       "\n",
       "                 Alcohol                  Amphet                    Amyl  \\\n",
       "0      Used in Last Week     Used in Last Decade              Never Used   \n",
       "1      Used in Last Week     Used in Last Decade     Used in Last Decade   \n",
       "2       Used in Last Day              Never Used              Never Used   \n",
       "3     Used in Last Month              Never Used              Never Used   \n",
       "4     Used in Last Month  Used over a Decade Ago  Used over a Decade Ago   \n",
       "...                  ...                     ...                     ...   \n",
       "1880   Used in Last Week              Never Used              Never Used   \n",
       "1881   Used in Last Week              Never Used              Never Used   \n",
       "1882  Used in Last Month        Used in Last Day       Used in Last Week   \n",
       "1883   Used in Last Week              Never Used              Never Used   \n",
       "1884  Used in Last Month       Used in Last Year              Never Used   \n",
       "\n",
       "                   Benzos                Caff             Cannabis  \\\n",
       "0     Used in Last Decade    Used in Last Day           Never Used   \n",
       "1              Never Used    Used in Last Day   Used in Last Month   \n",
       "2              Never Used    Used in Last Day    Used in Last Year   \n",
       "3       Used in Last Year   Used in Last Week  Used in Last Decade   \n",
       "4              Never Used    Used in Last Day    Used in Last Year   \n",
       "...                   ...                 ...                  ...   \n",
       "1880           Never Used  Used in Last Month    Used in Last Week   \n",
       "1881           Never Used   Used in Last Week    Used in Last Year   \n",
       "1882    Used in Last Week    Used in Last Day     Used in Last Day   \n",
       "1883           Never Used    Used in Last Day     Used in Last Day   \n",
       "1884    Used in Last Year    Used in Last Day    Used in Last Year   \n",
       "\n",
       "                    Choc                 Coke       Crack  \\\n",
       "0      Used in Last Week           Never Used  Never Used   \n",
       "1       Used in Last Day    Used in Last Year  Never Used   \n",
       "2     Used in Last Month           Never Used  Never Used   \n",
       "3     Used in Last Month  Used in Last Decade  Never Used   \n",
       "4       Used in Last Day           Never Used  Never Used   \n",
       "...                  ...                  ...         ...   \n",
       "1880  Used in Last Month           Never Used  Never Used   \n",
       "1881  Used in Last Month           Never Used  Never Used   \n",
       "1882    Used in Last Day   Used in Last Month  Never Used   \n",
       "1883   Used in Last Week           Never Used  Never Used   \n",
       "1884    Used in Last Day    Used in Last Year  Never Used   \n",
       "\n",
       "                     Ecstasy      Heroin             Ketamine  \\\n",
       "0                 Never Used  Never Used           Never Used   \n",
       "1         Used in Last Month  Never Used  Used in Last Decade   \n",
       "2                 Never Used  Never Used           Never Used   \n",
       "3                 Never Used  Never Used  Used in Last Decade   \n",
       "4     Used over a Decade Ago  Never Used           Never Used   \n",
       "...                      ...         ...                  ...   \n",
       "1880              Never Used  Never Used           Never Used   \n",
       "1881     Used in Last Decade  Never Used           Never Used   \n",
       "1882      Used in Last Month  Never Used  Used in Last Decade   \n",
       "1883       Used in Last Year  Never Used           Never Used   \n",
       "1884       Used in Last Year  Never Used           Never Used   \n",
       "\n",
       "                      LegalH                  LSD                Meth  \\\n",
       "0                 Never Used           Never Used          Never Used   \n",
       "1                 Never Used  Used in Last Decade   Used in Last Year   \n",
       "2                 Never Used           Never Used          Never Used   \n",
       "3                 Never Used           Never Used          Never Used   \n",
       "4     Used over a Decade Ago           Never Used          Never Used   \n",
       "...                      ...                  ...                 ...   \n",
       "1880       Used in Last Year    Used in Last Year          Never Used   \n",
       "1881       Used in Last Year    Used in Last Week  Used in Last Month   \n",
       "1882              Never Used  Used in Last Decade          Never Used   \n",
       "1883       Used in Last Year    Used in Last Year          Never Used   \n",
       "1884       Used in Last Year    Used in Last Year          Never Used   \n",
       "\n",
       "                   Mushrooms             Nicotine FakeDrugSemeron  \\\n",
       "0                 Never Used  Used in Last Decade      Never Used   \n",
       "1                 Never Used   Used in Last Month      Never Used   \n",
       "2     Used over a Decade Ago           Never Used      Never Used   \n",
       "3                 Never Used  Used in Last Decade      Never Used   \n",
       "4        Used in Last Decade  Used in Last Decade      Never Used   \n",
       "...                      ...                  ...             ...   \n",
       "1880              Never Used           Never Used      Never Used   \n",
       "1881      Used in Last Month    Used in Last Week      Never Used   \n",
       "1882     Used in Last Decade     Used in Last Day      Never Used   \n",
       "1883       Used in Last Year   Used in Last Month      Never Used   \n",
       "1884       Used in Last Year     Used in Last Day      Never Used   \n",
       "\n",
       "                      VSA  \n",
       "0              Never Used  \n",
       "1              Never Used  \n",
       "2              Never Used  \n",
       "3              Never Used  \n",
       "4              Never Used  \n",
       "...                   ...  \n",
       "1880    Used in Last Week  \n",
       "1881           Never Used  \n",
       "1882           Never Used  \n",
       "1883           Never Used  \n",
       "1884  Used in Last Decade  \n",
       "\n",
       "[1885 rows x 32 columns]"
      ]
     },
     "execution_count": 19,
     "metadata": {},
     "output_type": "execute_result"
    }
   ],
   "source": [
    "df2"
   ]
  },
  {
   "cell_type": "markdown",
   "metadata": {},
   "source": [
    "### Binning Drug Use"
   ]
  },
  {
   "cell_type": "code",
   "execution_count": 20,
   "metadata": {
    "ExecuteTime": {
     "end_time": "2021-05-20T15:39:22.866119Z",
     "start_time": "2021-05-20T15:39:22.834280Z"
    }
   },
   "outputs": [
    {
     "data": {
      "text/plain": [
       "{'Never Used': 'Non-User',\n",
       " 'Used over a Decade Ago': 'Non-User',\n",
       " 'Used in Last Decade': 'User',\n",
       " 'Used in Last Year': 'User',\n",
       " 'Used in Last Week': 'User',\n",
       " 'Used in Last Day': 'User',\n",
       " 'Used in Last Month': 'User'}"
      ]
     },
     "execution_count": 20,
     "metadata": {},
     "output_type": "execute_result"
    }
   ],
   "source": [
    "druguse_cat_map = {'Never Used':'Non-User' , \n",
    " 'Used over a Decade Ago': 'Non-User',\n",
    " 'Used in Last Decade':\"User\" ,\n",
    " 'Used in Last Year': \"User\",\n",
    " 'Used in Last Week': \"User\", \n",
    " 'Used in Last Day': \"User\",\n",
    " 'Used in Last Month':\"User\"}\n",
    "druguse_cat_map"
   ]
  },
  {
   "cell_type": "code",
   "execution_count": 21,
   "metadata": {
    "ExecuteTime": {
     "end_time": "2021-05-20T15:39:22.917755Z",
     "start_time": "2021-05-20T15:39:22.867466Z"
    }
   },
   "outputs": [],
   "source": [
    "## Remapping Drug Use columns to binary\n",
    "drug_features = drug_cols.copy()\n",
    "drug_features.remove('Heroin')\n",
    "for col in drug_features:\n",
    "    df2[col] = df[col].replace(druguse_cat_map)\n",
    "#     display(df2[col].value_counts(normalize=True, dropna=False))"
   ]
  },
  {
   "cell_type": "markdown",
   "metadata": {},
   "source": [
    "### Making a Binary and Multi-Label Drug Use Target for Heroin"
   ]
  },
  {
   "cell_type": "code",
   "execution_count": 22,
   "metadata": {
    "ExecuteTime": {
     "end_time": "2021-05-20T15:39:22.954372Z",
     "start_time": "2021-05-20T15:39:22.919851Z"
    }
   },
   "outputs": [
    {
     "data": {
      "text/plain": [
       "Never Used                0.851459\n",
       "Used in Last Decade       0.049867\n",
       "Used over a Decade Ago    0.036074\n",
       "Used in Last Year         0.034483\n",
       "Used in Last Month        0.012732\n",
       "Used in Last Week         0.008488\n",
       "Used in Last Day          0.006897\n",
       "Name: Heroin, dtype: float64"
      ]
     },
     "execution_count": 22,
     "metadata": {},
     "output_type": "execute_result"
    }
   ],
   "source": [
    "df2['Heroin'].value_counts(1)"
   ]
  },
  {
   "cell_type": "code",
   "execution_count": 23,
   "metadata": {
    "ExecuteTime": {
     "end_time": "2021-05-20T15:39:23.000182Z",
     "start_time": "2021-05-20T15:39:22.959943Z"
    }
   },
   "outputs": [
    {
     "data": {
      "text/plain": [
       "Non-User    0.887533\n",
       "User        0.112467\n",
       "Name: Heroin_binary, dtype: float64"
      ]
     },
     "execution_count": 23,
     "metadata": {},
     "output_type": "execute_result"
    }
   ],
   "source": [
    "df2['Heroin_binary'] = df['Heroin'].map(druguse_cat_map)\n",
    "df2['Heroin_binary'].value_counts(1,dropna=False)"
   ]
  },
  {
   "cell_type": "code",
   "execution_count": 24,
   "metadata": {
    "ExecuteTime": {
     "end_time": "2021-05-20T15:39:23.045457Z",
     "start_time": "2021-05-20T15:39:23.004833Z"
    }
   },
   "outputs": [
    {
     "data": {
      "text/plain": [
       "Non-User       0.851459\n",
       "Former User    0.085942\n",
       "User           0.062599\n",
       "Name: Heroin_multi, dtype: float64"
      ]
     },
     "execution_count": 24,
     "metadata": {},
     "output_type": "execute_result"
    }
   ],
   "source": [
    "## REmappign target to 3 classes\n",
    "multi_label_map = {'Never Used':'Non-User' , \n",
    " 'Used over a Decade Ago': 'Former User',\n",
    " 'Used in Last Decade':'Former User' ,\n",
    " 'Used in Last Year': \"User\",\n",
    " 'Used in Last Week': \"User\", \n",
    " 'Used in Last Day': \"User\",\n",
    " 'Used in Last Month':\"User\"}\n",
    "\n",
    "\n",
    "df2['Heroin_multi'] = df['Heroin'].map(multi_label_map)\n",
    "df2['Heroin_multi'].value_counts(1,dropna=False)"
   ]
  },
  {
   "cell_type": "markdown",
   "metadata": {},
   "source": [
    "# Preprocessing"
   ]
  },
  {
   "cell_type": "code",
   "execution_count": 25,
   "metadata": {
    "ExecuteTime": {
     "end_time": "2021-05-20T15:39:23.101136Z",
     "start_time": "2021-05-20T15:39:23.047074Z"
    }
   },
   "outputs": [
    {
     "data": {
      "text/html": [
       "<div>\n",
       "<style scoped>\n",
       "    .dataframe tbody tr th:only-of-type {\n",
       "        vertical-align: middle;\n",
       "    }\n",
       "\n",
       "    .dataframe tbody tr th {\n",
       "        vertical-align: top;\n",
       "    }\n",
       "\n",
       "    .dataframe thead th {\n",
       "        text-align: right;\n",
       "    }\n",
       "</style>\n",
       "<table border=\"1\" class=\"dataframe\">\n",
       "  <thead>\n",
       "    <tr style=\"text-align: right;\">\n",
       "      <th></th>\n",
       "      <th>ID</th>\n",
       "      <th>Age</th>\n",
       "      <th>Gender</th>\n",
       "      <th>Education</th>\n",
       "      <th>Country</th>\n",
       "      <th>Ethnicity</th>\n",
       "      <th>Nscore</th>\n",
       "      <th>Escore</th>\n",
       "      <th>Oscore</th>\n",
       "      <th>Ascore</th>\n",
       "      <th>Cscore</th>\n",
       "      <th>Impulsiveness</th>\n",
       "      <th>SS</th>\n",
       "      <th>Alcohol</th>\n",
       "      <th>Amphet</th>\n",
       "      <th>Amyl</th>\n",
       "      <th>Benzos</th>\n",
       "      <th>Caff</th>\n",
       "      <th>Cannabis</th>\n",
       "      <th>Choc</th>\n",
       "      <th>Coke</th>\n",
       "      <th>Crack</th>\n",
       "      <th>Ecstasy</th>\n",
       "      <th>Heroin</th>\n",
       "      <th>Ketamine</th>\n",
       "      <th>LegalH</th>\n",
       "      <th>LSD</th>\n",
       "      <th>Meth</th>\n",
       "      <th>Mushrooms</th>\n",
       "      <th>Nicotine</th>\n",
       "      <th>FakeDrugSemeron</th>\n",
       "      <th>VSA</th>\n",
       "      <th>Heroin_binary</th>\n",
       "      <th>Heroin_multi</th>\n",
       "    </tr>\n",
       "  </thead>\n",
       "  <tbody>\n",
       "    <tr>\n",
       "      <th>0</th>\n",
       "      <td>1</td>\n",
       "      <td>40</td>\n",
       "      <td>Female</td>\n",
       "      <td>5</td>\n",
       "      <td>UK</td>\n",
       "      <td>Mixed-White/Asian</td>\n",
       "      <td>39.0</td>\n",
       "      <td>36.0</td>\n",
       "      <td>42.0</td>\n",
       "      <td>37.0</td>\n",
       "      <td>42.0</td>\n",
       "      <td>-0.21712</td>\n",
       "      <td>-1.18084</td>\n",
       "      <td>User</td>\n",
       "      <td>User</td>\n",
       "      <td>Non-User</td>\n",
       "      <td>User</td>\n",
       "      <td>User</td>\n",
       "      <td>Non-User</td>\n",
       "      <td>User</td>\n",
       "      <td>Non-User</td>\n",
       "      <td>Non-User</td>\n",
       "      <td>Non-User</td>\n",
       "      <td>Never Used</td>\n",
       "      <td>Non-User</td>\n",
       "      <td>Non-User</td>\n",
       "      <td>Non-User</td>\n",
       "      <td>Non-User</td>\n",
       "      <td>Non-User</td>\n",
       "      <td>User</td>\n",
       "      <td>Non-User</td>\n",
       "      <td>Non-User</td>\n",
       "      <td>Non-User</td>\n",
       "      <td>Non-User</td>\n",
       "    </tr>\n",
       "    <tr>\n",
       "      <th>1</th>\n",
       "      <td>2</td>\n",
       "      <td>30</td>\n",
       "      <td>Male</td>\n",
       "      <td>8</td>\n",
       "      <td>UK</td>\n",
       "      <td>White</td>\n",
       "      <td>29.0</td>\n",
       "      <td>52.0</td>\n",
       "      <td>55.0</td>\n",
       "      <td>48.0</td>\n",
       "      <td>41.0</td>\n",
       "      <td>-0.71126</td>\n",
       "      <td>-0.21575</td>\n",
       "      <td>User</td>\n",
       "      <td>User</td>\n",
       "      <td>User</td>\n",
       "      <td>Non-User</td>\n",
       "      <td>User</td>\n",
       "      <td>User</td>\n",
       "      <td>User</td>\n",
       "      <td>User</td>\n",
       "      <td>Non-User</td>\n",
       "      <td>User</td>\n",
       "      <td>Never Used</td>\n",
       "      <td>User</td>\n",
       "      <td>Non-User</td>\n",
       "      <td>User</td>\n",
       "      <td>User</td>\n",
       "      <td>Non-User</td>\n",
       "      <td>User</td>\n",
       "      <td>Non-User</td>\n",
       "      <td>Non-User</td>\n",
       "      <td>Non-User</td>\n",
       "      <td>Non-User</td>\n",
       "    </tr>\n",
       "  </tbody>\n",
       "</table>\n",
       "</div>"
      ],
      "text/plain": [
       "   ID  Age  Gender  Education Country          Ethnicity  Nscore  Escore  \\\n",
       "0   1   40  Female          5      UK  Mixed-White/Asian    39.0    36.0   \n",
       "1   2   30    Male          8      UK              White    29.0    52.0   \n",
       "\n",
       "   Oscore  Ascore  Cscore  Impulsiveness       SS Alcohol Amphet      Amyl  \\\n",
       "0    42.0    37.0    42.0       -0.21712 -1.18084    User   User  Non-User   \n",
       "1    55.0    48.0    41.0       -0.71126 -0.21575    User   User      User   \n",
       "\n",
       "     Benzos  Caff  Cannabis  Choc      Coke     Crack   Ecstasy      Heroin  \\\n",
       "0      User  User  Non-User  User  Non-User  Non-User  Non-User  Never Used   \n",
       "1  Non-User  User      User  User      User  Non-User      User  Never Used   \n",
       "\n",
       "   Ketamine    LegalH       LSD      Meth Mushrooms Nicotine FakeDrugSemeron  \\\n",
       "0  Non-User  Non-User  Non-User  Non-User  Non-User     User        Non-User   \n",
       "1      User  Non-User      User      User  Non-User     User        Non-User   \n",
       "\n",
       "        VSA Heroin_binary Heroin_multi  \n",
       "0  Non-User      Non-User     Non-User  \n",
       "1  Non-User      Non-User     Non-User  "
      ]
     },
     "execution_count": 25,
     "metadata": {},
     "output_type": "execute_result"
    }
   ],
   "source": [
    "df2.head(2)"
   ]
  },
  {
   "cell_type": "code",
   "execution_count": 26,
   "metadata": {
    "ExecuteTime": {
     "end_time": "2021-05-20T15:39:23.140279Z",
     "start_time": "2021-05-20T15:39:23.102724Z"
    }
   },
   "outputs": [
    {
     "data": {
      "text/plain": [
       "0       Non-User\n",
       "1       Non-User\n",
       "2       Non-User\n",
       "3       Non-User\n",
       "4       Non-User\n",
       "          ...   \n",
       "1880    Non-User\n",
       "1881    Non-User\n",
       "1882    Non-User\n",
       "1883    Non-User\n",
       "1884    Non-User\n",
       "Name: Heroin_binary, Length: 1885, dtype: object"
      ]
     },
     "execution_count": 26,
     "metadata": {},
     "output_type": "execute_result"
    }
   ],
   "source": [
    "df2['Heroin_binary']"
   ]
  },
  {
   "cell_type": "code",
   "execution_count": 27,
   "metadata": {
    "ExecuteTime": {
     "end_time": "2021-05-20T15:39:23.187907Z",
     "start_time": "2021-05-20T15:39:23.141979Z"
    }
   },
   "outputs": [
    {
     "name": "stdout",
     "output_type": "stream",
     "text": [
      "Created Binary Target\n"
     ]
    },
    {
     "data": {
      "text/plain": [
       "0    0.887533\n",
       "1    0.112467\n",
       "Name: Heroin_binary, dtype: float64"
      ]
     },
     "execution_count": 27,
     "metadata": {},
     "output_type": "execute_result"
    }
   ],
   "source": [
    "## Specifying root names of types of features to loop through and filter out from df\n",
    "BINARY_TARGET = True\n",
    "\n",
    "\n",
    "drop_cols = ['ID',\"Heroin\"]\n",
    "\n",
    "if BINARY_TARGET:\n",
    "    target='Heroin_binary'\n",
    "    drop_cols.append('Heroin_multi')\n",
    "    target_map = {'Non-User':0, 'User':1}\n",
    "    print(\"Created Binary Target\")\n",
    "else:\n",
    "    target='Heroin_multi'\n",
    "    drop_cols.append('Heroin_binary')\n",
    "    target_map = {'Non-User':0, 'Former User':1, 'User':2}\n",
    "    print(\"Created Multi-Class Target\")\n",
    "    \n",
    "\n",
    "\n",
    "\n",
    "\n",
    "y = df2[target].map(target_map).copy()\n",
    "X = df2.drop(columns=[target,*drop_cols]).copy()\n",
    "y.value_counts(1,dropna=False)"
   ]
  },
  {
   "cell_type": "code",
   "execution_count": 28,
   "metadata": {
    "ExecuteTime": {
     "end_time": "2021-05-20T15:39:23.260826Z",
     "start_time": "2021-05-20T15:39:23.189867Z"
    }
   },
   "outputs": [
    {
     "data": {
      "text/html": [
       "<div>\n",
       "<style scoped>\n",
       "    .dataframe tbody tr th:only-of-type {\n",
       "        vertical-align: middle;\n",
       "    }\n",
       "\n",
       "    .dataframe tbody tr th {\n",
       "        vertical-align: top;\n",
       "    }\n",
       "\n",
       "    .dataframe thead th {\n",
       "        text-align: right;\n",
       "    }\n",
       "</style>\n",
       "<table border=\"1\" class=\"dataframe\">\n",
       "  <thead>\n",
       "    <tr style=\"text-align: right;\">\n",
       "      <th></th>\n",
       "      <th>Age</th>\n",
       "      <th>Gender</th>\n",
       "      <th>Education</th>\n",
       "      <th>Country</th>\n",
       "      <th>Ethnicity</th>\n",
       "      <th>Nscore</th>\n",
       "      <th>Escore</th>\n",
       "      <th>Oscore</th>\n",
       "      <th>Ascore</th>\n",
       "      <th>Cscore</th>\n",
       "      <th>Impulsiveness</th>\n",
       "      <th>SS</th>\n",
       "      <th>Alcohol</th>\n",
       "      <th>Amphet</th>\n",
       "      <th>Amyl</th>\n",
       "      <th>Benzos</th>\n",
       "      <th>Caff</th>\n",
       "      <th>Cannabis</th>\n",
       "      <th>Choc</th>\n",
       "      <th>Coke</th>\n",
       "      <th>Crack</th>\n",
       "      <th>Ecstasy</th>\n",
       "      <th>Ketamine</th>\n",
       "      <th>LegalH</th>\n",
       "      <th>LSD</th>\n",
       "      <th>Meth</th>\n",
       "      <th>Mushrooms</th>\n",
       "      <th>Nicotine</th>\n",
       "      <th>FakeDrugSemeron</th>\n",
       "      <th>VSA</th>\n",
       "    </tr>\n",
       "  </thead>\n",
       "  <tbody>\n",
       "    <tr>\n",
       "      <th>138</th>\n",
       "      <td>60</td>\n",
       "      <td>Male</td>\n",
       "      <td>6</td>\n",
       "      <td>UK</td>\n",
       "      <td>White</td>\n",
       "      <td>31.0</td>\n",
       "      <td>34.0</td>\n",
       "      <td>47.0</td>\n",
       "      <td>45.0</td>\n",
       "      <td>48.0</td>\n",
       "      <td>-1.37983</td>\n",
       "      <td>-1.18084</td>\n",
       "      <td>User</td>\n",
       "      <td>Non-User</td>\n",
       "      <td>Non-User</td>\n",
       "      <td>User</td>\n",
       "      <td>User</td>\n",
       "      <td>Non-User</td>\n",
       "      <td>User</td>\n",
       "      <td>Non-User</td>\n",
       "      <td>Non-User</td>\n",
       "      <td>Non-User</td>\n",
       "      <td>Non-User</td>\n",
       "      <td>Non-User</td>\n",
       "      <td>Non-User</td>\n",
       "      <td>User</td>\n",
       "      <td>Non-User</td>\n",
       "      <td>User</td>\n",
       "      <td>Non-User</td>\n",
       "      <td>Non-User</td>\n",
       "    </tr>\n",
       "    <tr>\n",
       "      <th>1666</th>\n",
       "      <td>40</td>\n",
       "      <td>Female</td>\n",
       "      <td>6</td>\n",
       "      <td>Australia</td>\n",
       "      <td>White</td>\n",
       "      <td>25.0</td>\n",
       "      <td>36.0</td>\n",
       "      <td>41.0</td>\n",
       "      <td>46.0</td>\n",
       "      <td>48.0</td>\n",
       "      <td>0.88113</td>\n",
       "      <td>0.76540</td>\n",
       "      <td>User</td>\n",
       "      <td>Non-User</td>\n",
       "      <td>Non-User</td>\n",
       "      <td>Non-User</td>\n",
       "      <td>User</td>\n",
       "      <td>Non-User</td>\n",
       "      <td>User</td>\n",
       "      <td>Non-User</td>\n",
       "      <td>Non-User</td>\n",
       "      <td>Non-User</td>\n",
       "      <td>Non-User</td>\n",
       "      <td>Non-User</td>\n",
       "      <td>Non-User</td>\n",
       "      <td>Non-User</td>\n",
       "      <td>Non-User</td>\n",
       "      <td>Non-User</td>\n",
       "      <td>Non-User</td>\n",
       "      <td>Non-User</td>\n",
       "    </tr>\n",
       "    <tr>\n",
       "      <th>1508</th>\n",
       "      <td>20</td>\n",
       "      <td>Male</td>\n",
       "      <td>6</td>\n",
       "      <td>USA</td>\n",
       "      <td>White</td>\n",
       "      <td>43.0</td>\n",
       "      <td>34.0</td>\n",
       "      <td>56.0</td>\n",
       "      <td>44.0</td>\n",
       "      <td>32.0</td>\n",
       "      <td>-0.21712</td>\n",
       "      <td>-0.52593</td>\n",
       "      <td>User</td>\n",
       "      <td>User</td>\n",
       "      <td>Non-User</td>\n",
       "      <td>User</td>\n",
       "      <td>User</td>\n",
       "      <td>User</td>\n",
       "      <td>User</td>\n",
       "      <td>User</td>\n",
       "      <td>Non-User</td>\n",
       "      <td>User</td>\n",
       "      <td>Non-User</td>\n",
       "      <td>User</td>\n",
       "      <td>User</td>\n",
       "      <td>Non-User</td>\n",
       "      <td>User</td>\n",
       "      <td>User</td>\n",
       "      <td>Non-User</td>\n",
       "      <td>Non-User</td>\n",
       "    </tr>\n",
       "    <tr>\n",
       "      <th>721</th>\n",
       "      <td>30</td>\n",
       "      <td>Female</td>\n",
       "      <td>6</td>\n",
       "      <td>UK</td>\n",
       "      <td>White</td>\n",
       "      <td>27.0</td>\n",
       "      <td>49.0</td>\n",
       "      <td>48.0</td>\n",
       "      <td>49.0</td>\n",
       "      <td>46.0</td>\n",
       "      <td>0.19268</td>\n",
       "      <td>-0.52593</td>\n",
       "      <td>User</td>\n",
       "      <td>Non-User</td>\n",
       "      <td>Non-User</td>\n",
       "      <td>Non-User</td>\n",
       "      <td>User</td>\n",
       "      <td>User</td>\n",
       "      <td>User</td>\n",
       "      <td>Non-User</td>\n",
       "      <td>Non-User</td>\n",
       "      <td>Non-User</td>\n",
       "      <td>Non-User</td>\n",
       "      <td>Non-User</td>\n",
       "      <td>Non-User</td>\n",
       "      <td>Non-User</td>\n",
       "      <td>Non-User</td>\n",
       "      <td>Non-User</td>\n",
       "      <td>Non-User</td>\n",
       "      <td>Non-User</td>\n",
       "    </tr>\n",
       "    <tr>\n",
       "      <th>1265</th>\n",
       "      <td>40</td>\n",
       "      <td>Female</td>\n",
       "      <td>6</td>\n",
       "      <td>UK</td>\n",
       "      <td>White</td>\n",
       "      <td>40.0</td>\n",
       "      <td>40.0</td>\n",
       "      <td>38.0</td>\n",
       "      <td>32.0</td>\n",
       "      <td>42.0</td>\n",
       "      <td>0.19268</td>\n",
       "      <td>0.40148</td>\n",
       "      <td>User</td>\n",
       "      <td>User</td>\n",
       "      <td>Non-User</td>\n",
       "      <td>Non-User</td>\n",
       "      <td>User</td>\n",
       "      <td>Non-User</td>\n",
       "      <td>User</td>\n",
       "      <td>User</td>\n",
       "      <td>Non-User</td>\n",
       "      <td>User</td>\n",
       "      <td>Non-User</td>\n",
       "      <td>Non-User</td>\n",
       "      <td>Non-User</td>\n",
       "      <td>Non-User</td>\n",
       "      <td>Non-User</td>\n",
       "      <td>Non-User</td>\n",
       "      <td>Non-User</td>\n",
       "      <td>Non-User</td>\n",
       "    </tr>\n",
       "    <tr>\n",
       "      <th>...</th>\n",
       "      <td>...</td>\n",
       "      <td>...</td>\n",
       "      <td>...</td>\n",
       "      <td>...</td>\n",
       "      <td>...</td>\n",
       "      <td>...</td>\n",
       "      <td>...</td>\n",
       "      <td>...</td>\n",
       "      <td>...</td>\n",
       "      <td>...</td>\n",
       "      <td>...</td>\n",
       "      <td>...</td>\n",
       "      <td>...</td>\n",
       "      <td>...</td>\n",
       "      <td>...</td>\n",
       "      <td>...</td>\n",
       "      <td>...</td>\n",
       "      <td>...</td>\n",
       "      <td>...</td>\n",
       "      <td>...</td>\n",
       "      <td>...</td>\n",
       "      <td>...</td>\n",
       "      <td>...</td>\n",
       "      <td>...</td>\n",
       "      <td>...</td>\n",
       "      <td>...</td>\n",
       "      <td>...</td>\n",
       "      <td>...</td>\n",
       "      <td>...</td>\n",
       "      <td>...</td>\n",
       "    </tr>\n",
       "    <tr>\n",
       "      <th>618</th>\n",
       "      <td>60</td>\n",
       "      <td>Male</td>\n",
       "      <td>7</td>\n",
       "      <td>UK</td>\n",
       "      <td>White</td>\n",
       "      <td>29.0</td>\n",
       "      <td>33.0</td>\n",
       "      <td>51.0</td>\n",
       "      <td>37.0</td>\n",
       "      <td>46.0</td>\n",
       "      <td>-1.37983</td>\n",
       "      <td>-0.84637</td>\n",
       "      <td>User</td>\n",
       "      <td>Non-User</td>\n",
       "      <td>Non-User</td>\n",
       "      <td>Non-User</td>\n",
       "      <td>User</td>\n",
       "      <td>Non-User</td>\n",
       "      <td>User</td>\n",
       "      <td>Non-User</td>\n",
       "      <td>Non-User</td>\n",
       "      <td>Non-User</td>\n",
       "      <td>Non-User</td>\n",
       "      <td>Non-User</td>\n",
       "      <td>Non-User</td>\n",
       "      <td>Non-User</td>\n",
       "      <td>Non-User</td>\n",
       "      <td>Non-User</td>\n",
       "      <td>Non-User</td>\n",
       "      <td>Non-User</td>\n",
       "    </tr>\n",
       "    <tr>\n",
       "      <th>250</th>\n",
       "      <td>50</td>\n",
       "      <td>Male</td>\n",
       "      <td>6</td>\n",
       "      <td>UK</td>\n",
       "      <td>White</td>\n",
       "      <td>31.0</td>\n",
       "      <td>41.0</td>\n",
       "      <td>44.0</td>\n",
       "      <td>40.0</td>\n",
       "      <td>51.0</td>\n",
       "      <td>0.19268</td>\n",
       "      <td>-0.84637</td>\n",
       "      <td>User</td>\n",
       "      <td>Non-User</td>\n",
       "      <td>Non-User</td>\n",
       "      <td>Non-User</td>\n",
       "      <td>User</td>\n",
       "      <td>Non-User</td>\n",
       "      <td>User</td>\n",
       "      <td>Non-User</td>\n",
       "      <td>Non-User</td>\n",
       "      <td>Non-User</td>\n",
       "      <td>Non-User</td>\n",
       "      <td>Non-User</td>\n",
       "      <td>Non-User</td>\n",
       "      <td>Non-User</td>\n",
       "      <td>Non-User</td>\n",
       "      <td>Non-User</td>\n",
       "      <td>Non-User</td>\n",
       "      <td>Non-User</td>\n",
       "    </tr>\n",
       "    <tr>\n",
       "      <th>141</th>\n",
       "      <td>40</td>\n",
       "      <td>Female</td>\n",
       "      <td>1</td>\n",
       "      <td>UK</td>\n",
       "      <td>White</td>\n",
       "      <td>28.0</td>\n",
       "      <td>44.0</td>\n",
       "      <td>38.0</td>\n",
       "      <td>51.0</td>\n",
       "      <td>46.0</td>\n",
       "      <td>-1.37983</td>\n",
       "      <td>-2.07848</td>\n",
       "      <td>User</td>\n",
       "      <td>Non-User</td>\n",
       "      <td>Non-User</td>\n",
       "      <td>Non-User</td>\n",
       "      <td>User</td>\n",
       "      <td>Non-User</td>\n",
       "      <td>User</td>\n",
       "      <td>Non-User</td>\n",
       "      <td>Non-User</td>\n",
       "      <td>Non-User</td>\n",
       "      <td>Non-User</td>\n",
       "      <td>Non-User</td>\n",
       "      <td>Non-User</td>\n",
       "      <td>Non-User</td>\n",
       "      <td>Non-User</td>\n",
       "      <td>User</td>\n",
       "      <td>Non-User</td>\n",
       "      <td>Non-User</td>\n",
       "    </tr>\n",
       "    <tr>\n",
       "      <th>1803</th>\n",
       "      <td>40</td>\n",
       "      <td>Female</td>\n",
       "      <td>5</td>\n",
       "      <td>USA</td>\n",
       "      <td>White</td>\n",
       "      <td>36.0</td>\n",
       "      <td>34.0</td>\n",
       "      <td>40.0</td>\n",
       "      <td>42.0</td>\n",
       "      <td>33.0</td>\n",
       "      <td>0.52975</td>\n",
       "      <td>-1.18084</td>\n",
       "      <td>User</td>\n",
       "      <td>User</td>\n",
       "      <td>Non-User</td>\n",
       "      <td>User</td>\n",
       "      <td>User</td>\n",
       "      <td>User</td>\n",
       "      <td>User</td>\n",
       "      <td>User</td>\n",
       "      <td>Non-User</td>\n",
       "      <td>Non-User</td>\n",
       "      <td>Non-User</td>\n",
       "      <td>Non-User</td>\n",
       "      <td>Non-User</td>\n",
       "      <td>Non-User</td>\n",
       "      <td>Non-User</td>\n",
       "      <td>Non-User</td>\n",
       "      <td>Non-User</td>\n",
       "      <td>Non-User</td>\n",
       "    </tr>\n",
       "    <tr>\n",
       "      <th>337</th>\n",
       "      <td>40</td>\n",
       "      <td>Male</td>\n",
       "      <td>8</td>\n",
       "      <td>UK</td>\n",
       "      <td>White</td>\n",
       "      <td>20.0</td>\n",
       "      <td>48.0</td>\n",
       "      <td>48.0</td>\n",
       "      <td>48.0</td>\n",
       "      <td>51.0</td>\n",
       "      <td>-0.21712</td>\n",
       "      <td>0.40148</td>\n",
       "      <td>User</td>\n",
       "      <td>Non-User</td>\n",
       "      <td>Non-User</td>\n",
       "      <td>Non-User</td>\n",
       "      <td>Non-User</td>\n",
       "      <td>Non-User</td>\n",
       "      <td>User</td>\n",
       "      <td>Non-User</td>\n",
       "      <td>Non-User</td>\n",
       "      <td>Non-User</td>\n",
       "      <td>Non-User</td>\n",
       "      <td>Non-User</td>\n",
       "      <td>Non-User</td>\n",
       "      <td>Non-User</td>\n",
       "      <td>Non-User</td>\n",
       "      <td>Non-User</td>\n",
       "      <td>Non-User</td>\n",
       "      <td>Non-User</td>\n",
       "    </tr>\n",
       "  </tbody>\n",
       "</table>\n",
       "<p>1413 rows × 30 columns</p>\n",
       "</div>"
      ],
      "text/plain": [
       "      Age  Gender  Education    Country Ethnicity  Nscore  Escore  Oscore  \\\n",
       "138    60    Male          6         UK     White    31.0    34.0    47.0   \n",
       "1666   40  Female          6  Australia     White    25.0    36.0    41.0   \n",
       "1508   20    Male          6        USA     White    43.0    34.0    56.0   \n",
       "721    30  Female          6         UK     White    27.0    49.0    48.0   \n",
       "1265   40  Female          6         UK     White    40.0    40.0    38.0   \n",
       "...   ...     ...        ...        ...       ...     ...     ...     ...   \n",
       "618    60    Male          7         UK     White    29.0    33.0    51.0   \n",
       "250    50    Male          6         UK     White    31.0    41.0    44.0   \n",
       "141    40  Female          1         UK     White    28.0    44.0    38.0   \n",
       "1803   40  Female          5        USA     White    36.0    34.0    40.0   \n",
       "337    40    Male          8         UK     White    20.0    48.0    48.0   \n",
       "\n",
       "      Ascore  Cscore  Impulsiveness       SS Alcohol    Amphet      Amyl  \\\n",
       "138     45.0    48.0       -1.37983 -1.18084    User  Non-User  Non-User   \n",
       "1666    46.0    48.0        0.88113  0.76540    User  Non-User  Non-User   \n",
       "1508    44.0    32.0       -0.21712 -0.52593    User      User  Non-User   \n",
       "721     49.0    46.0        0.19268 -0.52593    User  Non-User  Non-User   \n",
       "1265    32.0    42.0        0.19268  0.40148    User      User  Non-User   \n",
       "...      ...     ...            ...      ...     ...       ...       ...   \n",
       "618     37.0    46.0       -1.37983 -0.84637    User  Non-User  Non-User   \n",
       "250     40.0    51.0        0.19268 -0.84637    User  Non-User  Non-User   \n",
       "141     51.0    46.0       -1.37983 -2.07848    User  Non-User  Non-User   \n",
       "1803    42.0    33.0        0.52975 -1.18084    User      User  Non-User   \n",
       "337     48.0    51.0       -0.21712  0.40148    User  Non-User  Non-User   \n",
       "\n",
       "        Benzos      Caff  Cannabis  Choc      Coke     Crack   Ecstasy  \\\n",
       "138       User      User  Non-User  User  Non-User  Non-User  Non-User   \n",
       "1666  Non-User      User  Non-User  User  Non-User  Non-User  Non-User   \n",
       "1508      User      User      User  User      User  Non-User      User   \n",
       "721   Non-User      User      User  User  Non-User  Non-User  Non-User   \n",
       "1265  Non-User      User  Non-User  User      User  Non-User      User   \n",
       "...        ...       ...       ...   ...       ...       ...       ...   \n",
       "618   Non-User      User  Non-User  User  Non-User  Non-User  Non-User   \n",
       "250   Non-User      User  Non-User  User  Non-User  Non-User  Non-User   \n",
       "141   Non-User      User  Non-User  User  Non-User  Non-User  Non-User   \n",
       "1803      User      User      User  User      User  Non-User  Non-User   \n",
       "337   Non-User  Non-User  Non-User  User  Non-User  Non-User  Non-User   \n",
       "\n",
       "      Ketamine    LegalH       LSD      Meth Mushrooms  Nicotine  \\\n",
       "138   Non-User  Non-User  Non-User      User  Non-User      User   \n",
       "1666  Non-User  Non-User  Non-User  Non-User  Non-User  Non-User   \n",
       "1508  Non-User      User      User  Non-User      User      User   \n",
       "721   Non-User  Non-User  Non-User  Non-User  Non-User  Non-User   \n",
       "1265  Non-User  Non-User  Non-User  Non-User  Non-User  Non-User   \n",
       "...        ...       ...       ...       ...       ...       ...   \n",
       "618   Non-User  Non-User  Non-User  Non-User  Non-User  Non-User   \n",
       "250   Non-User  Non-User  Non-User  Non-User  Non-User  Non-User   \n",
       "141   Non-User  Non-User  Non-User  Non-User  Non-User      User   \n",
       "1803  Non-User  Non-User  Non-User  Non-User  Non-User  Non-User   \n",
       "337   Non-User  Non-User  Non-User  Non-User  Non-User  Non-User   \n",
       "\n",
       "     FakeDrugSemeron       VSA  \n",
       "138         Non-User  Non-User  \n",
       "1666        Non-User  Non-User  \n",
       "1508        Non-User  Non-User  \n",
       "721         Non-User  Non-User  \n",
       "1265        Non-User  Non-User  \n",
       "...              ...       ...  \n",
       "618         Non-User  Non-User  \n",
       "250         Non-User  Non-User  \n",
       "141         Non-User  Non-User  \n",
       "1803        Non-User  Non-User  \n",
       "337         Non-User  Non-User  \n",
       "\n",
       "[1413 rows x 30 columns]"
      ]
     },
     "execution_count": 28,
     "metadata": {},
     "output_type": "execute_result"
    }
   ],
   "source": [
    "X_train,X_test,y_train,y_test = train_test_split(X,y)\n",
    "X_train"
   ]
  },
  {
   "cell_type": "code",
   "execution_count": 29,
   "metadata": {
    "ExecuteTime": {
     "end_time": "2021-05-20T15:39:23.301492Z",
     "start_time": "2021-05-20T15:39:23.262560Z"
    }
   },
   "outputs": [],
   "source": [
    "from sklearn import set_config\n",
    "set_config(display='diagram')"
   ]
  },
  {
   "cell_type": "code",
   "execution_count": 30,
   "metadata": {
    "ExecuteTime": {
     "end_time": "2021-05-20T15:39:23.347851Z",
     "start_time": "2021-05-20T15:39:23.303788Z"
    }
   },
   "outputs": [
    {
     "name": "stdout",
     "output_type": "stream",
     "text": [
      "# of num_cols: 9\n",
      "# of cat_cols: 21\n"
     ]
    }
   ],
   "source": [
    "## saving list of numeric vs categorical feature\n",
    "num_cols = list(X_train.select_dtypes('number').columns)\n",
    "cat_cols = list(X_train.select_dtypes('object').columns)\n",
    "\n",
    "## create pipelines and column transformer\n",
    "num_transformer = Pipeline(steps=[\n",
    "    ('imputer',SimpleImputer(strategy='median')),\n",
    "    ('scale',StandardScaler())\n",
    "])\n",
    "\n",
    "cat_transformer = Pipeline(steps=[\n",
    "    ('imputer',SimpleImputer(strategy='constant',fill_value='MISSING')),\n",
    "    ('encoder',OneHotEncoder(sparse=False,drop='first'))\n",
    "])\n",
    "\n",
    "print('# of num_cols:',len(num_cols))\n",
    "print('# of cat_cols:',len(cat_cols))"
   ]
  },
  {
   "cell_type": "code",
   "execution_count": 31,
   "metadata": {
    "ExecuteTime": {
     "end_time": "2021-05-20T15:39:23.430697Z",
     "start_time": "2021-05-20T15:39:23.349691Z"
    }
   },
   "outputs": [
    {
     "data": {
      "text/html": [
       "<style>div.sk-top-container {color: black;background-color: white;}div.sk-toggleable {background-color: white;}label.sk-toggleable__label {cursor: pointer;display: block;width: 100%;margin-bottom: 0;padding: 0.2em 0.3em;box-sizing: border-box;text-align: center;}div.sk-toggleable__content {max-height: 0;max-width: 0;overflow: hidden;text-align: left;background-color: #f0f8ff;}div.sk-toggleable__content pre {margin: 0.2em;color: black;border-radius: 0.25em;background-color: #f0f8ff;}input.sk-toggleable__control:checked~div.sk-toggleable__content {max-height: 200px;max-width: 100%;overflow: auto;}div.sk-estimator input.sk-toggleable__control:checked~label.sk-toggleable__label {background-color: #d4ebff;}div.sk-label input.sk-toggleable__control:checked~label.sk-toggleable__label {background-color: #d4ebff;}input.sk-hidden--visually {border: 0;clip: rect(1px 1px 1px 1px);clip: rect(1px, 1px, 1px, 1px);height: 1px;margin: -1px;overflow: hidden;padding: 0;position: absolute;width: 1px;}div.sk-estimator {font-family: monospace;background-color: #f0f8ff;margin: 0.25em 0.25em;border: 1px dotted black;border-radius: 0.25em;box-sizing: border-box;}div.sk-estimator:hover {background-color: #d4ebff;}div.sk-parallel-item::after {content: \"\";width: 100%;border-bottom: 1px solid gray;flex-grow: 1;}div.sk-label:hover label.sk-toggleable__label {background-color: #d4ebff;}div.sk-serial::before {content: \"\";position: absolute;border-left: 1px solid gray;box-sizing: border-box;top: 2em;bottom: 0;left: 50%;}div.sk-serial {display: flex;flex-direction: column;align-items: center;background-color: white;}div.sk-item {z-index: 1;}div.sk-parallel {display: flex;align-items: stretch;justify-content: center;background-color: white;}div.sk-parallel-item {display: flex;flex-direction: column;position: relative;background-color: white;}div.sk-parallel-item:first-child::after {align-self: flex-end;width: 50%;}div.sk-parallel-item:last-child::after {align-self: flex-start;width: 50%;}div.sk-parallel-item:only-child::after {width: 0;}div.sk-dashed-wrapped {border: 1px dashed gray;margin: 0.2em;box-sizing: border-box;padding-bottom: 0.1em;background-color: white;position: relative;}div.sk-label label {font-family: monospace;font-weight: bold;background-color: white;display: inline-block;line-height: 1.2em;}div.sk-label-container {position: relative;z-index: 2;text-align: center;}div.sk-container {display: inline-block;position: relative;}</style><div class=\"sk-top-container\"><div class=\"sk-container\"><div class=\"sk-item sk-dashed-wrapped\"><div class=\"sk-label-container\"><div class=\"sk-label sk-toggleable\"><input class=\"sk-toggleable__control sk-hidden--visually\" id=\"45c8079b-deee-4992-bbd3-bcd309964a3d\" type=\"checkbox\" ><label class=\"sk-toggleable__label\" for=\"45c8079b-deee-4992-bbd3-bcd309964a3d\">ColumnTransformer</label><div class=\"sk-toggleable__content\"><pre>ColumnTransformer(transformers=[('num',\n",
       "                                 Pipeline(steps=[('imputer',\n",
       "                                                  SimpleImputer(strategy='median')),\n",
       "                                                 ('scale', StandardScaler())]),\n",
       "                                 ['Age', 'Education', 'Nscore', 'Escore',\n",
       "                                  'Oscore', 'Ascore', 'Cscore', 'Impulsiveness',\n",
       "                                  'SS']),\n",
       "                                ('cat',\n",
       "                                 Pipeline(steps=[('imputer',\n",
       "                                                  SimpleImputer(fill_value='MISSING',\n",
       "                                                                strategy='constant')),\n",
       "                                                 ('encoder',\n",
       "                                                  OneHotEncoder(drop='first',\n",
       "                                                                sparse=False))]),\n",
       "                                 ['Gender', 'Country', 'Ethnicity', 'Alcohol',\n",
       "                                  'Amphet', 'Amyl', 'Benzos', 'Caff',\n",
       "                                  'Cannabis', 'Choc', 'Coke', 'Crack',\n",
       "                                  'Ecstasy', 'Ketamine', 'LegalH', 'LSD',\n",
       "                                  'Meth', 'Mushrooms', 'Nicotine',\n",
       "                                  'FakeDrugSemeron', 'VSA'])])</pre></div></div></div><div class=\"sk-parallel\"><div class=\"sk-parallel-item\"><div class=\"sk-item\"><div class=\"sk-label-container\"><div class=\"sk-label sk-toggleable\"><input class=\"sk-toggleable__control sk-hidden--visually\" id=\"d450128d-91c2-466e-9dd5-676fb1b6af47\" type=\"checkbox\" ><label class=\"sk-toggleable__label\" for=\"d450128d-91c2-466e-9dd5-676fb1b6af47\">num</label><div class=\"sk-toggleable__content\"><pre>['Age', 'Education', 'Nscore', 'Escore', 'Oscore', 'Ascore', 'Cscore', 'Impulsiveness', 'SS']</pre></div></div></div><div class=\"sk-serial\"><div class=\"sk-item\"><div class=\"sk-serial\"><div class=\"sk-item\"><div class=\"sk-estimator sk-toggleable\"><input class=\"sk-toggleable__control sk-hidden--visually\" id=\"c02ae79b-376d-43d7-bf01-9828cd3b9217\" type=\"checkbox\" ><label class=\"sk-toggleable__label\" for=\"c02ae79b-376d-43d7-bf01-9828cd3b9217\">SimpleImputer</label><div class=\"sk-toggleable__content\"><pre>SimpleImputer(strategy='median')</pre></div></div></div><div class=\"sk-item\"><div class=\"sk-estimator sk-toggleable\"><input class=\"sk-toggleable__control sk-hidden--visually\" id=\"cb9643a5-8e8d-4807-8fef-182de7ad93d4\" type=\"checkbox\" ><label class=\"sk-toggleable__label\" for=\"cb9643a5-8e8d-4807-8fef-182de7ad93d4\">StandardScaler</label><div class=\"sk-toggleable__content\"><pre>StandardScaler()</pre></div></div></div></div></div></div></div></div><div class=\"sk-parallel-item\"><div class=\"sk-item\"><div class=\"sk-label-container\"><div class=\"sk-label sk-toggleable\"><input class=\"sk-toggleable__control sk-hidden--visually\" id=\"a467056d-6278-406b-86d9-54147f8b0eb5\" type=\"checkbox\" ><label class=\"sk-toggleable__label\" for=\"a467056d-6278-406b-86d9-54147f8b0eb5\">cat</label><div class=\"sk-toggleable__content\"><pre>['Gender', 'Country', 'Ethnicity', 'Alcohol', 'Amphet', 'Amyl', 'Benzos', 'Caff', 'Cannabis', 'Choc', 'Coke', 'Crack', 'Ecstasy', 'Ketamine', 'LegalH', 'LSD', 'Meth', 'Mushrooms', 'Nicotine', 'FakeDrugSemeron', 'VSA']</pre></div></div></div><div class=\"sk-serial\"><div class=\"sk-item\"><div class=\"sk-serial\"><div class=\"sk-item\"><div class=\"sk-estimator sk-toggleable\"><input class=\"sk-toggleable__control sk-hidden--visually\" id=\"d56e9f9a-5b2f-41ee-9073-559c160335b9\" type=\"checkbox\" ><label class=\"sk-toggleable__label\" for=\"d56e9f9a-5b2f-41ee-9073-559c160335b9\">SimpleImputer</label><div class=\"sk-toggleable__content\"><pre>SimpleImputer(fill_value='MISSING', strategy='constant')</pre></div></div></div><div class=\"sk-item\"><div class=\"sk-estimator sk-toggleable\"><input class=\"sk-toggleable__control sk-hidden--visually\" id=\"7e067490-ca92-4386-81b1-3e66d351a362\" type=\"checkbox\" ><label class=\"sk-toggleable__label\" for=\"7e067490-ca92-4386-81b1-3e66d351a362\">OneHotEncoder</label><div class=\"sk-toggleable__content\"><pre>OneHotEncoder(drop='first', sparse=False)</pre></div></div></div></div></div></div></div></div></div></div></div></div>"
      ],
      "text/plain": [
       "ColumnTransformer(transformers=[('num',\n",
       "                                 Pipeline(steps=[('imputer',\n",
       "                                                  SimpleImputer(strategy='median')),\n",
       "                                                 ('scale', StandardScaler())]),\n",
       "                                 ['Age', 'Education', 'Nscore', 'Escore',\n",
       "                                  'Oscore', 'Ascore', 'Cscore', 'Impulsiveness',\n",
       "                                  'SS']),\n",
       "                                ('cat',\n",
       "                                 Pipeline(steps=[('imputer',\n",
       "                                                  SimpleImputer(fill_value='MISSING',\n",
       "                                                                strategy='constant')),\n",
       "                                                 ('encoder',\n",
       "                                                  OneHotEncoder(drop='first',\n",
       "                                                                sparse=False))]),\n",
       "                                 ['Gender', 'Country', 'Ethnicity', 'Alcohol',\n",
       "                                  'Amphet', 'Amyl', 'Benzos', 'Caff',\n",
       "                                  'Cannabis', 'Choc', 'Coke', 'Crack',\n",
       "                                  'Ecstasy', 'Ketamine', 'LegalH', 'LSD',\n",
       "                                  'Meth', 'Mushrooms', 'Nicotine',\n",
       "                                  'FakeDrugSemeron', 'VSA'])])"
      ]
     },
     "execution_count": 31,
     "metadata": {},
     "output_type": "execute_result"
    }
   ],
   "source": [
    "## COMBINE BOTH PIPELINES INTO ONE WITH COLUMN TRANSFORMER\n",
    "preprocessor=ColumnTransformer(transformers=[\n",
    "    ('num',num_transformer,num_cols),\n",
    "    ('cat',cat_transformer,cat_cols)])\n",
    "\n",
    "preprocessor"
   ]
  },
  {
   "cell_type": "code",
   "execution_count": 32,
   "metadata": {
    "ExecuteTime": {
     "end_time": "2021-05-20T15:39:23.497848Z",
     "start_time": "2021-05-20T15:39:23.432285Z"
    }
   },
   "outputs": [],
   "source": [
    "## Fit preprocessing pipeline on training data and pull out the feature names and X_cols\n",
    "preprocessor.fit(X_train)\n",
    "\n",
    "## Use the encoder's .get_feature_names\n",
    "cat_features = list(preprocessor.named_transformers_['cat'].named_steps['encoder']\\\n",
    "                            .get_feature_names(cat_cols))\n",
    "X_cols = num_cols+cat_features"
   ]
  },
  {
   "cell_type": "code",
   "execution_count": 33,
   "metadata": {
    "ExecuteTime": {
     "end_time": "2021-05-20T15:39:23.608920Z",
     "start_time": "2021-05-20T15:39:23.499992Z"
    }
   },
   "outputs": [
    {
     "data": {
      "text/html": [
       "<div>\n",
       "<style scoped>\n",
       "    .dataframe tbody tr th:only-of-type {\n",
       "        vertical-align: middle;\n",
       "    }\n",
       "\n",
       "    .dataframe tbody tr th {\n",
       "        vertical-align: top;\n",
       "    }\n",
       "\n",
       "    .dataframe thead th {\n",
       "        text-align: right;\n",
       "    }\n",
       "</style>\n",
       "<table border=\"1\" class=\"dataframe\">\n",
       "  <thead>\n",
       "    <tr style=\"text-align: right;\">\n",
       "      <th></th>\n",
       "      <th>Age</th>\n",
       "      <th>Education</th>\n",
       "      <th>Nscore</th>\n",
       "      <th>Escore</th>\n",
       "      <th>Oscore</th>\n",
       "      <th>Ascore</th>\n",
       "      <th>Cscore</th>\n",
       "      <th>Impulsiveness</th>\n",
       "      <th>SS</th>\n",
       "      <th>Gender_Male</th>\n",
       "      <th>Country_Canada</th>\n",
       "      <th>Country_New Zealand</th>\n",
       "      <th>Country_Other</th>\n",
       "      <th>Country_Republic of Ireland</th>\n",
       "      <th>Country_UK</th>\n",
       "      <th>Country_USA</th>\n",
       "      <th>Ethnicity_Black</th>\n",
       "      <th>Ethnicity_Mixed-Black/Asian</th>\n",
       "      <th>Ethnicity_Mixed-White/Asian</th>\n",
       "      <th>Ethnicity_Mixed-White/Black</th>\n",
       "      <th>Ethnicity_Other</th>\n",
       "      <th>Ethnicity_White</th>\n",
       "      <th>Alcohol_User</th>\n",
       "      <th>Amphet_User</th>\n",
       "      <th>Amyl_User</th>\n",
       "      <th>Benzos_User</th>\n",
       "      <th>Caff_User</th>\n",
       "      <th>Cannabis_User</th>\n",
       "      <th>Choc_User</th>\n",
       "      <th>Coke_User</th>\n",
       "      <th>Crack_User</th>\n",
       "      <th>Ecstasy_User</th>\n",
       "      <th>Ketamine_User</th>\n",
       "      <th>LegalH_User</th>\n",
       "      <th>LSD_User</th>\n",
       "      <th>Meth_User</th>\n",
       "      <th>Mushrooms_User</th>\n",
       "      <th>Nicotine_User</th>\n",
       "      <th>FakeDrugSemeron_User</th>\n",
       "      <th>VSA_User</th>\n",
       "    </tr>\n",
       "  </thead>\n",
       "  <tbody>\n",
       "    <tr>\n",
       "      <th>138</th>\n",
       "      <td>2.059033</td>\n",
       "      <td>0.576512</td>\n",
       "      <td>-0.533033</td>\n",
       "      <td>-0.810525</td>\n",
       "      <td>0.189403</td>\n",
       "      <td>0.327840</td>\n",
       "      <td>0.941285</td>\n",
       "      <td>-1.421690</td>\n",
       "      <td>-1.209424</td>\n",
       "      <td>1.0</td>\n",
       "      <td>0.0</td>\n",
       "      <td>0.0</td>\n",
       "      <td>0.0</td>\n",
       "      <td>0.0</td>\n",
       "      <td>1.0</td>\n",
       "      <td>0.0</td>\n",
       "      <td>0.0</td>\n",
       "      <td>0.0</td>\n",
       "      <td>0.0</td>\n",
       "      <td>0.0</td>\n",
       "      <td>0.0</td>\n",
       "      <td>1.0</td>\n",
       "      <td>1.0</td>\n",
       "      <td>0.0</td>\n",
       "      <td>0.0</td>\n",
       "      <td>1.0</td>\n",
       "      <td>1.0</td>\n",
       "      <td>0.0</td>\n",
       "      <td>1.0</td>\n",
       "      <td>0.0</td>\n",
       "      <td>0.0</td>\n",
       "      <td>0.0</td>\n",
       "      <td>0.0</td>\n",
       "      <td>0.0</td>\n",
       "      <td>0.0</td>\n",
       "      <td>1.0</td>\n",
       "      <td>0.0</td>\n",
       "      <td>1.0</td>\n",
       "      <td>0.0</td>\n",
       "      <td>0.0</td>\n",
       "    </tr>\n",
       "    <tr>\n",
       "      <th>1666</th>\n",
       "      <td>0.501531</td>\n",
       "      <td>0.576512</td>\n",
       "      <td>-1.189204</td>\n",
       "      <td>-0.517279</td>\n",
       "      <td>-0.726605</td>\n",
       "      <td>0.480422</td>\n",
       "      <td>0.941285</td>\n",
       "      <td>0.916545</td>\n",
       "      <td>0.800624</td>\n",
       "      <td>0.0</td>\n",
       "      <td>0.0</td>\n",
       "      <td>0.0</td>\n",
       "      <td>0.0</td>\n",
       "      <td>0.0</td>\n",
       "      <td>0.0</td>\n",
       "      <td>0.0</td>\n",
       "      <td>0.0</td>\n",
       "      <td>0.0</td>\n",
       "      <td>0.0</td>\n",
       "      <td>0.0</td>\n",
       "      <td>0.0</td>\n",
       "      <td>1.0</td>\n",
       "      <td>1.0</td>\n",
       "      <td>0.0</td>\n",
       "      <td>0.0</td>\n",
       "      <td>0.0</td>\n",
       "      <td>1.0</td>\n",
       "      <td>0.0</td>\n",
       "      <td>1.0</td>\n",
       "      <td>0.0</td>\n",
       "      <td>0.0</td>\n",
       "      <td>0.0</td>\n",
       "      <td>0.0</td>\n",
       "      <td>0.0</td>\n",
       "      <td>0.0</td>\n",
       "      <td>0.0</td>\n",
       "      <td>0.0</td>\n",
       "      <td>0.0</td>\n",
       "      <td>0.0</td>\n",
       "      <td>0.0</td>\n",
       "    </tr>\n",
       "    <tr>\n",
       "      <th>1508</th>\n",
       "      <td>-1.055971</td>\n",
       "      <td>0.576512</td>\n",
       "      <td>0.779310</td>\n",
       "      <td>-0.810525</td>\n",
       "      <td>1.563416</td>\n",
       "      <td>0.175258</td>\n",
       "      <td>-1.364552</td>\n",
       "      <td>-0.219241</td>\n",
       "      <td>-0.533043</td>\n",
       "      <td>1.0</td>\n",
       "      <td>0.0</td>\n",
       "      <td>0.0</td>\n",
       "      <td>0.0</td>\n",
       "      <td>0.0</td>\n",
       "      <td>0.0</td>\n",
       "      <td>1.0</td>\n",
       "      <td>0.0</td>\n",
       "      <td>0.0</td>\n",
       "      <td>0.0</td>\n",
       "      <td>0.0</td>\n",
       "      <td>0.0</td>\n",
       "      <td>1.0</td>\n",
       "      <td>1.0</td>\n",
       "      <td>1.0</td>\n",
       "      <td>0.0</td>\n",
       "      <td>1.0</td>\n",
       "      <td>1.0</td>\n",
       "      <td>1.0</td>\n",
       "      <td>1.0</td>\n",
       "      <td>1.0</td>\n",
       "      <td>0.0</td>\n",
       "      <td>1.0</td>\n",
       "      <td>0.0</td>\n",
       "      <td>1.0</td>\n",
       "      <td>1.0</td>\n",
       "      <td>0.0</td>\n",
       "      <td>1.0</td>\n",
       "      <td>1.0</td>\n",
       "      <td>0.0</td>\n",
       "      <td>0.0</td>\n",
       "    </tr>\n",
       "    <tr>\n",
       "      <th>721</th>\n",
       "      <td>-0.277220</td>\n",
       "      <td>0.576512</td>\n",
       "      <td>-0.970480</td>\n",
       "      <td>1.388819</td>\n",
       "      <td>0.342071</td>\n",
       "      <td>0.938167</td>\n",
       "      <td>0.653055</td>\n",
       "      <td>0.204565</td>\n",
       "      <td>-0.533043</td>\n",
       "      <td>0.0</td>\n",
       "      <td>0.0</td>\n",
       "      <td>0.0</td>\n",
       "      <td>0.0</td>\n",
       "      <td>0.0</td>\n",
       "      <td>1.0</td>\n",
       "      <td>0.0</td>\n",
       "      <td>0.0</td>\n",
       "      <td>0.0</td>\n",
       "      <td>0.0</td>\n",
       "      <td>0.0</td>\n",
       "      <td>0.0</td>\n",
       "      <td>1.0</td>\n",
       "      <td>1.0</td>\n",
       "      <td>0.0</td>\n",
       "      <td>0.0</td>\n",
       "      <td>0.0</td>\n",
       "      <td>1.0</td>\n",
       "      <td>1.0</td>\n",
       "      <td>1.0</td>\n",
       "      <td>0.0</td>\n",
       "      <td>0.0</td>\n",
       "      <td>0.0</td>\n",
       "      <td>0.0</td>\n",
       "      <td>0.0</td>\n",
       "      <td>0.0</td>\n",
       "      <td>0.0</td>\n",
       "      <td>0.0</td>\n",
       "      <td>0.0</td>\n",
       "      <td>0.0</td>\n",
       "      <td>0.0</td>\n",
       "    </tr>\n",
       "    <tr>\n",
       "      <th>1265</th>\n",
       "      <td>0.501531</td>\n",
       "      <td>0.576512</td>\n",
       "      <td>0.451224</td>\n",
       "      <td>0.069213</td>\n",
       "      <td>-1.184609</td>\n",
       "      <td>-1.655722</td>\n",
       "      <td>0.076596</td>\n",
       "      <td>0.204565</td>\n",
       "      <td>0.424773</td>\n",
       "      <td>0.0</td>\n",
       "      <td>0.0</td>\n",
       "      <td>0.0</td>\n",
       "      <td>0.0</td>\n",
       "      <td>0.0</td>\n",
       "      <td>1.0</td>\n",
       "      <td>0.0</td>\n",
       "      <td>0.0</td>\n",
       "      <td>0.0</td>\n",
       "      <td>0.0</td>\n",
       "      <td>0.0</td>\n",
       "      <td>0.0</td>\n",
       "      <td>1.0</td>\n",
       "      <td>1.0</td>\n",
       "      <td>1.0</td>\n",
       "      <td>0.0</td>\n",
       "      <td>0.0</td>\n",
       "      <td>1.0</td>\n",
       "      <td>0.0</td>\n",
       "      <td>1.0</td>\n",
       "      <td>1.0</td>\n",
       "      <td>0.0</td>\n",
       "      <td>1.0</td>\n",
       "      <td>0.0</td>\n",
       "      <td>0.0</td>\n",
       "      <td>0.0</td>\n",
       "      <td>0.0</td>\n",
       "      <td>0.0</td>\n",
       "      <td>0.0</td>\n",
       "      <td>0.0</td>\n",
       "      <td>0.0</td>\n",
       "    </tr>\n",
       "    <tr>\n",
       "      <th>...</th>\n",
       "      <td>...</td>\n",
       "      <td>...</td>\n",
       "      <td>...</td>\n",
       "      <td>...</td>\n",
       "      <td>...</td>\n",
       "      <td>...</td>\n",
       "      <td>...</td>\n",
       "      <td>...</td>\n",
       "      <td>...</td>\n",
       "      <td>...</td>\n",
       "      <td>...</td>\n",
       "      <td>...</td>\n",
       "      <td>...</td>\n",
       "      <td>...</td>\n",
       "      <td>...</td>\n",
       "      <td>...</td>\n",
       "      <td>...</td>\n",
       "      <td>...</td>\n",
       "      <td>...</td>\n",
       "      <td>...</td>\n",
       "      <td>...</td>\n",
       "      <td>...</td>\n",
       "      <td>...</td>\n",
       "      <td>...</td>\n",
       "      <td>...</td>\n",
       "      <td>...</td>\n",
       "      <td>...</td>\n",
       "      <td>...</td>\n",
       "      <td>...</td>\n",
       "      <td>...</td>\n",
       "      <td>...</td>\n",
       "      <td>...</td>\n",
       "      <td>...</td>\n",
       "      <td>...</td>\n",
       "      <td>...</td>\n",
       "      <td>...</td>\n",
       "      <td>...</td>\n",
       "      <td>...</td>\n",
       "      <td>...</td>\n",
       "      <td>...</td>\n",
       "    </tr>\n",
       "    <tr>\n",
       "      <th>618</th>\n",
       "      <td>2.059033</td>\n",
       "      <td>1.133702</td>\n",
       "      <td>-0.751757</td>\n",
       "      <td>-0.957148</td>\n",
       "      <td>0.800076</td>\n",
       "      <td>-0.892814</td>\n",
       "      <td>0.653055</td>\n",
       "      <td>-1.421690</td>\n",
       "      <td>-0.863989</td>\n",
       "      <td>1.0</td>\n",
       "      <td>0.0</td>\n",
       "      <td>0.0</td>\n",
       "      <td>0.0</td>\n",
       "      <td>0.0</td>\n",
       "      <td>1.0</td>\n",
       "      <td>0.0</td>\n",
       "      <td>0.0</td>\n",
       "      <td>0.0</td>\n",
       "      <td>0.0</td>\n",
       "      <td>0.0</td>\n",
       "      <td>0.0</td>\n",
       "      <td>1.0</td>\n",
       "      <td>1.0</td>\n",
       "      <td>0.0</td>\n",
       "      <td>0.0</td>\n",
       "      <td>0.0</td>\n",
       "      <td>1.0</td>\n",
       "      <td>0.0</td>\n",
       "      <td>1.0</td>\n",
       "      <td>0.0</td>\n",
       "      <td>0.0</td>\n",
       "      <td>0.0</td>\n",
       "      <td>0.0</td>\n",
       "      <td>0.0</td>\n",
       "      <td>0.0</td>\n",
       "      <td>0.0</td>\n",
       "      <td>0.0</td>\n",
       "      <td>0.0</td>\n",
       "      <td>0.0</td>\n",
       "      <td>0.0</td>\n",
       "    </tr>\n",
       "    <tr>\n",
       "      <th>250</th>\n",
       "      <td>1.280282</td>\n",
       "      <td>0.576512</td>\n",
       "      <td>-0.533033</td>\n",
       "      <td>0.215836</td>\n",
       "      <td>-0.268601</td>\n",
       "      <td>-0.435068</td>\n",
       "      <td>1.373629</td>\n",
       "      <td>0.204565</td>\n",
       "      <td>-0.863989</td>\n",
       "      <td>1.0</td>\n",
       "      <td>0.0</td>\n",
       "      <td>0.0</td>\n",
       "      <td>0.0</td>\n",
       "      <td>0.0</td>\n",
       "      <td>1.0</td>\n",
       "      <td>0.0</td>\n",
       "      <td>0.0</td>\n",
       "      <td>0.0</td>\n",
       "      <td>0.0</td>\n",
       "      <td>0.0</td>\n",
       "      <td>0.0</td>\n",
       "      <td>1.0</td>\n",
       "      <td>1.0</td>\n",
       "      <td>0.0</td>\n",
       "      <td>0.0</td>\n",
       "      <td>0.0</td>\n",
       "      <td>1.0</td>\n",
       "      <td>0.0</td>\n",
       "      <td>1.0</td>\n",
       "      <td>0.0</td>\n",
       "      <td>0.0</td>\n",
       "      <td>0.0</td>\n",
       "      <td>0.0</td>\n",
       "      <td>0.0</td>\n",
       "      <td>0.0</td>\n",
       "      <td>0.0</td>\n",
       "      <td>0.0</td>\n",
       "      <td>0.0</td>\n",
       "      <td>0.0</td>\n",
       "      <td>0.0</td>\n",
       "    </tr>\n",
       "    <tr>\n",
       "      <th>141</th>\n",
       "      <td>0.501531</td>\n",
       "      <td>-2.209438</td>\n",
       "      <td>-0.861118</td>\n",
       "      <td>0.655705</td>\n",
       "      <td>-1.184609</td>\n",
       "      <td>1.243331</td>\n",
       "      <td>0.653055</td>\n",
       "      <td>-1.421690</td>\n",
       "      <td>-2.136494</td>\n",
       "      <td>0.0</td>\n",
       "      <td>0.0</td>\n",
       "      <td>0.0</td>\n",
       "      <td>0.0</td>\n",
       "      <td>0.0</td>\n",
       "      <td>1.0</td>\n",
       "      <td>0.0</td>\n",
       "      <td>0.0</td>\n",
       "      <td>0.0</td>\n",
       "      <td>0.0</td>\n",
       "      <td>0.0</td>\n",
       "      <td>0.0</td>\n",
       "      <td>1.0</td>\n",
       "      <td>1.0</td>\n",
       "      <td>0.0</td>\n",
       "      <td>0.0</td>\n",
       "      <td>0.0</td>\n",
       "      <td>1.0</td>\n",
       "      <td>0.0</td>\n",
       "      <td>1.0</td>\n",
       "      <td>0.0</td>\n",
       "      <td>0.0</td>\n",
       "      <td>0.0</td>\n",
       "      <td>0.0</td>\n",
       "      <td>0.0</td>\n",
       "      <td>0.0</td>\n",
       "      <td>0.0</td>\n",
       "      <td>0.0</td>\n",
       "      <td>1.0</td>\n",
       "      <td>0.0</td>\n",
       "      <td>0.0</td>\n",
       "    </tr>\n",
       "    <tr>\n",
       "      <th>1803</th>\n",
       "      <td>0.501531</td>\n",
       "      <td>0.019322</td>\n",
       "      <td>0.013777</td>\n",
       "      <td>-0.810525</td>\n",
       "      <td>-0.879273</td>\n",
       "      <td>-0.129905</td>\n",
       "      <td>-1.220437</td>\n",
       "      <td>0.553156</td>\n",
       "      <td>-1.209424</td>\n",
       "      <td>0.0</td>\n",
       "      <td>0.0</td>\n",
       "      <td>0.0</td>\n",
       "      <td>0.0</td>\n",
       "      <td>0.0</td>\n",
       "      <td>0.0</td>\n",
       "      <td>1.0</td>\n",
       "      <td>0.0</td>\n",
       "      <td>0.0</td>\n",
       "      <td>0.0</td>\n",
       "      <td>0.0</td>\n",
       "      <td>0.0</td>\n",
       "      <td>1.0</td>\n",
       "      <td>1.0</td>\n",
       "      <td>1.0</td>\n",
       "      <td>0.0</td>\n",
       "      <td>1.0</td>\n",
       "      <td>1.0</td>\n",
       "      <td>1.0</td>\n",
       "      <td>1.0</td>\n",
       "      <td>1.0</td>\n",
       "      <td>0.0</td>\n",
       "      <td>0.0</td>\n",
       "      <td>0.0</td>\n",
       "      <td>0.0</td>\n",
       "      <td>0.0</td>\n",
       "      <td>0.0</td>\n",
       "      <td>0.0</td>\n",
       "      <td>0.0</td>\n",
       "      <td>0.0</td>\n",
       "      <td>0.0</td>\n",
       "    </tr>\n",
       "    <tr>\n",
       "      <th>337</th>\n",
       "      <td>0.501531</td>\n",
       "      <td>1.690892</td>\n",
       "      <td>-1.736014</td>\n",
       "      <td>1.242196</td>\n",
       "      <td>0.342071</td>\n",
       "      <td>0.785585</td>\n",
       "      <td>1.373629</td>\n",
       "      <td>-0.219241</td>\n",
       "      <td>0.424773</td>\n",
       "      <td>1.0</td>\n",
       "      <td>0.0</td>\n",
       "      <td>0.0</td>\n",
       "      <td>0.0</td>\n",
       "      <td>0.0</td>\n",
       "      <td>1.0</td>\n",
       "      <td>0.0</td>\n",
       "      <td>0.0</td>\n",
       "      <td>0.0</td>\n",
       "      <td>0.0</td>\n",
       "      <td>0.0</td>\n",
       "      <td>0.0</td>\n",
       "      <td>1.0</td>\n",
       "      <td>1.0</td>\n",
       "      <td>0.0</td>\n",
       "      <td>0.0</td>\n",
       "      <td>0.0</td>\n",
       "      <td>0.0</td>\n",
       "      <td>0.0</td>\n",
       "      <td>1.0</td>\n",
       "      <td>0.0</td>\n",
       "      <td>0.0</td>\n",
       "      <td>0.0</td>\n",
       "      <td>0.0</td>\n",
       "      <td>0.0</td>\n",
       "      <td>0.0</td>\n",
       "      <td>0.0</td>\n",
       "      <td>0.0</td>\n",
       "      <td>0.0</td>\n",
       "      <td>0.0</td>\n",
       "      <td>0.0</td>\n",
       "    </tr>\n",
       "  </tbody>\n",
       "</table>\n",
       "<p>1413 rows × 40 columns</p>\n",
       "</div>"
      ],
      "text/plain": [
       "           Age  Education    Nscore    Escore    Oscore    Ascore    Cscore  \\\n",
       "138   2.059033   0.576512 -0.533033 -0.810525  0.189403  0.327840  0.941285   \n",
       "1666  0.501531   0.576512 -1.189204 -0.517279 -0.726605  0.480422  0.941285   \n",
       "1508 -1.055971   0.576512  0.779310 -0.810525  1.563416  0.175258 -1.364552   \n",
       "721  -0.277220   0.576512 -0.970480  1.388819  0.342071  0.938167  0.653055   \n",
       "1265  0.501531   0.576512  0.451224  0.069213 -1.184609 -1.655722  0.076596   \n",
       "...        ...        ...       ...       ...       ...       ...       ...   \n",
       "618   2.059033   1.133702 -0.751757 -0.957148  0.800076 -0.892814  0.653055   \n",
       "250   1.280282   0.576512 -0.533033  0.215836 -0.268601 -0.435068  1.373629   \n",
       "141   0.501531  -2.209438 -0.861118  0.655705 -1.184609  1.243331  0.653055   \n",
       "1803  0.501531   0.019322  0.013777 -0.810525 -0.879273 -0.129905 -1.220437   \n",
       "337   0.501531   1.690892 -1.736014  1.242196  0.342071  0.785585  1.373629   \n",
       "\n",
       "      Impulsiveness        SS  Gender_Male  Country_Canada  \\\n",
       "138       -1.421690 -1.209424          1.0             0.0   \n",
       "1666       0.916545  0.800624          0.0             0.0   \n",
       "1508      -0.219241 -0.533043          1.0             0.0   \n",
       "721        0.204565 -0.533043          0.0             0.0   \n",
       "1265       0.204565  0.424773          0.0             0.0   \n",
       "...             ...       ...          ...             ...   \n",
       "618       -1.421690 -0.863989          1.0             0.0   \n",
       "250        0.204565 -0.863989          1.0             0.0   \n",
       "141       -1.421690 -2.136494          0.0             0.0   \n",
       "1803       0.553156 -1.209424          0.0             0.0   \n",
       "337       -0.219241  0.424773          1.0             0.0   \n",
       "\n",
       "      Country_New Zealand  Country_Other  Country_Republic of Ireland  \\\n",
       "138                   0.0            0.0                          0.0   \n",
       "1666                  0.0            0.0                          0.0   \n",
       "1508                  0.0            0.0                          0.0   \n",
       "721                   0.0            0.0                          0.0   \n",
       "1265                  0.0            0.0                          0.0   \n",
       "...                   ...            ...                          ...   \n",
       "618                   0.0            0.0                          0.0   \n",
       "250                   0.0            0.0                          0.0   \n",
       "141                   0.0            0.0                          0.0   \n",
       "1803                  0.0            0.0                          0.0   \n",
       "337                   0.0            0.0                          0.0   \n",
       "\n",
       "      Country_UK  Country_USA  Ethnicity_Black  Ethnicity_Mixed-Black/Asian  \\\n",
       "138          1.0          0.0              0.0                          0.0   \n",
       "1666         0.0          0.0              0.0                          0.0   \n",
       "1508         0.0          1.0              0.0                          0.0   \n",
       "721          1.0          0.0              0.0                          0.0   \n",
       "1265         1.0          0.0              0.0                          0.0   \n",
       "...          ...          ...              ...                          ...   \n",
       "618          1.0          0.0              0.0                          0.0   \n",
       "250          1.0          0.0              0.0                          0.0   \n",
       "141          1.0          0.0              0.0                          0.0   \n",
       "1803         0.0          1.0              0.0                          0.0   \n",
       "337          1.0          0.0              0.0                          0.0   \n",
       "\n",
       "      Ethnicity_Mixed-White/Asian  Ethnicity_Mixed-White/Black  \\\n",
       "138                           0.0                          0.0   \n",
       "1666                          0.0                          0.0   \n",
       "1508                          0.0                          0.0   \n",
       "721                           0.0                          0.0   \n",
       "1265                          0.0                          0.0   \n",
       "...                           ...                          ...   \n",
       "618                           0.0                          0.0   \n",
       "250                           0.0                          0.0   \n",
       "141                           0.0                          0.0   \n",
       "1803                          0.0                          0.0   \n",
       "337                           0.0                          0.0   \n",
       "\n",
       "      Ethnicity_Other  Ethnicity_White  Alcohol_User  Amphet_User  Amyl_User  \\\n",
       "138               0.0              1.0           1.0          0.0        0.0   \n",
       "1666              0.0              1.0           1.0          0.0        0.0   \n",
       "1508              0.0              1.0           1.0          1.0        0.0   \n",
       "721               0.0              1.0           1.0          0.0        0.0   \n",
       "1265              0.0              1.0           1.0          1.0        0.0   \n",
       "...               ...              ...           ...          ...        ...   \n",
       "618               0.0              1.0           1.0          0.0        0.0   \n",
       "250               0.0              1.0           1.0          0.0        0.0   \n",
       "141               0.0              1.0           1.0          0.0        0.0   \n",
       "1803              0.0              1.0           1.0          1.0        0.0   \n",
       "337               0.0              1.0           1.0          0.0        0.0   \n",
       "\n",
       "      Benzos_User  Caff_User  Cannabis_User  Choc_User  Coke_User  Crack_User  \\\n",
       "138           1.0        1.0            0.0        1.0        0.0         0.0   \n",
       "1666          0.0        1.0            0.0        1.0        0.0         0.0   \n",
       "1508          1.0        1.0            1.0        1.0        1.0         0.0   \n",
       "721           0.0        1.0            1.0        1.0        0.0         0.0   \n",
       "1265          0.0        1.0            0.0        1.0        1.0         0.0   \n",
       "...           ...        ...            ...        ...        ...         ...   \n",
       "618           0.0        1.0            0.0        1.0        0.0         0.0   \n",
       "250           0.0        1.0            0.0        1.0        0.0         0.0   \n",
       "141           0.0        1.0            0.0        1.0        0.0         0.0   \n",
       "1803          1.0        1.0            1.0        1.0        1.0         0.0   \n",
       "337           0.0        0.0            0.0        1.0        0.0         0.0   \n",
       "\n",
       "      Ecstasy_User  Ketamine_User  LegalH_User  LSD_User  Meth_User  \\\n",
       "138            0.0            0.0          0.0       0.0        1.0   \n",
       "1666           0.0            0.0          0.0       0.0        0.0   \n",
       "1508           1.0            0.0          1.0       1.0        0.0   \n",
       "721            0.0            0.0          0.0       0.0        0.0   \n",
       "1265           1.0            0.0          0.0       0.0        0.0   \n",
       "...            ...            ...          ...       ...        ...   \n",
       "618            0.0            0.0          0.0       0.0        0.0   \n",
       "250            0.0            0.0          0.0       0.0        0.0   \n",
       "141            0.0            0.0          0.0       0.0        0.0   \n",
       "1803           0.0            0.0          0.0       0.0        0.0   \n",
       "337            0.0            0.0          0.0       0.0        0.0   \n",
       "\n",
       "      Mushrooms_User  Nicotine_User  FakeDrugSemeron_User  VSA_User  \n",
       "138              0.0            1.0                   0.0       0.0  \n",
       "1666             0.0            0.0                   0.0       0.0  \n",
       "1508             1.0            1.0                   0.0       0.0  \n",
       "721              0.0            0.0                   0.0       0.0  \n",
       "1265             0.0            0.0                   0.0       0.0  \n",
       "...              ...            ...                   ...       ...  \n",
       "618              0.0            0.0                   0.0       0.0  \n",
       "250              0.0            0.0                   0.0       0.0  \n",
       "141              0.0            1.0                   0.0       0.0  \n",
       "1803             0.0            0.0                   0.0       0.0  \n",
       "337              0.0            0.0                   0.0       0.0  \n",
       "\n",
       "[1413 rows x 40 columns]"
      ]
     },
     "execution_count": 33,
     "metadata": {},
     "output_type": "execute_result"
    }
   ],
   "source": [
    "## Transform X_traian,X_test and remake dfs\n",
    "X_train_df = pd.DataFrame(preprocessor.transform(X_train),\n",
    "                          index=X_train.index, columns=X_cols)\n",
    "X_test_df = pd.DataFrame(preprocessor.transform(X_test),\n",
    "                          index=X_test.index, columns=X_cols)\n",
    "\n",
    "## Tranform X_train and X_test and make into DataFrames\n",
    "X_train_df"
   ]
  },
  {
   "cell_type": "code",
   "execution_count": 34,
   "metadata": {
    "ExecuteTime": {
     "end_time": "2021-05-20T15:39:23.652920Z",
     "start_time": "2021-05-20T15:39:23.610589Z"
    }
   },
   "outputs": [
    {
     "data": {
      "text/plain": [
       "0    0.887533\n",
       "1    0.112467\n",
       "Name: Heroin_binary, dtype: float64"
      ]
     },
     "execution_count": 34,
     "metadata": {},
     "output_type": "execute_result"
    }
   ],
   "source": [
    "y.value_counts(1)"
   ]
  },
  {
   "cell_type": "markdown",
   "metadata": {},
   "source": [
    "## Resampling with SMOTENC"
   ]
  },
  {
   "cell_type": "code",
   "execution_count": 35,
   "metadata": {
    "ExecuteTime": {
     "end_time": "2021-05-20T15:39:23.696932Z",
     "start_time": "2021-05-20T15:39:23.655011Z"
    }
   },
   "outputs": [
    {
     "data": {
      "text/plain": [
       "0    0.883935\n",
       "1    0.116065\n",
       "Name: Heroin_binary, dtype: float64"
      ]
     },
     "execution_count": 35,
     "metadata": {},
     "output_type": "execute_result"
    }
   ],
   "source": [
    "y_train.value_counts(1)"
   ]
  },
  {
   "cell_type": "code",
   "execution_count": 36,
   "metadata": {
    "ExecuteTime": {
     "end_time": "2021-05-20T15:39:23.739721Z",
     "start_time": "2021-05-20T15:39:23.699268Z"
    }
   },
   "outputs": [],
   "source": [
    "## Save list of trues and falses for each cols\n",
    "smote_feats = [False]*len(num_cols) +[True]*len(cat_features)\n",
    "# smote_feats"
   ]
  },
  {
   "cell_type": "code",
   "execution_count": 37,
   "metadata": {
    "ExecuteTime": {
     "end_time": "2021-05-20T15:39:24.450169Z",
     "start_time": "2021-05-20T15:39:23.741778Z"
    },
    "scrolled": true
   },
   "outputs": [
    {
     "data": {
      "text/plain": [
       "1    1249\n",
       "0    1249\n",
       "Name: Heroin_binary, dtype: int64"
      ]
     },
     "execution_count": 37,
     "metadata": {},
     "output_type": "execute_result"
    }
   ],
   "source": [
    "## resample training data\n",
    "smote = SMOTENC(smote_feats)\n",
    "X_train_sm,y_train_sm = smote.fit_resample(X_train_df,y_train)\n",
    "y_train_sm.value_counts()"
   ]
  },
  {
   "cell_type": "markdown",
   "metadata": {},
   "source": [
    "# MODELING"
   ]
  },
  {
   "cell_type": "markdown",
   "metadata": {},
   "source": [
    "#### Setting `train_test_list`"
   ]
  },
  {
   "cell_type": "code",
   "execution_count": 38,
   "metadata": {
    "ExecuteTime": {
     "end_time": "2021-05-20T15:39:24.489877Z",
     "start_time": "2021-05-20T15:39:24.452160Z"
    }
   },
   "outputs": [],
   "source": [
    "### SAVING XY DATA TO LIST TO UNPACK\n",
    "train_test_list = [X_train_sm,y_train_sm,X_test_df,y_test]"
   ]
  },
  {
   "cell_type": "markdown",
   "metadata": {},
   "source": [
    "## Linear SVC"
   ]
  },
  {
   "cell_type": "code",
   "execution_count": 39,
   "metadata": {
    "ExecuteTime": {
     "end_time": "2021-05-20T15:39:25.078613Z",
     "start_time": "2021-05-20T15:39:24.492177Z"
    }
   },
   "outputs": [
    {
     "name": "stdout",
     "output_type": "stream",
     "text": [
      "[i] Training started at 05/20/21-11:39:24:\n",
      "\tTraining time was 0.0948 seconds.\n",
      "\n",
      "           Train  Test  Difference\n",
      "accuracy   0.95  0.89        0.06 \n",
      "\n",
      "------------------------------------------------------------\n",
      "\tCLASSIFICATION REPORT - TEST DATA\n",
      "------------------------------------------------------------\n",
      "              precision    recall  f1-score   support\n",
      "\n",
      "           0       0.97      0.91      0.94       424\n",
      "           1       0.48      0.73      0.58        48\n",
      "\n",
      "    accuracy                           0.89       472\n",
      "   macro avg       0.72      0.82      0.76       472\n",
      "weighted avg       0.92      0.89      0.90       472\n",
      "\n"
     ]
    },
    {
     "data": {
      "image/png": "[encoded data removed]",
      "text/plain": [
       "<Figure size 720x360 with 3 Axes>"
      ]
     },
     "metadata": {
      "needs_background": "light"
     },
     "output_type": "display_data"
    },
    {
     "data": {
      "text/html": [
       "<style>div.sk-top-container {color: black;background-color: white;}div.sk-toggleable {background-color: white;}label.sk-toggleable__label {cursor: pointer;display: block;width: 100%;margin-bottom: 0;padding: 0.2em 0.3em;box-sizing: border-box;text-align: center;}div.sk-toggleable__content {max-height: 0;max-width: 0;overflow: hidden;text-align: left;background-color: #f0f8ff;}div.sk-toggleable__content pre {margin: 0.2em;color: black;border-radius: 0.25em;background-color: #f0f8ff;}input.sk-toggleable__control:checked~div.sk-toggleable__content {max-height: 200px;max-width: 100%;overflow: auto;}div.sk-estimator input.sk-toggleable__control:checked~label.sk-toggleable__label {background-color: #d4ebff;}div.sk-label input.sk-toggleable__control:checked~label.sk-toggleable__label {background-color: #d4ebff;}input.sk-hidden--visually {border: 0;clip: rect(1px 1px 1px 1px);clip: rect(1px, 1px, 1px, 1px);height: 1px;margin: -1px;overflow: hidden;padding: 0;position: absolute;width: 1px;}div.sk-estimator {font-family: monospace;background-color: #f0f8ff;margin: 0.25em 0.25em;border: 1px dotted black;border-radius: 0.25em;box-sizing: border-box;}div.sk-estimator:hover {background-color: #d4ebff;}div.sk-parallel-item::after {content: \"\";width: 100%;border-bottom: 1px solid gray;flex-grow: 1;}div.sk-label:hover label.sk-toggleable__label {background-color: #d4ebff;}div.sk-serial::before {content: \"\";position: absolute;border-left: 1px solid gray;box-sizing: border-box;top: 2em;bottom: 0;left: 50%;}div.sk-serial {display: flex;flex-direction: column;align-items: center;background-color: white;}div.sk-item {z-index: 1;}div.sk-parallel {display: flex;align-items: stretch;justify-content: center;background-color: white;}div.sk-parallel-item {display: flex;flex-direction: column;position: relative;background-color: white;}div.sk-parallel-item:first-child::after {align-self: flex-end;width: 50%;}div.sk-parallel-item:last-child::after {align-self: flex-start;width: 50%;}div.sk-parallel-item:only-child::after {width: 0;}div.sk-dashed-wrapped {border: 1px dashed gray;margin: 0.2em;box-sizing: border-box;padding-bottom: 0.1em;background-color: white;position: relative;}div.sk-label label {font-family: monospace;font-weight: bold;background-color: white;display: inline-block;line-height: 1.2em;}div.sk-label-container {position: relative;z-index: 2;text-align: center;}div.sk-container {display: inline-block;position: relative;}</style><div class=\"sk-top-container\"><div class=\"sk-container\"><div class=\"sk-item\"><div class=\"sk-estimator sk-toggleable\"><input class=\"sk-toggleable__control sk-hidden--visually\" id=\"eee32591-a51f-4a86-8baa-1afee51b9202\" type=\"checkbox\" checked><label class=\"sk-toggleable__label\" for=\"eee32591-a51f-4a86-8baa-1afee51b9202\">SVC</label><div class=\"sk-toggleable__content\"><pre>SVC(C=1, kernel='linear')</pre></div></div></div></div></div>"
      ],
      "text/plain": [
       "SVC(C=1, kernel='linear')"
      ]
     },
     "execution_count": 39,
     "metadata": {},
     "output_type": "execute_result"
    }
   ],
   "source": [
    "svc_linear = SVC(kernel='linear',C=1)\n",
    "pf.fit_and_time_model(svc_linear,*train_test_list)"
   ]
  },
  {
   "cell_type": "markdown",
   "metadata": {},
   "source": [
    "## LogisticRegression"
   ]
  },
  {
   "cell_type": "code",
   "execution_count": 40,
   "metadata": {
    "ExecuteTime": {
     "end_time": "2021-05-20T15:39:25.118206Z",
     "start_time": "2021-05-20T15:39:25.080404Z"
    }
   },
   "outputs": [
    {
     "data": {
      "text/html": [
       "<style>div.sk-top-container {color: black;background-color: white;}div.sk-toggleable {background-color: white;}label.sk-toggleable__label {cursor: pointer;display: block;width: 100%;margin-bottom: 0;padding: 0.2em 0.3em;box-sizing: border-box;text-align: center;}div.sk-toggleable__content {max-height: 0;max-width: 0;overflow: hidden;text-align: left;background-color: #f0f8ff;}div.sk-toggleable__content pre {margin: 0.2em;color: black;border-radius: 0.25em;background-color: #f0f8ff;}input.sk-toggleable__control:checked~div.sk-toggleable__content {max-height: 200px;max-width: 100%;overflow: auto;}div.sk-estimator input.sk-toggleable__control:checked~label.sk-toggleable__label {background-color: #d4ebff;}div.sk-label input.sk-toggleable__control:checked~label.sk-toggleable__label {background-color: #d4ebff;}input.sk-hidden--visually {border: 0;clip: rect(1px 1px 1px 1px);clip: rect(1px, 1px, 1px, 1px);height: 1px;margin: -1px;overflow: hidden;padding: 0;position: absolute;width: 1px;}div.sk-estimator {font-family: monospace;background-color: #f0f8ff;margin: 0.25em 0.25em;border: 1px dotted black;border-radius: 0.25em;box-sizing: border-box;}div.sk-estimator:hover {background-color: #d4ebff;}div.sk-parallel-item::after {content: \"\";width: 100%;border-bottom: 1px solid gray;flex-grow: 1;}div.sk-label:hover label.sk-toggleable__label {background-color: #d4ebff;}div.sk-serial::before {content: \"\";position: absolute;border-left: 1px solid gray;box-sizing: border-box;top: 2em;bottom: 0;left: 50%;}div.sk-serial {display: flex;flex-direction: column;align-items: center;background-color: white;}div.sk-item {z-index: 1;}div.sk-parallel {display: flex;align-items: stretch;justify-content: center;background-color: white;}div.sk-parallel-item {display: flex;flex-direction: column;position: relative;background-color: white;}div.sk-parallel-item:first-child::after {align-self: flex-end;width: 50%;}div.sk-parallel-item:last-child::after {align-self: flex-start;width: 50%;}div.sk-parallel-item:only-child::after {width: 0;}div.sk-dashed-wrapped {border: 1px dashed gray;margin: 0.2em;box-sizing: border-box;padding-bottom: 0.1em;background-color: white;position: relative;}div.sk-label label {font-family: monospace;font-weight: bold;background-color: white;display: inline-block;line-height: 1.2em;}div.sk-label-container {position: relative;z-index: 2;text-align: center;}div.sk-container {display: inline-block;position: relative;}</style><div class=\"sk-top-container\"><div class=\"sk-container\"><div class=\"sk-item sk-dashed-wrapped\"><div class=\"sk-label-container\"><div class=\"sk-label sk-toggleable\"><input class=\"sk-toggleable__control sk-hidden--visually\" id=\"5acac8cb-b9f3-415f-9d85-6b6a07614074\" type=\"checkbox\" ><label class=\"sk-toggleable__label\" for=\"5acac8cb-b9f3-415f-9d85-6b6a07614074\">Pipeline</label><div class=\"sk-toggleable__content\"><pre>Pipeline(steps=[('imputer', SimpleImputer(strategy='median')),\n",
       "                ('scale', StandardScaler())])</pre></div></div></div><div class=\"sk-serial\"><div class=\"sk-item\"><div class=\"sk-estimator sk-toggleable\"><input class=\"sk-toggleable__control sk-hidden--visually\" id=\"4b098662-6ab8-4c48-a416-0fa18c574f18\" type=\"checkbox\" ><label class=\"sk-toggleable__label\" for=\"4b098662-6ab8-4c48-a416-0fa18c574f18\">SimpleImputer</label><div class=\"sk-toggleable__content\"><pre>SimpleImputer(strategy='median')</pre></div></div></div><div class=\"sk-item\"><div class=\"sk-estimator sk-toggleable\"><input class=\"sk-toggleable__control sk-hidden--visually\" id=\"d07ca1a4-9d08-4646-ade9-ebb2ab7e7509\" type=\"checkbox\" ><label class=\"sk-toggleable__label\" for=\"d07ca1a4-9d08-4646-ade9-ebb2ab7e7509\">StandardScaler</label><div class=\"sk-toggleable__content\"><pre>StandardScaler()</pre></div></div></div></div></div></div></div>"
      ],
      "text/plain": [
       "Pipeline(steps=[('imputer', SimpleImputer(strategy='median')),\n",
       "                ('scale', StandardScaler())])"
      ]
     },
     "execution_count": 40,
     "metadata": {},
     "output_type": "execute_result"
    }
   ],
   "source": [
    "preprocessor.named_transformers_['num']"
   ]
  },
  {
   "cell_type": "code",
   "execution_count": 41,
   "metadata": {
    "ExecuteTime": {
     "end_time": "2021-05-20T15:39:25.614255Z",
     "start_time": "2021-05-20T15:39:25.119749Z"
    }
   },
   "outputs": [
    {
     "name": "stdout",
     "output_type": "stream",
     "text": [
      "[i] Training started at 05/20/21-11:39:25:\n",
      "\tTraining time was 0.0497 seconds.\n",
      "\n",
      "           Train  Test  Difference\n",
      "accuracy   0.95  0.89        0.06 \n",
      "\n",
      "------------------------------------------------------------\n",
      "\tCLASSIFICATION REPORT - TEST DATA\n",
      "------------------------------------------------------------\n",
      "              precision    recall  f1-score   support\n",
      "\n",
      "           0       0.97      0.91      0.94       424\n",
      "           1       0.49      0.75      0.59        48\n",
      "\n",
      "    accuracy                           0.89       472\n",
      "   macro avg       0.73      0.83      0.76       472\n",
      "weighted avg       0.92      0.89      0.90       472\n",
      "\n"
     ]
    },
    {
     "data": {
      "image/png": "[encoded data removed]",
      "text/plain": [
       "<Figure size 720x360 with 3 Axes>"
      ]
     },
     "metadata": {
      "needs_background": "light"
     },
     "output_type": "display_data"
    },
    {
     "data": {
      "text/html": [
       "<style>div.sk-top-container {color: black;background-color: white;}div.sk-toggleable {background-color: white;}label.sk-toggleable__label {cursor: pointer;display: block;width: 100%;margin-bottom: 0;padding: 0.2em 0.3em;box-sizing: border-box;text-align: center;}div.sk-toggleable__content {max-height: 0;max-width: 0;overflow: hidden;text-align: left;background-color: #f0f8ff;}div.sk-toggleable__content pre {margin: 0.2em;color: black;border-radius: 0.25em;background-color: #f0f8ff;}input.sk-toggleable__control:checked~div.sk-toggleable__content {max-height: 200px;max-width: 100%;overflow: auto;}div.sk-estimator input.sk-toggleable__control:checked~label.sk-toggleable__label {background-color: #d4ebff;}div.sk-label input.sk-toggleable__control:checked~label.sk-toggleable__label {background-color: #d4ebff;}input.sk-hidden--visually {border: 0;clip: rect(1px 1px 1px 1px);clip: rect(1px, 1px, 1px, 1px);height: 1px;margin: -1px;overflow: hidden;padding: 0;position: absolute;width: 1px;}div.sk-estimator {font-family: monospace;background-color: #f0f8ff;margin: 0.25em 0.25em;border: 1px dotted black;border-radius: 0.25em;box-sizing: border-box;}div.sk-estimator:hover {background-color: #d4ebff;}div.sk-parallel-item::after {content: \"\";width: 100%;border-bottom: 1px solid gray;flex-grow: 1;}div.sk-label:hover label.sk-toggleable__label {background-color: #d4ebff;}div.sk-serial::before {content: \"\";position: absolute;border-left: 1px solid gray;box-sizing: border-box;top: 2em;bottom: 0;left: 50%;}div.sk-serial {display: flex;flex-direction: column;align-items: center;background-color: white;}div.sk-item {z-index: 1;}div.sk-parallel {display: flex;align-items: stretch;justify-content: center;background-color: white;}div.sk-parallel-item {display: flex;flex-direction: column;position: relative;background-color: white;}div.sk-parallel-item:first-child::after {align-self: flex-end;width: 50%;}div.sk-parallel-item:last-child::after {align-self: flex-start;width: 50%;}div.sk-parallel-item:only-child::after {width: 0;}div.sk-dashed-wrapped {border: 1px dashed gray;margin: 0.2em;box-sizing: border-box;padding-bottom: 0.1em;background-color: white;position: relative;}div.sk-label label {font-family: monospace;font-weight: bold;background-color: white;display: inline-block;line-height: 1.2em;}div.sk-label-container {position: relative;z-index: 2;text-align: center;}div.sk-container {display: inline-block;position: relative;}</style><div class=\"sk-top-container\"><div class=\"sk-container\"><div class=\"sk-item\"><div class=\"sk-estimator sk-toggleable\"><input class=\"sk-toggleable__control sk-hidden--visually\" id=\"9d885bf5-40f6-469e-8fab-b7f59c4baab6\" type=\"checkbox\" checked><label class=\"sk-toggleable__label\" for=\"9d885bf5-40f6-469e-8fab-b7f59c4baab6\">LogisticRegression</label><div class=\"sk-toggleable__content\"><pre>LogisticRegression()</pre></div></div></div></div></div>"
      ],
      "text/plain": [
       "LogisticRegression()"
      ]
     },
     "execution_count": 41,
     "metadata": {},
     "output_type": "execute_result"
    }
   ],
   "source": [
    "logreg = LogisticRegression()\n",
    "pf.fit_and_time_model(logreg,*train_test_list)"
   ]
  },
  {
   "cell_type": "code",
   "execution_count": 42,
   "metadata": {
    "ExecuteTime": {
     "end_time": "2021-05-20T15:39:25.658207Z",
     "start_time": "2021-05-20T15:39:25.616023Z"
    }
   },
   "outputs": [],
   "source": [
    "from sklearn.model_selection import GridSearchCV"
   ]
  },
  {
   "cell_type": "code",
   "execution_count": 43,
   "metadata": {
    "ExecuteTime": {
     "end_time": "2021-05-20T15:39:40.437719Z",
     "start_time": "2021-05-20T15:39:25.660218Z"
    }
   },
   "outputs": [
    {
     "name": "stderr",
     "output_type": "stream",
     "text": [
      "/opt/anaconda3/envs/learn-env-new/lib/python3.8/site-packages/sklearn/linear_model/_logistic.py:1353: UserWarning: 'n_jobs' > 1 does not have any effect when 'solver' is set to 'liblinear'. Got 'n_jobs' = 12.\n",
      "  warnings.warn(\"'n_jobs' > 1 does not have any effect when\"\n",
      "/opt/anaconda3/envs/learn-env-new/lib/python3.8/site-packages/sklearn/linear_model/_logistic.py:1353: UserWarning: 'n_jobs' > 1 does not have any effect when 'solver' is set to 'liblinear'. Got 'n_jobs' = 12.\n",
      "  warnings.warn(\"'n_jobs' > 1 does not have any effect when\"\n",
      "/opt/anaconda3/envs/learn-env-new/lib/python3.8/site-packages/sklearn/linear_model/_logistic.py:1353: UserWarning: 'n_jobs' > 1 does not have any effect when 'solver' is set to 'liblinear'. Got 'n_jobs' = 12.\n",
      "  warnings.warn(\"'n_jobs' > 1 does not have any effect when\"\n",
      "/opt/anaconda3/envs/learn-env-new/lib/python3.8/site-packages/sklearn/linear_model/_logistic.py:1353: UserWarning: 'n_jobs' > 1 does not have any effect when 'solver' is set to 'liblinear'. Got 'n_jobs' = 12.\n",
      "  warnings.warn(\"'n_jobs' > 1 does not have any effect when\"\n",
      "/opt/anaconda3/envs/learn-env-new/lib/python3.8/site-packages/sklearn/linear_model/_logistic.py:1353: UserWarning: 'n_jobs' > 1 does not have any effect when 'solver' is set to 'liblinear'. Got 'n_jobs' = 12.\n",
      "  warnings.warn(\"'n_jobs' > 1 does not have any effect when\"\n",
      "/opt/anaconda3/envs/learn-env-new/lib/python3.8/site-packages/sklearn/linear_model/_logistic.py:1353: UserWarning: 'n_jobs' > 1 does not have any effect when 'solver' is set to 'liblinear'. Got 'n_jobs' = 12.\n",
      "  warnings.warn(\"'n_jobs' > 1 does not have any effect when\"\n",
      "/opt/anaconda3/envs/learn-env-new/lib/python3.8/site-packages/sklearn/linear_model/_logistic.py:1353: UserWarning: 'n_jobs' > 1 does not have any effect when 'solver' is set to 'liblinear'. Got 'n_jobs' = 12.\n",
      "  warnings.warn(\"'n_jobs' > 1 does not have any effect when\"\n",
      "/opt/anaconda3/envs/learn-env-new/lib/python3.8/site-packages/sklearn/linear_model/_logistic.py:1353: UserWarning: 'n_jobs' > 1 does not have any effect when 'solver' is set to 'liblinear'. Got 'n_jobs' = 12.\n",
      "  warnings.warn(\"'n_jobs' > 1 does not have any effect when\"\n",
      "/opt/anaconda3/envs/learn-env-new/lib/python3.8/site-packages/sklearn/linear_model/_logistic.py:1353: UserWarning: 'n_jobs' > 1 does not have any effect when 'solver' is set to 'liblinear'. Got 'n_jobs' = 12.\n",
      "  warnings.warn(\"'n_jobs' > 1 does not have any effect when\"\n",
      "/opt/anaconda3/envs/learn-env-new/lib/python3.8/site-packages/sklearn/linear_model/_logistic.py:1353: UserWarning: 'n_jobs' > 1 does not have any effect when 'solver' is set to 'liblinear'. Got 'n_jobs' = 12.\n",
      "  warnings.warn(\"'n_jobs' > 1 does not have any effect when\"\n",
      "/opt/anaconda3/envs/learn-env-new/lib/python3.8/site-packages/sklearn/linear_model/_logistic.py:1353: UserWarning: 'n_jobs' > 1 does not have any effect when 'solver' is set to 'liblinear'. Got 'n_jobs' = 12.\n",
      "  warnings.warn(\"'n_jobs' > 1 does not have any effect when\"\n",
      "/opt/anaconda3/envs/learn-env-new/lib/python3.8/site-packages/sklearn/linear_model/_logistic.py:1353: UserWarning: 'n_jobs' > 1 does not have any effect when 'solver' is set to 'liblinear'. Got 'n_jobs' = 12.\n",
      "  warnings.warn(\"'n_jobs' > 1 does not have any effect when\"\n",
      "/opt/anaconda3/envs/learn-env-new/lib/python3.8/site-packages/sklearn/linear_model/_logistic.py:1353: UserWarning: 'n_jobs' > 1 does not have any effect when 'solver' is set to 'liblinear'. Got 'n_jobs' = 12.\n",
      "  warnings.warn(\"'n_jobs' > 1 does not have any effect when\"\n",
      "/opt/anaconda3/envs/learn-env-new/lib/python3.8/site-packages/sklearn/linear_model/_logistic.py:1353: UserWarning: 'n_jobs' > 1 does not have any effect when 'solver' is set to 'liblinear'. Got 'n_jobs' = 12.\n",
      "  warnings.warn(\"'n_jobs' > 1 does not have any effect when\"\n",
      "/opt/anaconda3/envs/learn-env-new/lib/python3.8/site-packages/sklearn/linear_model/_logistic.py:1353: UserWarning: 'n_jobs' > 1 does not have any effect when 'solver' is set to 'liblinear'. Got 'n_jobs' = 12.\n",
      "  warnings.warn(\"'n_jobs' > 1 does not have any effect when\"\n",
      "/opt/anaconda3/envs/learn-env-new/lib/python3.8/site-packages/sklearn/linear_model/_logistic.py:1353: UserWarning: 'n_jobs' > 1 does not have any effect when 'solver' is set to 'liblinear'. Got 'n_jobs' = 12.\n",
      "  warnings.warn(\"'n_jobs' > 1 does not have any effect when\"\n",
      "/opt/anaconda3/envs/learn-env-new/lib/python3.8/site-packages/sklearn/linear_model/_logistic.py:1353: UserWarning: 'n_jobs' > 1 does not have any effect when 'solver' is set to 'liblinear'. Got 'n_jobs' = 12.\n",
      "  warnings.warn(\"'n_jobs' > 1 does not have any effect when\"\n",
      "/opt/anaconda3/envs/learn-env-new/lib/python3.8/site-packages/sklearn/linear_model/_logistic.py:1353: UserWarning: 'n_jobs' > 1 does not have any effect when 'solver' is set to 'liblinear'. Got 'n_jobs' = 12.\n",
      "  warnings.warn(\"'n_jobs' > 1 does not have any effect when\"\n",
      "/opt/anaconda3/envs/learn-env-new/lib/python3.8/site-packages/sklearn/linear_model/_logistic.py:1353: UserWarning: 'n_jobs' > 1 does not have any effect when 'solver' is set to 'liblinear'. Got 'n_jobs' = 12.\n",
      "  warnings.warn(\"'n_jobs' > 1 does not have any effect when\"\n",
      "/opt/anaconda3/envs/learn-env-new/lib/python3.8/site-packages/sklearn/linear_model/_logistic.py:1353: UserWarning: 'n_jobs' > 1 does not have any effect when 'solver' is set to 'liblinear'. Got 'n_jobs' = 12.\n",
      "  warnings.warn(\"'n_jobs' > 1 does not have any effect when\"\n",
      "/opt/anaconda3/envs/learn-env-new/lib/python3.8/site-packages/sklearn/linear_model/_sag.py:329: ConvergenceWarning: The max_iter was reached which means the coef_ did not converge\n",
      "  warnings.warn(\"The max_iter was reached which means \"\n"
     ]
    },
    {
     "data": {
      "text/plain": [
       "{'max_iter': 25, 'solver': 'saga'}"
      ]
     },
     "execution_count": 43,
     "metadata": {},
     "output_type": "execute_result"
    }
   ],
   "source": [
    "logreg = LogisticRegression(C=1e12,n_jobs=-1)\n",
    "params = {'max_iter':[25,100,50,150],\n",
    "         'solver':['newton-cg', 'lbfgs', 'liblinear', 'sag', 'saga']\n",
    "         }\n",
    "gridsearch = GridSearchCV(logreg,params,scoring='recall')\n",
    "gridsearch.fit(*train_test_list[:2])\n",
    "gridsearch.best_params_"
   ]
  },
  {
   "cell_type": "code",
   "execution_count": 44,
   "metadata": {
    "ExecuteTime": {
     "end_time": "2021-05-20T15:39:40.491374Z",
     "start_time": "2021-05-20T15:39:40.440059Z"
    }
   },
   "outputs": [
    {
     "data": {
      "text/plain": [
       "{'max_iter': 25, 'solver': 'saga'}"
      ]
     },
     "execution_count": 44,
     "metadata": {},
     "output_type": "execute_result"
    }
   ],
   "source": [
    "gridsearch.best_params_"
   ]
  },
  {
   "cell_type": "code",
   "execution_count": 45,
   "metadata": {
    "ExecuteTime": {
     "end_time": "2021-05-20T15:39:40.543065Z",
     "start_time": "2021-05-20T15:39:40.493351Z"
    }
   },
   "outputs": [
    {
     "data": {
      "text/plain": [
       "0.9511935742971888"
      ]
     },
     "execution_count": 45,
     "metadata": {},
     "output_type": "execute_result"
    }
   ],
   "source": [
    "gridsearch.best_score_"
   ]
  },
  {
   "cell_type": "code",
   "execution_count": 46,
   "metadata": {
    "ExecuteTime": {
     "end_time": "2021-05-20T15:39:41.075585Z",
     "start_time": "2021-05-20T15:39:40.545322Z"
    }
   },
   "outputs": [
    {
     "name": "stderr",
     "output_type": "stream",
     "text": [
      "/opt/anaconda3/envs/learn-env-new/lib/python3.8/site-packages/sklearn/linear_model/_sag.py:329: ConvergenceWarning: The max_iter was reached which means the coef_ did not converge\n",
      "  warnings.warn(\"The max_iter was reached which means \"\n"
     ]
    },
    {
     "name": "stdout",
     "output_type": "stream",
     "text": [
      "[i] Training started at 05/20/21-11:39:40:\n",
      "\tTraining time was 0.0356 seconds.\n",
      "\n",
      "           Train  Test  Difference\n",
      "accuracy   0.95  0.89        0.06 \n",
      "\n",
      "------------------------------------------------------------\n",
      "\tCLASSIFICATION REPORT - TEST DATA\n",
      "------------------------------------------------------------\n",
      "              precision    recall  f1-score   support\n",
      "\n",
      "           0       0.97      0.91      0.94       424\n",
      "           1       0.48      0.73      0.58        48\n",
      "\n",
      "    accuracy                           0.89       472\n",
      "   macro avg       0.72      0.82      0.76       472\n",
      "weighted avg       0.92      0.89      0.90       472\n",
      "\n"
     ]
    },
    {
     "data": {
      "image/png": "[encoded data removed]",
      "text/plain": [
       "<Figure size 720x360 with 3 Axes>"
      ]
     },
     "metadata": {
      "needs_background": "light"
     },
     "output_type": "display_data"
    },
    {
     "data": {
      "text/html": [
       "<style>div.sk-top-container {color: black;background-color: white;}div.sk-toggleable {background-color: white;}label.sk-toggleable__label {cursor: pointer;display: block;width: 100%;margin-bottom: 0;padding: 0.2em 0.3em;box-sizing: border-box;text-align: center;}div.sk-toggleable__content {max-height: 0;max-width: 0;overflow: hidden;text-align: left;background-color: #f0f8ff;}div.sk-toggleable__content pre {margin: 0.2em;color: black;border-radius: 0.25em;background-color: #f0f8ff;}input.sk-toggleable__control:checked~div.sk-toggleable__content {max-height: 200px;max-width: 100%;overflow: auto;}div.sk-estimator input.sk-toggleable__control:checked~label.sk-toggleable__label {background-color: #d4ebff;}div.sk-label input.sk-toggleable__control:checked~label.sk-toggleable__label {background-color: #d4ebff;}input.sk-hidden--visually {border: 0;clip: rect(1px 1px 1px 1px);clip: rect(1px, 1px, 1px, 1px);height: 1px;margin: -1px;overflow: hidden;padding: 0;position: absolute;width: 1px;}div.sk-estimator {font-family: monospace;background-color: #f0f8ff;margin: 0.25em 0.25em;border: 1px dotted black;border-radius: 0.25em;box-sizing: border-box;}div.sk-estimator:hover {background-color: #d4ebff;}div.sk-parallel-item::after {content: \"\";width: 100%;border-bottom: 1px solid gray;flex-grow: 1;}div.sk-label:hover label.sk-toggleable__label {background-color: #d4ebff;}div.sk-serial::before {content: \"\";position: absolute;border-left: 1px solid gray;box-sizing: border-box;top: 2em;bottom: 0;left: 50%;}div.sk-serial {display: flex;flex-direction: column;align-items: center;background-color: white;}div.sk-item {z-index: 1;}div.sk-parallel {display: flex;align-items: stretch;justify-content: center;background-color: white;}div.sk-parallel-item {display: flex;flex-direction: column;position: relative;background-color: white;}div.sk-parallel-item:first-child::after {align-self: flex-end;width: 50%;}div.sk-parallel-item:last-child::after {align-self: flex-start;width: 50%;}div.sk-parallel-item:only-child::after {width: 0;}div.sk-dashed-wrapped {border: 1px dashed gray;margin: 0.2em;box-sizing: border-box;padding-bottom: 0.1em;background-color: white;position: relative;}div.sk-label label {font-family: monospace;font-weight: bold;background-color: white;display: inline-block;line-height: 1.2em;}div.sk-label-container {position: relative;z-index: 2;text-align: center;}div.sk-container {display: inline-block;position: relative;}</style><div class=\"sk-top-container\"><div class=\"sk-container\"><div class=\"sk-item\"><div class=\"sk-estimator sk-toggleable\"><input class=\"sk-toggleable__control sk-hidden--visually\" id=\"725939b5-efa6-4eb2-a4be-eb6e13089ba4\" type=\"checkbox\" checked><label class=\"sk-toggleable__label\" for=\"725939b5-efa6-4eb2-a4be-eb6e13089ba4\">LogisticRegression</label><div class=\"sk-toggleable__content\"><pre>LogisticRegression(C=1000000000000.0, max_iter=25, n_jobs=-1, solver='saga')</pre></div></div></div></div></div>"
      ],
      "text/plain": [
       "LogisticRegression(C=1000000000000.0, max_iter=25, n_jobs=-1, solver='saga')"
      ]
     },
     "execution_count": 46,
     "metadata": {},
     "output_type": "execute_result"
    }
   ],
   "source": [
    "best_logreg = gridsearch.best_estimator_\n",
    "pf.fit_and_time_model(best_logreg,*train_test_list)"
   ]
  },
  {
   "cell_type": "code",
   "execution_count": 47,
   "metadata": {
    "ExecuteTime": {
     "end_time": "2021-05-20T15:39:41.118492Z",
     "start_time": "2021-05-20T15:39:41.078180Z"
    }
   },
   "outputs": [],
   "source": [
    "# def get_coeffs(model,X_train):\n",
    "#     return pd.Series(model.coef_.flatten(),index=X_train.columns)"
   ]
  },
  {
   "cell_type": "code",
   "execution_count": 48,
   "metadata": {
    "ExecuteTime": {
     "end_time": "2021-05-20T15:39:41.162995Z",
     "start_time": "2021-05-20T15:39:41.120433Z"
    }
   },
   "outputs": [
    {
     "data": {
      "text/plain": [
       "array([[ 0.43957572, -0.08084964,  0.4221715 ,  0.03591737, -0.15185778,\n",
       "        -0.2415446 ,  0.22851916,  0.39198793,  0.08775315,  0.640616  ,\n",
       "        -2.68628481,  0.14267368, -0.28343505,  0.00657943, -0.56124333,\n",
       "         0.10681949,  0.34236616, -0.41679519, -1.21208075, -0.08830641,\n",
       "        -1.81339885,  0.104934  , -1.69839427,  0.61473144, -0.76323275,\n",
       "         2.45084721, -3.03373652, -1.22854165, -0.95684415,  2.54693575,\n",
       "         1.73577164,  0.86922315,  0.36809292, -0.13671821,  1.33019132,\n",
       "         3.23996987,  0.19316228,  0.71674272, -0.33774004, -0.02240628]])"
      ]
     },
     "execution_count": 48,
     "metadata": {},
     "output_type": "execute_result"
    }
   ],
   "source": [
    "best_logreg.coef_"
   ]
  },
  {
   "cell_type": "code",
   "execution_count": 52,
   "metadata": {
    "ExecuteTime": {
     "end_time": "2021-05-20T15:40:06.093793Z",
     "start_time": "2021-05-20T15:40:06.051716Z"
    }
   },
   "outputs": [
    {
     "data": {
      "text/plain": [
       "Age                             1.552049\n",
       "Education                       0.922332\n",
       "Nscore                          1.525270\n",
       "Escore                          1.036570\n",
       "Oscore                          0.859110\n",
       "Ascore                          0.785414\n",
       "Cscore                          1.256738\n",
       "Impulsiveness                   1.479920\n",
       "SS                              1.091719\n",
       "Gender_Male                     1.897649\n",
       "Country_Canada                  0.068134\n",
       "Country_New Zealand             1.153353\n",
       "Country_Other                   0.753192\n",
       "Country_Republic of Ireland     1.006601\n",
       "Country_UK                      0.570499\n",
       "Country_USA                     1.112733\n",
       "Ethnicity_Black                 1.408276\n",
       "Ethnicity_Mixed-Black/Asian     0.659156\n",
       "Ethnicity_Mixed-White/Asian     0.297577\n",
       "Ethnicity_Mixed-White/Black     0.915480\n",
       "Ethnicity_Other                 0.163099\n",
       "Ethnicity_White                 1.110637\n",
       "Alcohol_User                    0.182977\n",
       "Amphet_User                     1.849160\n",
       "Amyl_User                       0.466157\n",
       "Benzos_User                    11.598169\n",
       "Caff_User                       0.048135\n",
       "Cannabis_User                   0.292719\n",
       "Choc_User                       0.384103\n",
       "Coke_User                      12.767920\n",
       "Crack_User                      5.673304\n",
       "Ecstasy_User                    2.385057\n",
       "Ketamine_User                   1.444976\n",
       "LegalH_User                     0.872216\n",
       "LSD_User                        3.781767\n",
       "Meth_User                      25.532952\n",
       "Mushrooms_User                  1.213080\n",
       "Nicotine_User                   2.047752\n",
       "FakeDrugSemeron_User            0.713381\n",
       "VSA_User                        0.977843\n",
       "intercept                       0.047769\n",
       "Name: odds, dtype: float64"
      ]
     },
     "execution_count": 52,
     "metadata": {},
     "output_type": "execute_result"
    }
   ],
   "source": [
    "coeffs = pf.get_coefficients(best_logreg,X_train_sm,units='odds')\n",
    "coeffs"
   ]
  },
  {
   "cell_type": "code",
   "execution_count": null,
   "metadata": {
    "ExecuteTime": {
     "end_time": "2021-05-20T15:39:41.487385Z",
     "start_time": "2021-05-20T15:39:19.956Z"
    }
   },
   "outputs": [],
   "source": [
    "pf.get_co"
   ]
  },
  {
   "cell_type": "markdown",
   "metadata": {},
   "source": [
    "## RandomForest"
   ]
  },
  {
   "cell_type": "code",
   "execution_count": null,
   "metadata": {
    "ExecuteTime": {
     "end_time": "2021-05-20T15:39:41.488675Z",
     "start_time": "2021-05-20T15:39:19.962Z"
    }
   },
   "outputs": [],
   "source": [
    "rf = RandomForestClassifier()\n",
    "pf.fit_and_time_model(rf,*train_test_list)"
   ]
  },
  {
   "cell_type": "code",
   "execution_count": null,
   "metadata": {
    "ExecuteTime": {
     "end_time": "2021-05-20T15:39:41.490137Z",
     "start_time": "2021-05-20T15:39:19.967Z"
    }
   },
   "outputs": [],
   "source": [
    "rf.get_params()"
   ]
  },
  {
   "cell_type": "code",
   "execution_count": null,
   "metadata": {},
   "outputs": [],
   "source": []
  },
  {
   "cell_type": "code",
   "execution_count": null,
   "metadata": {
    "ExecuteTime": {
     "end_time": "2021-05-20T15:39:41.491564Z",
     "start_time": "2021-05-20T15:39:19.974Z"
    }
   },
   "outputs": [],
   "source": [
    "pf.get_importance(rf,X_test_df);"
   ]
  },
  {
   "cell_type": "markdown",
   "metadata": {},
   "source": [
    "# EXPLAINING MACHINE LEARNING MODELS"
   ]
  },
  {
   "cell_type": "markdown",
   "metadata": {},
   "source": [
    "## Overview"
   ]
  },
  {
   "cell_type": "markdown",
   "metadata": {},
   "source": [
    "- We will discuss/demo 3 methods of interpreting machine learning models. \n",
    "    1. Using Permutation Importance (from scikit-learn)\n",
    "    2. Using `SHAP` model explainers\n",
    "    3. Using `LIME` instance explainers"
   ]
  },
  {
   "cell_type": "markdown",
   "metadata": {},
   "source": [
    "## Permutation Importance"
   ]
  },
  {
   "cell_type": "markdown",
   "metadata": {},
   "source": [
    "> Permutation Importances will iteratively shuffle the rows of a single feature at a time to asses the model's change in performance with that feature's relationship with the target disrupted. \n",
    "- https://scikit-learn.org/stable/modules/permutation_importance.html\n",
    "\n",
    "```python\n",
    "from sklearn.inspection import permutation_importance\n",
    "r = permutation_importance(svc_linear, X_test_df, y_test, n_repeats=30)\n",
    "r.keys()\n",
    "```\n",
    "- Interesting Observation: \n",
    "    - permutation_importance takes a `scoring` argument!\n",
    "\n",
    "> \"**Warning Features that are deemed of low importance for a bad model (low cross-validation score) could be very important for a good model.** Therefore it is always important to evaluate the predictive power of a model using a held-out set (or better with cross-validation) prior to computing importances. Permutation importance does not reflect to the intrinsic predictive value of a feature by itself but how important this feature is for a particular model.\""
   ]
  },
  {
   "cell_type": "code",
   "execution_count": null,
   "metadata": {
    "ExecuteTime": {
     "end_time": "2021-05-20T15:39:41.492990Z",
     "start_time": "2021-05-20T15:39:19.981Z"
    }
   },
   "outputs": [],
   "source": [
    "from sklearn.inspection import permutation_importance"
   ]
  },
  {
   "cell_type": "code",
   "execution_count": null,
   "metadata": {
    "ExecuteTime": {
     "end_time": "2021-05-20T15:39:41.494498Z",
     "start_time": "2021-05-20T15:39:19.986Z"
    }
   },
   "outputs": [],
   "source": [
    "y_test.nunique()"
   ]
  },
  {
   "cell_type": "code",
   "execution_count": null,
   "metadata": {
    "ExecuteTime": {
     "end_time": "2021-05-20T15:39:41.495762Z",
     "start_time": "2021-05-20T15:39:19.990Z"
    }
   },
   "outputs": [],
   "source": [
    "\n",
    "## Adjusting  Score if multi-class\n",
    "eval_metric ='f1'\n",
    "if y_test.nunique() >2:\n",
    "    scoring = f'{eval_metric}_macro'\n",
    "else:\n",
    "    scoring=eval_metric\n",
    "    \n",
    "    "
   ]
  },
  {
   "cell_type": "code",
   "execution_count": null,
   "metadata": {
    "ExecuteTime": {
     "end_time": "2021-05-20T15:39:41.496974Z",
     "start_time": "2021-05-20T15:39:19.996Z"
    }
   },
   "outputs": [],
   "source": [
    "## Permutation importance takes a fit mode and test data. \n",
    "\n",
    "r = permutation_importance(svc_linear, X_test_df, y_test,\n",
    "                           n_repeats=30,scoring=scoring)\n",
    "r.keys()"
   ]
  },
  {
   "cell_type": "code",
   "execution_count": null,
   "metadata": {
    "ExecuteTime": {
     "end_time": "2021-05-20T15:39:41.498187Z",
     "start_time": "2021-05-20T15:39:20.001Z"
    }
   },
   "outputs": [],
   "source": [
    "r['importances_mean']"
   ]
  },
  {
   "cell_type": "code",
   "execution_count": null,
   "metadata": {
    "ExecuteTime": {
     "end_time": "2021-05-20T15:39:41.499403Z",
     "start_time": "2021-05-20T15:39:20.005Z"
    }
   },
   "outputs": [],
   "source": [
    "## can make the mean importances into a series\n",
    "svc_importances = pd.Series(r['importances_mean'],index=X_train_df.columns,\n",
    "                           name = 'svc permutation importance')\n",
    "svc_importances"
   ]
  },
  {
   "cell_type": "code",
   "execution_count": null,
   "metadata": {
    "ExecuteTime": {
     "end_time": "2021-05-20T15:39:41.500506Z",
     "start_time": "2021-05-20T15:39:20.011Z"
    }
   },
   "outputs": [],
   "source": [
    "r = permutation_importance(rf, X_test_df, y_test, n_repeats=30,scoring=scoring)\n",
    "rf_importances = pd.Series(r['importances_mean'],index=X_test_df.columns,\n",
    "                          name= 'rf permutation importance')\n",
    "rf_importances"
   ]
  },
  {
   "cell_type": "code",
   "execution_count": null,
   "metadata": {
    "ExecuteTime": {
     "end_time": "2021-05-20T15:39:41.501705Z",
     "start_time": "2021-05-20T15:39:20.016Z"
    }
   },
   "outputs": [],
   "source": [
    "embedded_importances = pf.get_importance(rf,X_test_df,plot=False)\n",
    "embedded_importances.name ='rf.feature_importances_'\n",
    "embedded_importances"
   ]
  },
  {
   "cell_type": "code",
   "execution_count": null,
   "metadata": {
    "ExecuteTime": {
     "end_time": "2021-05-20T15:39:41.503010Z",
     "start_time": "2021-05-20T15:39:20.020Z"
    }
   },
   "outputs": [],
   "source": [
    "def compare_importances(*importances,sort_index=True,sort_col=0,show_bar=False):\n",
    "    \"\"\"Accepts Series of feature importances to concat.\n",
    "    \n",
    "    Args:\n",
    "        *importances (Seires): seires to concat (recommended to pre-set names of Series)\n",
    "        sort_index (bool, default=True): return series sorted by index. \n",
    "                            If False, sort seires by sort_col  #\n",
    "        sort_col (int, default=0): If sort_index=False, sort df by this column #\n",
    "        show_bar (bool, default=False): If show_bar, returns a pandas styler instead of df\n",
    "                                        with the importances plotted as bar graphs\n",
    "        \n",
    "    Returns:\n",
    "        DataFrame: featutre importances     \n",
    "    \n",
    "        \"\"\"\n",
    "    ## Concat Importances\n",
    "    compare_importances = pd.concat(importances,axis=1)\n",
    "    \n",
    "    ## Sort DF by index or by sort_col\n",
    "    if sort_index:\n",
    "        sort_col_name = 'Index'\n",
    "        compare_importances = compare_importances.sort_index()\n",
    "    else:\n",
    "        sort_col_name = compare_importances.columns[sort_col]\n",
    "        compare_importances= compare_importances.sort_values(sort_col_name,ascending=False)\n",
    "        \n",
    "    ## If show bar, return pandas styler with in-cell bargraphs\n",
    "    if show_bar:\n",
    "        return compare_importances.style.bar().set_caption(f'Feature Importances - sorted by {sort_col_name}')\n",
    "    else:\n",
    "        return compare_importances"
   ]
  },
  {
   "cell_type": "code",
   "execution_count": null,
   "metadata": {
    "ExecuteTime": {
     "end_time": "2021-05-20T15:39:41.504193Z",
     "start_time": "2021-05-20T15:39:20.026Z"
    }
   },
   "outputs": [],
   "source": [
    "## Compare embedded feature importance vs permutation importance\n",
    "comp = pf.compare_importances(embedded_importances,rf_importances,#svc_importances,\n",
    "                          show_bar=True,sort_index=False,sort_col=0)\n",
    "comp"
   ]
  },
  {
   "cell_type": "code",
   "execution_count": null,
   "metadata": {
    "ExecuteTime": {
     "end_time": "2021-05-20T15:39:41.505350Z",
     "start_time": "2021-05-20T15:39:20.031Z"
    }
   },
   "outputs": [],
   "source": [
    "## Compare embedded feature importance vs permutation importance\n",
    "comp = compare_importances(embedded_importances,rf_importances,svc_importances,\n",
    "                          show_bar=True,sort_col=-1,sort_index=False)\n",
    "comp"
   ]
  },
  {
   "cell_type": "markdown",
   "metadata": {},
   "source": [
    "## Using SHAP and Shapely Values for Model Interpretation"
   ]
  },
  {
   "cell_type": "markdown",
   "metadata": {},
   "source": [
    "###  📚Shap Resources"
   ]
  },
  {
   "cell_type": "markdown",
   "metadata": {},
   "source": [
    ">- SHAP (SHapley Additive exPlanations)) \n",
    "    - [Repository](https://github.com/slundberg/shap)\n",
    "    - [Documentation](https://shap.readthedocs.io/en/latest/?badge=latest)\n",
    "        - Install via pip or conda.\n",
    "  \n",
    "\n",
    "- SHAP uses game theory to calcualte Shapely values for each feature in the dataset. \n",
    "- Shapely values are calculated by iteratively testing each feature's contribution to the model by comparing the model's  performance with vs. without the feature. (The \"marginal contribution\" of the feature to the model's performance)."
   ]
  },
  {
   "cell_type": "markdown",
   "metadata": {},
   "source": [
    "\n",
    "\n",
    "#### Papers, Book Excerpts, and  Blogs\n",
    "- [White Paper on Shapely Values](https://arxiv.org/abs/1705.07874)\n",
    "    \n",
    "- [Intepretable Machine Learning Book - Section on SHAP](https://christophm.github.io/interpretable-ml-book/shap.html)\n",
    "    \n",
    "- Towards Data Science Blog Posts:\n",
    "    - [Explain Your Model with SHAP Values](https://towardsdatascience.com/explain-your-model-with-the-shap-values-bc36aac4de3d)\n",
    "\n",
    "    - [Explain Any Model with SHAP KernelExplaibner](https://towardsdatascience.com/explain-any-models-with-the-shap-values-use-the-kernelexplainer-79de9464897a)\n",
    "\n",
    "\n",
    "\n",
    "\n",
    "\n",
    "#### Videos/Talks:\n",
    "- Explaining Machine Learning Models (in general).\n",
    "    - [\"Open the Black Box: an intro to Model Interpretability with LIME and SHAP](https://youtu.be/C80SQe16Rao)\n",
    "- Understanding Shapely/SHAP Values:\n",
    "    - [AI Simplified: SHAP Values in Machine Learning ](https://youtu.be/Tg8aPwPPJ9c)- (Intuitive Explanation)\n",
    "    - [Explainable AI explained! | #4 SHAP  ](https://youtu.be/9haIOplEIGM)- (Math Calculation Explanation)\n"
   ]
  },
  {
   "cell_type": "markdown",
   "metadata": {},
   "source": [
    "### How to Use SHAP"
   ]
  },
  {
   "cell_type": "markdown",
   "metadata": {},
   "source": [
    "- Uses game theory to explain feature importance and how a feature steered a model's prediction(s) by removing each feature and seeing the effect on the error.\n",
    "\n",
    "- SHAP has:\n",
    "    - `TreeExplainer`:\n",
    "        - compatible with sckit learn, xgboost, Catboost\n",
    "    - `KernelExplainer`:\n",
    "        - compatible with \"any\" model\n",
    "        \n",
    "\n",
    "\n",
    "- See [this blog post](https://towardsdatascience.com/explain-your-model-with-the-shap-values-bc36aac4de3d) for intro to topic and how to use with trees\n",
    "\n",
    "- For non-tree/random forest models [see this follow up post]( https://towardsdatascience.com/explain-any-models-with-the-shap-values-use-the-kernelexplainer-79de9464897a)\n",
    "\n",
    "        "
   ]
  },
  {
   "cell_type": "markdown",
   "metadata": {},
   "source": [
    "\n",
    "- Import and initialize javascript:\n",
    "\n",
    "```python\n",
    "import shap \n",
    "shap.initjs()\n",
    "```"
   ]
  },
  {
   "cell_type": "code",
   "execution_count": null,
   "metadata": {
    "ExecuteTime": {
     "end_time": "2021-05-20T15:39:41.506454Z",
     "start_time": "2021-05-20T15:39:20.041Z"
    }
   },
   "outputs": [],
   "source": [
    "import shap \n",
    "print(shap.__version__)\n",
    "shap.initjs()"
   ]
  },
  {
   "cell_type": "code",
   "execution_count": null,
   "metadata": {
    "ExecuteTime": {
     "end_time": "2021-05-20T15:39:41.507867Z",
     "start_time": "2021-05-20T15:39:20.046Z"
    }
   },
   "outputs": [],
   "source": [
    "rf = RandomForestClassifier()\n",
    "pf.fit_and_time_model(rf,*train_test_list)"
   ]
  },
  {
   "cell_type": "markdown",
   "metadata": {},
   "source": [
    "### To Get Expanations for Trees:\n"
   ]
  },
  {
   "cell_type": "markdown",
   "metadata": {},
   "source": [
    "\n",
    "1. Create a shap explainer using your fit model.\n",
    "\n",
    "```python\n",
    "explainer = shap.TreeExplainer(xgb_clf)\n",
    "```\n",
    "\n",
    "2. Get shapely values from explainer for your training data\n",
    "\n",
    "```python\n",
    "shap_values = explainer.shap_values(X_train,y_train)\n",
    "```            \n",
    "\n",
    "3. Select which type of the available plots you'd like to visualize\n",
    "\n",
    "    \n",
    "- **Types of Plots:**\n",
    "    - `summary_plot()`\n",
    "    - `dependence_plot()`\n",
    "    - `force_plot()` for a given observation\n",
    "    - `force_plot()` for all data\n",
    "    \n",
    "  "
   ]
  },
  {
   "cell_type": "code",
   "execution_count": null,
   "metadata": {
    "ExecuteTime": {
     "end_time": "2021-05-20T15:39:41.509101Z",
     "start_time": "2021-05-20T15:39:20.052Z"
    }
   },
   "outputs": [],
   "source": [
    "# importances = pf.get_importance(rf,X_train_df,top_n=30)"
   ]
  },
  {
   "cell_type": "code",
   "execution_count": null,
   "metadata": {
    "ExecuteTime": {
     "end_time": "2021-05-20T15:39:41.510234Z",
     "start_time": "2021-05-20T15:39:20.056Z"
    }
   },
   "outputs": [],
   "source": [
    "## Initialize an explainer with the model\n",
    "explainer = shap.TreeExplainer(rf)\n",
    "\n",
    "## Calculaate shap values for test data\n",
    "shap_values = explainer.shap_values(X_test_df,y_test)\n",
    "len(shap_values)"
   ]
  },
  {
   "cell_type": "code",
   "execution_count": null,
   "metadata": {
    "ExecuteTime": {
     "end_time": "2021-05-20T15:39:41.511415Z",
     "start_time": "2021-05-20T15:39:20.061Z"
    }
   },
   "outputs": [],
   "source": [
    "shap_values[1].shape, X_test_df.shape"
   ]
  },
  {
   "cell_type": "markdown",
   "metadata": {},
   "source": [
    "### Summary Plot"
   ]
  },
  {
   "cell_type": "markdown",
   "metadata": {},
   "source": [
    "```python\n",
    "## For normal bar graph of importance:\n",
    "shap.summary_plot(shap_values[1],X_train,plot_type='bar')\n",
    "\n",
    "## For detail Shapely value visuals:\n",
    "shap.summary_plot(shap_values, X_train)\n",
    "```\n",
    "  \n",
    "\n",
    "**`shap.summary_plot`**\n",
    "> - Feature importance: Variables are ranked in descending order.\n",
    "- Impact: The horizontal location shows whether the effect of that value is associated with a higher or lower prediction.\n",
    "- Original value: Color shows whether that variable is high (in red) or low (in blue) for that observation.\n",
    "\n",
    "\n",
    ">- **IMPORTANT NOTE:** You may need to slice out the correct shap_values for the target class. (by default explainer.shap_values seems to return a list for a binary classification, one set of shap values for each class).\n",
    "    - This will cause issues like the summary plot having a bar with an equal amount of blue and red for each class. \n",
    "    - To fix, slice out the correct matrix from shap_values [0,1]\n"
   ]
  },
  {
   "cell_type": "code",
   "execution_count": null,
   "metadata": {
    "ExecuteTime": {
     "end_time": "2021-05-20T15:39:41.512529Z",
     "start_time": "2021-05-20T15:39:20.067Z"
    }
   },
   "outputs": [],
   "source": [
    "shap.summary_plot(shap_values[1], X_test_df,plot_type='bar',max_display=40)"
   ]
  },
  {
   "cell_type": "code",
   "execution_count": null,
   "metadata": {
    "ExecuteTime": {
     "end_time": "2021-05-20T15:39:41.513765Z",
     "start_time": "2021-05-20T15:39:20.072Z"
    },
    "scrolled": true
   },
   "outputs": [],
   "source": [
    "shap.summary_plot(shap_values[1],X_test_df,max_display=40)"
   ]
  },
  {
   "cell_type": "code",
   "execution_count": null,
   "metadata": {
    "ExecuteTime": {
     "end_time": "2021-05-19T16:51:07.612413Z",
     "start_time": "2021-05-19T16:51:06.664436Z"
    }
   },
   "outputs": [],
   "source": []
  },
  {
   "cell_type": "markdown",
   "metadata": {},
   "source": [
    "### Force Plots"
   ]
  },
  {
   "cell_type": "markdown",
   "metadata": {},
   "source": [
    "`shap.force_plot`"
   ]
  },
  {
   "cell_type": "markdown",
   "metadata": {},
   "source": [
    "To show an individual data point's prediction and the factors pushing it towards one class or another"
   ]
  },
  {
   "cell_type": "markdown",
   "metadata": {},
   "source": [
    "```python\n",
    "## Just using np to randomly select a row\n",
    "row = np.random.choice(range(len(X_train)))\n",
    "                       \n",
    "shap.force_plot(explainer.expected_value, shap_values[row,:], X_train.iloc[row,:])\n",
    "```"
   ]
  },
  {
   "cell_type": "markdown",
   "metadata": {},
   "source": [
    "#### Explain Individual Plot"
   ]
  },
  {
   "cell_type": "code",
   "execution_count": null,
   "metadata": {
    "ExecuteTime": {
     "end_time": "2021-05-20T15:39:41.514906Z",
     "start_time": "2021-05-20T15:39:20.084Z"
    }
   },
   "outputs": [],
   "source": [
    "target_lookup = {0:'Non-User',1:'Heroin User'}\n",
    "target_lookup[0]"
   ]
  },
  {
   "cell_type": "code",
   "execution_count": null,
   "metadata": {
    "ExecuteTime": {
     "end_time": "2021-05-20T15:39:41.515887Z",
     "start_time": "2021-05-20T15:39:20.089Z"
    }
   },
   "outputs": [],
   "source": [
    "row = np.random.choice(range(len(X_test_df)))\n",
    "print(f\"- Row #: {row}\")\n",
    "print(f\"Class = {target_lookup[y_test.iloc[row]]}\")\n",
    "X_test_df.iloc[row].round(2)"
   ]
  },
  {
   "cell_type": "code",
   "execution_count": null,
   "metadata": {
    "ExecuteTime": {
     "end_time": "2021-05-20T15:39:41.517020Z",
     "start_time": "2021-05-20T15:39:20.094Z"
    }
   },
   "outputs": [],
   "source": [
    "## Individual forceplot\n",
    "shap.force_plot(explainer.expected_value[1], shap_values[1][row],X_test_df.iloc[row])       "
   ]
  },
  {
   "cell_type": "code",
   "execution_count": null,
   "metadata": {
    "ExecuteTime": {
     "end_time": "2021-05-20T15:39:41.518198Z",
     "start_time": "2021-05-20T15:39:20.101Z"
    }
   },
   "outputs": [],
   "source": [
    "## Overall Forceplot\n",
    "shap.force_plot(explainer.expected_value[1], shap_values[1],X_test_df)       "
   ]
  },
  {
   "cell_type": "markdown",
   "metadata": {},
   "source": [
    "**`shap.dependence_plot`**"
   ]
  },
  {
   "cell_type": "markdown",
   "metadata": {},
   "source": [
    "\n",
    "```python\n",
    "## To Auto-Select Feature Most correlated with a specific feature, just pass the desired feature's column name.\n",
    "\n",
    "shap.dependence_plot('super_dist', shap_values, X_train)\n",
    "\n",
    "## There is a way to specifically call out multiple features but I wasn't able to summarize it quickly for this nb\n",
    "```"
   ]
  },
  {
   "cell_type": "code",
   "execution_count": null,
   "metadata": {
    "ExecuteTime": {
     "end_time": "2021-05-20T15:39:41.519376Z",
     "start_time": "2021-05-20T15:39:20.108Z"
    }
   },
   "outputs": [],
   "source": [
    "shap.dependence_plot('Education',shap_values[1],X_test_df)"
   ]
  },
  {
   "cell_type": "markdown",
   "metadata": {},
   "source": [
    "### Using SHAP with SVMS: "
   ]
  },
  {
   "cell_type": "markdown",
   "metadata": {},
   "source": [
    "https://slundberg.github.io/shap/notebooks/Iris%20classification%20with%20scikit-learn.html**\n",
    "- ~~Must run the SVC with `probability=True` to be able to use `.predict_proba`, which is needed for the `KernelExplainer`~~"
   ]
  },
  {
   "cell_type": "code",
   "execution_count": null,
   "metadata": {
    "ExecuteTime": {
     "end_time": "2021-05-20T15:39:41.520401Z",
     "start_time": "2021-05-20T15:39:20.116Z"
    }
   },
   "outputs": [],
   "source": [
    "svc_linear = pf.fit_and_time_model(SVC(kernel='linear',C=1),#probability=True,\n",
    "                                *train_test_list)"
   ]
  },
  {
   "cell_type": "code",
   "execution_count": null,
   "metadata": {
    "ExecuteTime": {
     "end_time": "2021-05-20T15:39:41.521560Z",
     "start_time": "2021-05-20T15:39:20.121Z"
    }
   },
   "outputs": [],
   "source": [
    "# pred_func = svc_linear.decision_function\n",
    "X_shap = shap.sample(X_test_df,nsamples=200)\n",
    "explainer = shap.KernelExplainer(svc_linear.predict,X_shap)\n",
    "explainer"
   ]
  },
  {
   "cell_type": "code",
   "execution_count": null,
   "metadata": {
    "ExecuteTime": {
     "end_time": "2021-05-20T15:39:41.522629Z",
     "start_time": "2021-05-20T15:39:20.130Z"
    },
    "scrolled": true
   },
   "outputs": [],
   "source": [
    "shap_values = explainer.shap_values(X_shap,nsamples=100)#, nsamples=1000)"
   ]
  },
  {
   "cell_type": "code",
   "execution_count": null,
   "metadata": {
    "ExecuteTime": {
     "end_time": "2021-05-20T15:39:41.523637Z",
     "start_time": "2021-05-20T15:39:20.136Z"
    }
   },
   "outputs": [],
   "source": [
    "shap_values.shape"
   ]
  },
  {
   "cell_type": "code",
   "execution_count": null,
   "metadata": {
    "ExecuteTime": {
     "end_time": "2021-05-20T15:39:41.524797Z",
     "start_time": "2021-05-20T15:39:20.142Z"
    }
   },
   "outputs": [],
   "source": [
    "X_test_df.shape"
   ]
  },
  {
   "cell_type": "code",
   "execution_count": null,
   "metadata": {
    "ExecuteTime": {
     "end_time": "2021-05-20T15:39:41.525863Z",
     "start_time": "2021-05-20T15:39:20.147Z"
    }
   },
   "outputs": [],
   "source": [
    "shap_values[0].shape"
   ]
  },
  {
   "cell_type": "code",
   "execution_count": null,
   "metadata": {
    "ExecuteTime": {
     "end_time": "2021-05-18T21:30:18.831882Z",
     "start_time": "2021-05-18T21:30:18.791108Z"
    }
   },
   "outputs": [],
   "source": [
    " "
   ]
  },
  {
   "cell_type": "code",
   "execution_count": null,
   "metadata": {
    "ExecuteTime": {
     "end_time": "2021-05-20T15:39:41.527170Z",
     "start_time": "2021-05-20T15:39:20.156Z"
    }
   },
   "outputs": [],
   "source": [
    "# # shap.force_plot(shap_values[0],X_test)\n",
    "shap.summary_plot(shap_values,X_shap) "
   ]
  },
  {
   "cell_type": "code",
   "execution_count": null,
   "metadata": {
    "ExecuteTime": {
     "end_time": "2021-05-20T15:39:41.528262Z",
     "start_time": "2021-05-20T15:39:20.164Z"
    }
   },
   "outputs": [],
   "source": [
    "# shap.summary_plot(shap_values,X_test,plot_type='bar')"
   ]
  },
  {
   "cell_type": "markdown",
   "metadata": {},
   "source": [
    "## Explaining Models with LIME"
   ]
  },
  {
   "cell_type": "markdown",
   "metadata": {},
   "source": [
    ">- LIME (Local Interpretable Model-Agnostic Explanations) \n",
    "    - GitHub: https://github.com/marcotcr/lime\n",
    "    - [White Paper](https://arxiv.org/abs/1602.04938)\n",
    "\n",
    "- [Blog Post:\"ExplainYour Modelw ith LIME\"](https://medium.com/dataman-in-ai/explain-your-model-with-lime-5a1a5867b423)"
   ]
  },
  {
   "cell_type": "code",
   "execution_count": null,
   "metadata": {
    "ExecuteTime": {
     "end_time": "2021-05-20T15:39:41.529848Z",
     "start_time": "2021-05-20T15:39:20.171Z"
    }
   },
   "outputs": [],
   "source": [
    "# !pip install lime\n",
    "from lime.lime_tabular import LimeTabularExplainer"
   ]
  },
  {
   "cell_type": "code",
   "execution_count": null,
   "metadata": {
    "ExecuteTime": {
     "end_time": "2021-05-20T15:39:41.530992Z",
     "start_time": "2021-05-20T15:39:20.177Z"
    }
   },
   "outputs": [],
   "source": [
    "lime_explainer =LimeTabularExplainer(\n",
    "    training_data=np.array(X_test_df),\n",
    "    feature_names=X_train_df.columns,\n",
    "    class_names=['Non-User', 'Heroin-User'],\n",
    "    mode='classification'\n",
    ")"
   ]
  },
  {
   "cell_type": "code",
   "execution_count": null,
   "metadata": {
    "ExecuteTime": {
     "end_time": "2021-05-20T15:39:41.531960Z",
     "start_time": "2021-05-20T15:39:20.184Z"
    }
   },
   "outputs": [],
   "source": [
    "row = np.random.choice(range(len(X_test_df)))\n",
    "print(f\"- Row #: {row}\")\n",
    "print(f\"Class = {target_lookup[y_test.iloc[row]]}\")\n",
    "# X_test_df.iloc[row].round(2)    "
   ]
  },
  {
   "cell_type": "code",
   "execution_count": null,
   "metadata": {
    "ExecuteTime": {
     "end_time": "2021-05-20T15:39:41.533079Z",
     "start_time": "2021-05-20T15:39:20.191Z"
    }
   },
   "outputs": [],
   "source": [
    "exp = lime_explainer.explain_instance(X_test_df.iloc[row], rf.predict_proba)\n",
    "exp.show_in_notebook(show_table=True)"
   ]
  },
  {
   "cell_type": "markdown",
   "metadata": {},
   "source": [
    "# Appendix"
   ]
  },
  {
   "cell_type": "markdown",
   "metadata": {},
   "source": [
    "### Renaming Features"
   ]
  },
  {
   "cell_type": "code",
   "execution_count": null,
   "metadata": {
    "ExecuteTime": {
     "end_time": "2021-05-20T15:39:41.534222Z",
     "start_time": "2021-05-20T15:39:20.199Z"
    }
   },
   "outputs": [],
   "source": [
    "columns= {0:'ID',1:'Age',2:'Gender',3:'Education',4:'Country',5:'Ethnicity',\n",
    "         6:'Nscore',7:'Escore',8:'Oscore',9:\"Ascore\",10:'Cscore',\n",
    "         11:'Impulsiveness',12:'SS'}\n",
    "\n",
    "drug_dict = {13:'Alcohol', \n",
    "              14: 'Amphet', \n",
    "              15: 'Amyl', \n",
    "              16: 'Benzos', \n",
    "              17: 'Caff', \n",
    "              18: 'Cannabis', \n",
    "              19: 'Choc', \n",
    "              20: 'Coke',\n",
    "              21: 'Crack', \n",
    "              22: 'Ecstasy',\n",
    "              23: 'Heroin', \n",
    "              24: 'Ketamine', \n",
    "              25: 'LegalH', \n",
    "              26: 'LSD',\n",
    "              27: 'Meth',\n",
    "              28: 'Mushrooms', \n",
    "              29: 'Nicotine', \n",
    "              30: \"FakeDrugSemeron\",\n",
    "              31: 'VSA'}\n",
    "\n",
    "all_columns = {**columns, **drug_dict}\n",
    "\n",
    "drug_cols = list(drug_dict.values())\n",
    "drug_cols"
   ]
  }
 ],
 "metadata": {
  "kernelspec": {
   "display_name": "learn-env-new",
   "language": "python",
   "name": "learn-env-new"
  },
  "language_info": {
   "codemirror_mode": {
    "name": "ipython",
    "version": 3
   },
   "file_extension": ".py",
   "mimetype": "text/x-python",
   "name": "python",
   "nbconvert_exporter": "python",
   "pygments_lexer": "ipython3",
   "version": "3.8.5"
  },
  "toc": {
   "base_numbering": 1,
   "nav_menu": {},
   "number_sections": true,
   "sideBar": true,
   "skip_h1_title": false,
   "title_cell": "Table of Contents",
   "title_sidebar": "Contents",
   "toc_cell": false,
   "toc_position": {
    "height": "calc(100% - 180px)",
    "left": "10px",
    "top": "150px",
    "width": "256px"
   },
   "toc_section_display": true,
   "toc_window_display": true
  },
  "widgets": {
   "application/vnd.jupyter.widget-state+json": {
    "state": {
     "02fab88372904eddafd82e02fc420a5e": {
      "model_module": "@jupyter-widgets/controls",
      "model_module_version": "1.5.0",
      "model_name": "HTMLModel",
      "state": {
       "layout": "IPY_MODEL_1844a91b130243359a9cd6a72429f9b9",
       "style": "IPY_MODEL_ffd1005c4e474015bc55946dc66ad07e",
       "value": " 56%"
      }
     },
     "03fee5902a274d5590b221996f1e5766": {
      "model_module": "@jupyter-widgets/controls",
      "model_module_version": "1.5.0",
      "model_name": "HBoxModel",
      "state": {
       "children": [
        "IPY_MODEL_bdee0eea5308403d8249e1322a49c8b5",
        "IPY_MODEL_b248714baecd4750bac9d092857b53ec",
        "IPY_MODEL_ce90fbc7289f4a599b4fa8a6f9f6ffa4"
       ],
       "layout": "IPY_MODEL_38b10d85bf194f0c9241773ebfbb4f18"
      }
     },
     "06f1961d19f54ee285cfee9a60b3de48": {
      "model_module": "@jupyter-widgets/controls",
      "model_module_version": "1.5.0",
      "model_name": "DescriptionStyleModel",
      "state": {
       "description_width": ""
      }
     },
     "0d7e536bb610490cb91525dbb601bb19": {
      "model_module": "@jupyter-widgets/controls",
      "model_module_version": "1.5.0",
      "model_name": "HTMLModel",
      "state": {
       "layout": "IPY_MODEL_3ba7697b7b874630a1eef01d45ac7929",
       "style": "IPY_MODEL_350207354f1c475eaf810564184263a6",
       "value": "100%"
      }
     },
     "0f10376ee9504007a0ea56a973eaaa0a": {
      "model_module": "@jupyter-widgets/base",
      "model_module_version": "1.2.0",
      "model_name": "LayoutModel",
      "state": {}
     },
     "10d4d6f1234a4f3d875ad2ba4c3760ea": {
      "model_module": "@jupyter-widgets/base",
      "model_module_version": "1.2.0",
      "model_name": "LayoutModel",
      "state": {}
     },
     "1650d024b0c04890b6f8391ce4793630": {
      "model_module": "@jupyter-widgets/controls",
      "model_module_version": "1.5.0",
      "model_name": "HTMLModel",
      "state": {
       "layout": "IPY_MODEL_e84db9b92fb04cac87ad57e53b99a385",
       "style": "IPY_MODEL_d1e88f9d3a0b4e12a259bde4d8484da4",
       "value": "100%"
      }
     },
     "1844a91b130243359a9cd6a72429f9b9": {
      "model_module": "@jupyter-widgets/base",
      "model_module_version": "1.2.0",
      "model_name": "LayoutModel",
      "state": {}
     },
     "1866db67e36a480aac2fdccc80e349dd": {
      "model_module": "@jupyter-widgets/controls",
      "model_module_version": "1.5.0",
      "model_name": "FloatProgressModel",
      "state": {
       "bar_style": "success",
       "layout": "IPY_MODEL_a18e27f93bf24dcd8636f41bca536d10",
       "style": "IPY_MODEL_54119d29a0354248abde1fdc36489cb6",
       "value": 100
      }
     },
     "18b6368b2dd54a44ad9f1089804899e9": {
      "model_module": "@jupyter-widgets/controls",
      "model_module_version": "1.5.0",
      "model_name": "DescriptionStyleModel",
      "state": {
       "description_width": ""
      }
     },
     "1a3dc7888a3a45f6b83e439238229c5e": {
      "model_module": "@jupyter-widgets/controls",
      "model_module_version": "1.5.0",
      "model_name": "FloatProgressModel",
      "state": {
       "bar_style": "success",
       "layout": "IPY_MODEL_e943d9a41d62475a9dc0f7f162d7b870",
       "max": 200,
       "style": "IPY_MODEL_c35ecde0a95e49e38e9f6c8e2ffd23fe",
       "value": 200
      }
     },
     "1d61c82f365f4b54af54f5aa246a3fc1": {
      "model_module": "@jupyter-widgets/controls",
      "model_module_version": "1.5.0",
      "model_name": "HBoxModel",
      "state": {
       "children": [
        "IPY_MODEL_6d3f35b252fa4929bf1fa3ed1cbc5dc5",
        "IPY_MODEL_359551f5f64646f69dbec23d5d9d7902",
        "IPY_MODEL_bd8c6b9c80504557bc822d0648814302"
       ],
       "layout": "IPY_MODEL_528a28270bbc434c9f3d81ee1124b663"
      }
     },
     "1dc69bae48ee46668927be7eb237dc9a": {
      "model_module": "@jupyter-widgets/base",
      "model_module_version": "1.2.0",
      "model_name": "LayoutModel",
      "state": {}
     },
     "1f3ecf669fb846a1a7dd91b87af852a3": {
      "model_module": "@jupyter-widgets/controls",
      "model_module_version": "1.5.0",
      "model_name": "FloatProgressModel",
      "state": {
       "bar_style": "success",
       "layout": "IPY_MODEL_ea3c5eb99f4e4363b4191ff6dc7cc804",
       "style": "IPY_MODEL_6babc527bf77485bbc926380cc9341d7",
       "value": 100
      }
     },
     "20e348e1bf5f419ba20b720a729e977f": {
      "model_module": "@jupyter-widgets/base",
      "model_module_version": "1.2.0",
      "model_name": "LayoutModel",
      "state": {}
     },
     "223c37bd73ff4ec6ba9940053e49f9b8": {
      "model_module": "@jupyter-widgets/base",
      "model_module_version": "1.2.0",
      "model_name": "LayoutModel",
      "state": {}
     },
     "2252b7482c184797b07378dc30c5f3d6": {
      "model_module": "@jupyter-widgets/controls",
      "model_module_version": "1.5.0",
      "model_name": "ProgressStyleModel",
      "state": {
       "description_width": ""
      }
     },
     "2354f4d9a1b64f5a89bf021ab738d171": {
      "model_module": "@jupyter-widgets/controls",
      "model_module_version": "1.5.0",
      "model_name": "HTMLModel",
      "state": {
       "layout": "IPY_MODEL_3f7852fe5c824fe28e25241e51c8f5f4",
       "style": "IPY_MODEL_9de7dba3c52d40068d15a0c4b3434f3f",
       "value": "100%"
      }
     },
     "23c7456f4a074adaa7e117c6d5e7bfcc": {
      "model_module": "@jupyter-widgets/base",
      "model_module_version": "1.2.0",
      "model_name": "LayoutModel",
      "state": {}
     },
     "23fa0bc3628c4845baa906cf0ef42ab9": {
      "model_module": "@jupyter-widgets/controls",
      "model_module_version": "1.5.0",
      "model_name": "HTMLModel",
      "state": {
       "layout": "IPY_MODEL_223c37bd73ff4ec6ba9940053e49f9b8",
       "style": "IPY_MODEL_cff9848a1c08447c957948effdde059f",
       "value": " 200/200 [02:26&lt;00:00,  1.36it/s]"
      }
     },
     "24a5b3c10b16499fba5a6841276d510d": {
      "model_module": "@jupyter-widgets/controls",
      "model_module_version": "1.5.0",
      "model_name": "DescriptionStyleModel",
      "state": {
       "description_width": ""
      }
     },
     "257f0abdfae349e5ad0073a2c4211c81": {
      "model_module": "@jupyter-widgets/base",
      "model_module_version": "1.2.0",
      "model_name": "LayoutModel",
      "state": {}
     },
     "265dc0ca03c94a478d17a22108815d45": {
      "model_module": "@jupyter-widgets/controls",
      "model_module_version": "1.5.0",
      "model_name": "HBoxModel",
      "state": {
       "children": [
        "IPY_MODEL_02fab88372904eddafd82e02fc420a5e",
        "IPY_MODEL_c14efa934dc74aea86fb58daee693efd",
        "IPY_MODEL_c236ef18d58f4d508c96f6c89f03b33f"
       ],
       "layout": "IPY_MODEL_41a25993a53b4ed5abc0b871f3dcfcb6"
      }
     },
     "26a83807b7424690978ef10af26b7eb0": {
      "model_module": "@jupyter-widgets/controls",
      "model_module_version": "1.5.0",
      "model_name": "HTMLModel",
      "state": {
       "layout": "IPY_MODEL_f08a96c43fbf42058b530ccf994dcc07",
       "style": "IPY_MODEL_cf0e600c596e4d8ead67c5a39ffab707",
       "value": "100%"
      }
     },
     "2a5582e018a54661844d4ad8f8ab13d3": {
      "model_module": "@jupyter-widgets/controls",
      "model_module_version": "1.5.0",
      "model_name": "ProgressStyleModel",
      "state": {
       "description_width": ""
      }
     },
     "300dfe8b8d29442c85f5c75aba9dc3b4": {
      "model_module": "@jupyter-widgets/controls",
      "model_module_version": "1.5.0",
      "model_name": "HTMLModel",
      "state": {
       "layout": "IPY_MODEL_ee0b248e66b344a4aae2e181b1a8c9b5",
       "style": "IPY_MODEL_18b6368b2dd54a44ad9f1089804899e9",
       "value": "100%"
      }
     },
     "30da47f381574b19a3778229c9c6aeb8": {
      "model_module": "@jupyter-widgets/controls",
      "model_module_version": "1.5.0",
      "model_name": "HBoxModel",
      "state": {
       "children": [
        "IPY_MODEL_e95791eb9e214a6cb5df220408ea23c0",
        "IPY_MODEL_8036901737e94e25aa964a7d5026f9a9",
        "IPY_MODEL_23fa0bc3628c4845baa906cf0ef42ab9"
       ],
       "layout": "IPY_MODEL_626b4be5630a46d6a6e685169a5cb1cd"
      }
     },
     "34063d24fa1d4a88b8fb36036e6588d7": {
      "model_module": "@jupyter-widgets/base",
      "model_module_version": "1.2.0",
      "model_name": "LayoutModel",
      "state": {}
     },
     "3418f37589da441f86b9ac6cb5fbd7a4": {
      "model_module": "@jupyter-widgets/base",
      "model_module_version": "1.2.0",
      "model_name": "LayoutModel",
      "state": {}
     },
     "350207354f1c475eaf810564184263a6": {
      "model_module": "@jupyter-widgets/controls",
      "model_module_version": "1.5.0",
      "model_name": "DescriptionStyleModel",
      "state": {
       "description_width": ""
      }
     },
     "359551f5f64646f69dbec23d5d9d7902": {
      "model_module": "@jupyter-widgets/controls",
      "model_module_version": "1.5.0",
      "model_name": "FloatProgressModel",
      "state": {
       "bar_style": "danger",
       "layout": "IPY_MODEL_34063d24fa1d4a88b8fb36036e6588d7",
       "max": 472,
       "style": "IPY_MODEL_637191a8d3514ab3b812c0589b58f77d",
       "value": 5
      }
     },
     "35ce77e58c3b4235acbfaf80196276af": {
      "model_module": "@jupyter-widgets/controls",
      "model_module_version": "1.5.0",
      "model_name": "DescriptionStyleModel",
      "state": {
       "description_width": ""
      }
     },
     "376e4908505e46f5a9b00f302c93fee2": {
      "model_module": "@jupyter-widgets/base",
      "model_module_version": "1.2.0",
      "model_name": "LayoutModel",
      "state": {}
     },
     "388c3c6792bc43379836616408fc3b22": {
      "model_module": "@jupyter-widgets/controls",
      "model_module_version": "1.5.0",
      "model_name": "DescriptionStyleModel",
      "state": {
       "description_width": ""
      }
     },
     "38b10d85bf194f0c9241773ebfbb4f18": {
      "model_module": "@jupyter-widgets/base",
      "model_module_version": "1.2.0",
      "model_name": "LayoutModel",
      "state": {}
     },
     "3ba7697b7b874630a1eef01d45ac7929": {
      "model_module": "@jupyter-widgets/base",
      "model_module_version": "1.2.0",
      "model_name": "LayoutModel",
      "state": {}
     },
     "3e939b0409044720bc3315947e558c68": {
      "model_module": "@jupyter-widgets/controls",
      "model_module_version": "1.5.0",
      "model_name": "HTMLModel",
      "state": {
       "layout": "IPY_MODEL_65033f931cbb441187b94e83d3547384",
       "style": "IPY_MODEL_5e3553f15d2b44ea97ec20bd2a50549b",
       "value": " 100/100 [00:58&lt;00:00,  1.72it/s]"
      }
     },
     "3f3ccd914c8b49d0b47a114c014a2458": {
      "model_module": "@jupyter-widgets/controls",
      "model_module_version": "1.5.0",
      "model_name": "FloatProgressModel",
      "state": {
       "bar_style": "success",
       "layout": "IPY_MODEL_6751a62bb6414ff482ff47c42d97744d",
       "style": "IPY_MODEL_f0cdea016da240508865d93039677a9b",
       "value": 100
      }
     },
     "3f7852fe5c824fe28e25241e51c8f5f4": {
      "model_module": "@jupyter-widgets/base",
      "model_module_version": "1.2.0",
      "model_name": "LayoutModel",
      "state": {}
     },
     "41554c38e7324697a432f39686efd6fa": {
      "model_module": "@jupyter-widgets/controls",
      "model_module_version": "1.5.0",
      "model_name": "ProgressStyleModel",
      "state": {
       "description_width": ""
      }
     },
     "41a1ce5075c749e381b5f3c6d723c23f": {
      "model_module": "@jupyter-widgets/controls",
      "model_module_version": "1.5.0",
      "model_name": "HBoxModel",
      "state": {
       "children": [
        "IPY_MODEL_7e1d0fbacaf649ffbe2a16bad8caf848",
        "IPY_MODEL_c84bc57c329a45338f1e4b7f2861596a",
        "IPY_MODEL_48409c737d6e49d99e0964d097df0b67"
       ],
       "layout": "IPY_MODEL_1dc69bae48ee46668927be7eb237dc9a"
      }
     },
     "41a25993a53b4ed5abc0b871f3dcfcb6": {
      "model_module": "@jupyter-widgets/base",
      "model_module_version": "1.2.0",
      "model_name": "LayoutModel",
      "state": {}
     },
     "451a324f99e24b66a8371afca18bec22": {
      "model_module": "@jupyter-widgets/controls",
      "model_module_version": "1.5.0",
      "model_name": "HTMLModel",
      "state": {
       "layout": "IPY_MODEL_d1215ddf5b684bfab5b468daccfbb5bb",
       "style": "IPY_MODEL_af4c53409abc4678b20aa8ae678b8e62",
       "value": "100%"
      }
     },
     "48409c737d6e49d99e0964d097df0b67": {
      "model_module": "@jupyter-widgets/controls",
      "model_module_version": "1.5.0",
      "model_name": "HTMLModel",
      "state": {
       "layout": "IPY_MODEL_f601c7f91dde43b1a6158d2f9e87228e",
       "style": "IPY_MODEL_73cfba8a71174ca4b3e06903698b87f8",
       "value": " 45/400 [19:54&lt;2:37:06, 26.55s/it]"
      }
     },
     "4a1e3f835099400cbfe1b1a3f13c0922": {
      "model_module": "@jupyter-widgets/controls",
      "model_module_version": "1.5.0",
      "model_name": "DescriptionStyleModel",
      "state": {
       "description_width": ""
      }
     },
     "4fcc250adba44399a5e3d64928fa714a": {
      "model_module": "@jupyter-widgets/controls",
      "model_module_version": "1.5.0",
      "model_name": "HTMLModel",
      "state": {
       "layout": "IPY_MODEL_257f0abdfae349e5ad0073a2c4211c81",
       "style": "IPY_MODEL_bdc8a81b9c7847d7a11565066d4a5447",
       "value": "100%"
      }
     },
     "528a28270bbc434c9f3d81ee1124b663": {
      "model_module": "@jupyter-widgets/base",
      "model_module_version": "1.2.0",
      "model_name": "LayoutModel",
      "state": {}
     },
     "52fce8e2e6184df6aab6eca73e2b141a": {
      "model_module": "@jupyter-widgets/controls",
      "model_module_version": "1.5.0",
      "model_name": "DescriptionStyleModel",
      "state": {
       "description_width": ""
      }
     },
     "539e3e5a457a41e2802e8dce064bf123": {
      "model_module": "@jupyter-widgets/controls",
      "model_module_version": "1.5.0",
      "model_name": "HTMLModel",
      "state": {
       "layout": "IPY_MODEL_95b555141d6741ff8e758dde44a9b64d",
       "style": "IPY_MODEL_58402c617cd94911b694b2808208b6b1",
       "value": "100%"
      }
     },
     "53f323abc24d4cafb70d97ed11442137": {
      "model_module": "@jupyter-widgets/controls",
      "model_module_version": "1.5.0",
      "model_name": "ProgressStyleModel",
      "state": {
       "description_width": ""
      }
     },
     "54119d29a0354248abde1fdc36489cb6": {
      "model_module": "@jupyter-widgets/controls",
      "model_module_version": "1.5.0",
      "model_name": "ProgressStyleModel",
      "state": {
       "description_width": ""
      }
     },
     "55d33cccd6f94254ba0d827a1fff8579": {
      "model_module": "@jupyter-widgets/base",
      "model_module_version": "1.2.0",
      "model_name": "LayoutModel",
      "state": {}
     },
     "575cc9d0928748ed9d224d6d646c5b43": {
      "model_module": "@jupyter-widgets/controls",
      "model_module_version": "1.5.0",
      "model_name": "HBoxModel",
      "state": {
       "children": [
        "IPY_MODEL_0d7e536bb610490cb91525dbb601bb19",
        "IPY_MODEL_c86fb753012540d588b06e60f9ec59d1",
        "IPY_MODEL_8940bd58b80746e1b0aa9dbe34aad408"
       ],
       "layout": "IPY_MODEL_93aa3eae045c4a8eb5478ceeca1e36a8"
      }
     },
     "58402c617cd94911b694b2808208b6b1": {
      "model_module": "@jupyter-widgets/controls",
      "model_module_version": "1.5.0",
      "model_name": "DescriptionStyleModel",
      "state": {
       "description_width": ""
      }
     },
     "58dfdd3dd7634689a6647c937fb43780": {
      "model_module": "@jupyter-widgets/controls",
      "model_module_version": "1.5.0",
      "model_name": "HBoxModel",
      "state": {
       "children": [
        "IPY_MODEL_26a83807b7424690978ef10af26b7eb0",
        "IPY_MODEL_9e1b18623b944e9c93d6e972576ec772",
        "IPY_MODEL_3e939b0409044720bc3315947e558c68"
       ],
       "layout": "IPY_MODEL_e842d137e2f54b71961731db0ecd9c7e"
      }
     },
     "594998dcfd2249d39cf75d41a3f4440d": {
      "model_module": "@jupyter-widgets/controls",
      "model_module_version": "1.5.0",
      "model_name": "DescriptionStyleModel",
      "state": {
       "description_width": ""
      }
     },
     "5e3553f15d2b44ea97ec20bd2a50549b": {
      "model_module": "@jupyter-widgets/controls",
      "model_module_version": "1.5.0",
      "model_name": "DescriptionStyleModel",
      "state": {
       "description_width": ""
      }
     },
     "5f4769057b4440209113743d48242eed": {
      "model_module": "@jupyter-widgets/controls",
      "model_module_version": "1.5.0",
      "model_name": "HBoxModel",
      "state": {
       "children": [
        "IPY_MODEL_451a324f99e24b66a8371afca18bec22",
        "IPY_MODEL_7fb105ea8b784d0a921a989f7842cccd",
        "IPY_MODEL_b0f3eab022224bf9971cedad467ae0ef"
       ],
       "layout": "IPY_MODEL_6a18a06ccac8438fb81da32c495f5a58"
      }
     },
     "60224b18af7c44098b05d9e430acc724": {
      "model_module": "@jupyter-widgets/controls",
      "model_module_version": "1.5.0",
      "model_name": "ProgressStyleModel",
      "state": {
       "description_width": ""
      }
     },
     "625d0a27985d4b77952b537b2883ef4c": {
      "model_module": "@jupyter-widgets/base",
      "model_module_version": "1.2.0",
      "model_name": "LayoutModel",
      "state": {}
     },
     "626b4be5630a46d6a6e685169a5cb1cd": {
      "model_module": "@jupyter-widgets/base",
      "model_module_version": "1.2.0",
      "model_name": "LayoutModel",
      "state": {}
     },
     "6304a66c3de446578733b22fa757112a": {
      "model_module": "@jupyter-widgets/controls",
      "model_module_version": "1.5.0",
      "model_name": "HTMLModel",
      "state": {
       "layout": "IPY_MODEL_84be1f473ca5401aba560ecf54160bbc",
       "style": "IPY_MODEL_35ce77e58c3b4235acbfaf80196276af",
       "value": " 100/100 [01:04&lt;00:00,  1.55it/s]"
      }
     },
     "637191a8d3514ab3b812c0589b58f77d": {
      "model_module": "@jupyter-widgets/controls",
      "model_module_version": "1.5.0",
      "model_name": "ProgressStyleModel",
      "state": {
       "description_width": ""
      }
     },
     "63a5c3ac8ce648e2b174094a895d9b43": {
      "model_module": "@jupyter-widgets/controls",
      "model_module_version": "1.5.0",
      "model_name": "DescriptionStyleModel",
      "state": {
       "description_width": ""
      }
     },
     "65033f931cbb441187b94e83d3547384": {
      "model_module": "@jupyter-widgets/base",
      "model_module_version": "1.2.0",
      "model_name": "LayoutModel",
      "state": {}
     },
     "6751a62bb6414ff482ff47c42d97744d": {
      "model_module": "@jupyter-widgets/base",
      "model_module_version": "1.2.0",
      "model_name": "LayoutModel",
      "state": {}
     },
     "68b1e70162414c91b6a31c97e6e69130": {
      "model_module": "@jupyter-widgets/controls",
      "model_module_version": "1.5.0",
      "model_name": "ProgressStyleModel",
      "state": {
       "description_width": ""
      }
     },
     "6901022acc494389bfe08dce24fb2fa6": {
      "model_module": "@jupyter-widgets/base",
      "model_module_version": "1.2.0",
      "model_name": "LayoutModel",
      "state": {}
     },
     "6a18a06ccac8438fb81da32c495f5a58": {
      "model_module": "@jupyter-widgets/base",
      "model_module_version": "1.2.0",
      "model_name": "LayoutModel",
      "state": {}
     },
     "6babc527bf77485bbc926380cc9341d7": {
      "model_module": "@jupyter-widgets/controls",
      "model_module_version": "1.5.0",
      "model_name": "ProgressStyleModel",
      "state": {
       "description_width": ""
      }
     },
     "6d3f35b252fa4929bf1fa3ed1cbc5dc5": {
      "model_module": "@jupyter-widgets/controls",
      "model_module_version": "1.5.0",
      "model_name": "HTMLModel",
      "state": {
       "layout": "IPY_MODEL_376e4908505e46f5a9b00f302c93fee2",
       "style": "IPY_MODEL_f2caeeefc21a48a3a3f4435b527e6cd5",
       "value": "  1%"
      }
     },
     "6e51d93770724f7cb1ca70c7f33ed6e7": {
      "model_module": "@jupyter-widgets/base",
      "model_module_version": "1.2.0",
      "model_name": "LayoutModel",
      "state": {}
     },
     "6fdb35e02d2040ff92b5376ade6198aa": {
      "model_module": "@jupyter-widgets/base",
      "model_module_version": "1.2.0",
      "model_name": "LayoutModel",
      "state": {}
     },
     "73cfba8a71174ca4b3e06903698b87f8": {
      "model_module": "@jupyter-widgets/controls",
      "model_module_version": "1.5.0",
      "model_name": "DescriptionStyleModel",
      "state": {
       "description_width": ""
      }
     },
     "75582895240444429d06b26bc885a74e": {
      "model_module": "@jupyter-widgets/base",
      "model_module_version": "1.2.0",
      "model_name": "LayoutModel",
      "state": {}
     },
     "7824a30033594e25adad18858ca7e5d2": {
      "model_module": "@jupyter-widgets/controls",
      "model_module_version": "1.5.0",
      "model_name": "HTMLModel",
      "state": {
       "layout": "IPY_MODEL_20e348e1bf5f419ba20b720a729e977f",
       "style": "IPY_MODEL_c230d68836e3458ba63c93b5eadf2a9a",
       "value": " 100/100 [01:41&lt;00:00,  1.01s/it]"
      }
     },
     "788430b4388a4d58a2599252d3619573": {
      "model_module": "@jupyter-widgets/base",
      "model_module_version": "1.2.0",
      "model_name": "LayoutModel",
      "state": {}
     },
     "7b8b419c1cd64f73a82e0b92645cc04c": {
      "model_module": "@jupyter-widgets/base",
      "model_module_version": "1.2.0",
      "model_name": "LayoutModel",
      "state": {}
     },
     "7e1d0fbacaf649ffbe2a16bad8caf848": {
      "model_module": "@jupyter-widgets/controls",
      "model_module_version": "1.5.0",
      "model_name": "HTMLModel",
      "state": {
       "layout": "IPY_MODEL_cf8c6245898d4a6e9006cf36dc427446",
       "style": "IPY_MODEL_be7158a3ed0e42a880c38ef79e12c7fe",
       "value": " 11%"
      }
     },
     "7fb105ea8b784d0a921a989f7842cccd": {
      "model_module": "@jupyter-widgets/controls",
      "model_module_version": "1.5.0",
      "model_name": "FloatProgressModel",
      "state": {
       "bar_style": "success",
       "layout": "IPY_MODEL_a2ad1c8353ed4dfdb6ac7f8c6c75d345",
       "max": 200,
       "style": "IPY_MODEL_53f323abc24d4cafb70d97ed11442137",
       "value": 200
      }
     },
     "8036901737e94e25aa964a7d5026f9a9": {
      "model_module": "@jupyter-widgets/controls",
      "model_module_version": "1.5.0",
      "model_name": "FloatProgressModel",
      "state": {
       "bar_style": "success",
       "layout": "IPY_MODEL_7b8b419c1cd64f73a82e0b92645cc04c",
       "max": 200,
       "style": "IPY_MODEL_ba8ff3c5754c49fb96a37ce4ad8f67c4",
       "value": 200
      }
     },
     "806ae34bfb0544f19e37b4f1571cd680": {
      "model_module": "@jupyter-widgets/controls",
      "model_module_version": "1.5.0",
      "model_name": "HBoxModel",
      "state": {
       "children": [
        "IPY_MODEL_539e3e5a457a41e2802e8dce064bf123",
        "IPY_MODEL_1a3dc7888a3a45f6b83e439238229c5e",
        "IPY_MODEL_9408082590b9404c8e256ee116529d83"
       ],
       "layout": "IPY_MODEL_ea66e93701a341f49d4905200c6a5ee1"
      }
     },
     "813c8c7880f54ac48dacff7378c5d45f": {
      "model_module": "@jupyter-widgets/base",
      "model_module_version": "1.2.0",
      "model_name": "LayoutModel",
      "state": {}
     },
     "82775cf88463431b928f9d69795864f9": {
      "model_module": "@jupyter-widgets/base",
      "model_module_version": "1.2.0",
      "model_name": "LayoutModel",
      "state": {}
     },
     "84be1f473ca5401aba560ecf54160bbc": {
      "model_module": "@jupyter-widgets/base",
      "model_module_version": "1.2.0",
      "model_name": "LayoutModel",
      "state": {}
     },
     "8570b0b54c8e4fddbf5bd15d69affe3a": {
      "model_module": "@jupyter-widgets/controls",
      "model_module_version": "1.5.0",
      "model_name": "ProgressStyleModel",
      "state": {
       "description_width": ""
      }
     },
     "8592090143fc40a4836ee2b9026bef48": {
      "model_module": "@jupyter-widgets/base",
      "model_module_version": "1.2.0",
      "model_name": "LayoutModel",
      "state": {}
     },
     "890d639b0d004d0e9d8b53e1e0e2966f": {
      "model_module": "@jupyter-widgets/controls",
      "model_module_version": "1.5.0",
      "model_name": "ProgressStyleModel",
      "state": {
       "description_width": ""
      }
     },
     "8940bd58b80746e1b0aa9dbe34aad408": {
      "model_module": "@jupyter-widgets/controls",
      "model_module_version": "1.5.0",
      "model_name": "HTMLModel",
      "state": {
       "layout": "IPY_MODEL_75582895240444429d06b26bc885a74e",
       "style": "IPY_MODEL_b9613e0b74ac4c1fb217aebbe5f3e760",
       "value": " 200/200 [02:09&lt;00:00,  1.54it/s]"
      }
     },
     "89eae43972ba4494bc0c426301da1770": {
      "model_module": "@jupyter-widgets/controls",
      "model_module_version": "1.5.0",
      "model_name": "HTMLModel",
      "state": {
       "layout": "IPY_MODEL_b955ac90a0014a50b01358bb8d403e81",
       "style": "IPY_MODEL_594998dcfd2249d39cf75d41a3f4440d",
       "value": " 100/100 [00:31&lt;00:00,  3.15it/s]"
      }
     },
     "8b5151d9b9634f568756c6ea1fc7f608": {
      "model_module": "@jupyter-widgets/base",
      "model_module_version": "1.2.0",
      "model_name": "LayoutModel",
      "state": {}
     },
     "8f899713af2649bfb855e9aee95a6928": {
      "model_module": "@jupyter-widgets/base",
      "model_module_version": "1.2.0",
      "model_name": "LayoutModel",
      "state": {}
     },
     "923db1fa960a48258a552c39001c2368": {
      "model_module": "@jupyter-widgets/controls",
      "model_module_version": "1.5.0",
      "model_name": "DescriptionStyleModel",
      "state": {
       "description_width": ""
      }
     },
     "93aa3eae045c4a8eb5478ceeca1e36a8": {
      "model_module": "@jupyter-widgets/base",
      "model_module_version": "1.2.0",
      "model_name": "LayoutModel",
      "state": {}
     },
     "9408082590b9404c8e256ee116529d83": {
      "model_module": "@jupyter-widgets/controls",
      "model_module_version": "1.5.0",
      "model_name": "HTMLModel",
      "state": {
       "layout": "IPY_MODEL_813c8c7880f54ac48dacff7378c5d45f",
       "style": "IPY_MODEL_24a5b3c10b16499fba5a6841276d510d",
       "value": " 200/200 [06:20&lt;00:00,  1.90s/it]"
      }
     },
     "95b555141d6741ff8e758dde44a9b64d": {
      "model_module": "@jupyter-widgets/base",
      "model_module_version": "1.2.0",
      "model_name": "LayoutModel",
      "state": {}
     },
     "9de7dba3c52d40068d15a0c4b3434f3f": {
      "model_module": "@jupyter-widgets/controls",
      "model_module_version": "1.5.0",
      "model_name": "DescriptionStyleModel",
      "state": {
       "description_width": ""
      }
     },
     "9e1b18623b944e9c93d6e972576ec772": {
      "model_module": "@jupyter-widgets/controls",
      "model_module_version": "1.5.0",
      "model_name": "FloatProgressModel",
      "state": {
       "bar_style": "success",
       "layout": "IPY_MODEL_788430b4388a4d58a2599252d3619573",
       "style": "IPY_MODEL_60224b18af7c44098b05d9e430acc724",
       "value": 100
      }
     },
     "a18e27f93bf24dcd8636f41bca536d10": {
      "model_module": "@jupyter-widgets/base",
      "model_module_version": "1.2.0",
      "model_name": "LayoutModel",
      "state": {}
     },
     "a2ad1c8353ed4dfdb6ac7f8c6c75d345": {
      "model_module": "@jupyter-widgets/base",
      "model_module_version": "1.2.0",
      "model_name": "LayoutModel",
      "state": {}
     },
     "a41590772f83476490782f9b4469d2c0": {
      "model_module": "@jupyter-widgets/controls",
      "model_module_version": "1.5.0",
      "model_name": "HBoxModel",
      "state": {
       "children": [
        "IPY_MODEL_1650d024b0c04890b6f8391ce4793630",
        "IPY_MODEL_3f3ccd914c8b49d0b47a114c014a2458",
        "IPY_MODEL_6304a66c3de446578733b22fa757112a"
       ],
       "layout": "IPY_MODEL_ba8bf5f8446c40f79d69e0b04dcfce55"
      }
     },
     "af4c53409abc4678b20aa8ae678b8e62": {
      "model_module": "@jupyter-widgets/controls",
      "model_module_version": "1.5.0",
      "model_name": "DescriptionStyleModel",
      "state": {
       "description_width": ""
      }
     },
     "b0f3eab022224bf9971cedad467ae0ef": {
      "model_module": "@jupyter-widgets/controls",
      "model_module_version": "1.5.0",
      "model_name": "HTMLModel",
      "state": {
       "layout": "IPY_MODEL_0f10376ee9504007a0ea56a973eaaa0a",
       "style": "IPY_MODEL_923db1fa960a48258a552c39001c2368",
       "value": " 200/200 [01:59&lt;00:00,  1.68it/s]"
      }
     },
     "b248714baecd4750bac9d092857b53ec": {
      "model_module": "@jupyter-widgets/controls",
      "model_module_version": "1.5.0",
      "model_name": "FloatProgressModel",
      "state": {
       "bar_style": "danger",
       "layout": "IPY_MODEL_10d4d6f1234a4f3d875ad2ba4c3760ea",
       "max": 200,
       "style": "IPY_MODEL_8570b0b54c8e4fddbf5bd15d69affe3a",
       "value": 37
      }
     },
     "b56499a88dae410ab9f80400db35c953": {
      "model_module": "@jupyter-widgets/controls",
      "model_module_version": "1.5.0",
      "model_name": "HBoxModel",
      "state": {
       "children": [
        "IPY_MODEL_4fcc250adba44399a5e3d64928fa714a",
        "IPY_MODEL_c6fb7b330fe8438ca95e89a7b08757be",
        "IPY_MODEL_89eae43972ba4494bc0c426301da1770"
       ],
       "layout": "IPY_MODEL_df980332b5164b199aa3e009aeccc641"
      }
     },
     "b786752bf9fe4023b57bfe3ba4e7b109": {
      "model_module": "@jupyter-widgets/base",
      "model_module_version": "1.2.0",
      "model_name": "LayoutModel",
      "state": {}
     },
     "b955ac90a0014a50b01358bb8d403e81": {
      "model_module": "@jupyter-widgets/base",
      "model_module_version": "1.2.0",
      "model_name": "LayoutModel",
      "state": {}
     },
     "b9613e0b74ac4c1fb217aebbe5f3e760": {
      "model_module": "@jupyter-widgets/controls",
      "model_module_version": "1.5.0",
      "model_name": "DescriptionStyleModel",
      "state": {
       "description_width": ""
      }
     },
     "ba8bf5f8446c40f79d69e0b04dcfce55": {
      "model_module": "@jupyter-widgets/base",
      "model_module_version": "1.2.0",
      "model_name": "LayoutModel",
      "state": {}
     },
     "ba8ff3c5754c49fb96a37ce4ad8f67c4": {
      "model_module": "@jupyter-widgets/controls",
      "model_module_version": "1.5.0",
      "model_name": "ProgressStyleModel",
      "state": {
       "description_width": ""
      }
     },
     "bd8c6b9c80504557bc822d0648814302": {
      "model_module": "@jupyter-widgets/controls",
      "model_module_version": "1.5.0",
      "model_name": "HTMLModel",
      "state": {
       "layout": "IPY_MODEL_8f899713af2649bfb855e9aee95a6928",
       "style": "IPY_MODEL_63a5c3ac8ce648e2b174094a895d9b43",
       "value": " 5/472 [00:10&lt;17:04,  2.19s/it]"
      }
     },
     "bdc8a81b9c7847d7a11565066d4a5447": {
      "model_module": "@jupyter-widgets/controls",
      "model_module_version": "1.5.0",
      "model_name": "DescriptionStyleModel",
      "state": {
       "description_width": ""
      }
     },
     "bdee0eea5308403d8249e1322a49c8b5": {
      "model_module": "@jupyter-widgets/controls",
      "model_module_version": "1.5.0",
      "model_name": "HTMLModel",
      "state": {
       "layout": "IPY_MODEL_3418f37589da441f86b9ac6cb5fbd7a4",
       "style": "IPY_MODEL_06f1961d19f54ee285cfee9a60b3de48",
       "value": " 18%"
      }
     },
     "be7158a3ed0e42a880c38ef79e12c7fe": {
      "model_module": "@jupyter-widgets/controls",
      "model_module_version": "1.5.0",
      "model_name": "DescriptionStyleModel",
      "state": {
       "description_width": ""
      }
     },
     "c14efa934dc74aea86fb58daee693efd": {
      "model_module": "@jupyter-widgets/controls",
      "model_module_version": "1.5.0",
      "model_name": "FloatProgressModel",
      "state": {
       "bar_style": "danger",
       "layout": "IPY_MODEL_8b5151d9b9634f568756c6ea1fc7f608",
       "style": "IPY_MODEL_2a5582e018a54661844d4ad8f8ab13d3",
       "value": 56
      }
     },
     "c230d68836e3458ba63c93b5eadf2a9a": {
      "model_module": "@jupyter-widgets/controls",
      "model_module_version": "1.5.0",
      "model_name": "DescriptionStyleModel",
      "state": {
       "description_width": ""
      }
     },
     "c236ef18d58f4d508c96f6c89f03b33f": {
      "model_module": "@jupyter-widgets/controls",
      "model_module_version": "1.5.0",
      "model_name": "HTMLModel",
      "state": {
       "layout": "IPY_MODEL_23c7456f4a074adaa7e117c6d5e7bfcc",
       "style": "IPY_MODEL_e645d5e5a98e435f889a23506ca943d9",
       "value": " 56/100 [00:49&lt;00:39,  1.12it/s]"
      }
     },
     "c35ecde0a95e49e38e9f6c8e2ffd23fe": {
      "model_module": "@jupyter-widgets/controls",
      "model_module_version": "1.5.0",
      "model_name": "ProgressStyleModel",
      "state": {
       "description_width": ""
      }
     },
     "c6881122c33b4a889432a78548f1f351": {
      "model_module": "@jupyter-widgets/controls",
      "model_module_version": "1.5.0",
      "model_name": "HBoxModel",
      "state": {
       "children": [
        "IPY_MODEL_c905f830cd3d4d32bfba86e265f725e5",
        "IPY_MODEL_1f3ecf669fb846a1a7dd91b87af852a3",
        "IPY_MODEL_7824a30033594e25adad18858ca7e5d2"
       ],
       "layout": "IPY_MODEL_6901022acc494389bfe08dce24fb2fa6"
      }
     },
     "c6fb7b330fe8438ca95e89a7b08757be": {
      "model_module": "@jupyter-widgets/controls",
      "model_module_version": "1.5.0",
      "model_name": "FloatProgressModel",
      "state": {
       "bar_style": "success",
       "layout": "IPY_MODEL_6e51d93770724f7cb1ca70c7f33ed6e7",
       "style": "IPY_MODEL_68b1e70162414c91b6a31c97e6e69130",
       "value": 100
      }
     },
     "c84bc57c329a45338f1e4b7f2861596a": {
      "model_module": "@jupyter-widgets/controls",
      "model_module_version": "1.5.0",
      "model_name": "FloatProgressModel",
      "state": {
       "bar_style": "danger",
       "layout": "IPY_MODEL_625d0a27985d4b77952b537b2883ef4c",
       "max": 400,
       "style": "IPY_MODEL_41554c38e7324697a432f39686efd6fa",
       "value": 45
      }
     },
     "c86fb753012540d588b06e60f9ec59d1": {
      "model_module": "@jupyter-widgets/controls",
      "model_module_version": "1.5.0",
      "model_name": "FloatProgressModel",
      "state": {
       "bar_style": "success",
       "layout": "IPY_MODEL_b786752bf9fe4023b57bfe3ba4e7b109",
       "max": 200,
       "style": "IPY_MODEL_2252b7482c184797b07378dc30c5f3d6",
       "value": 200
      }
     },
     "c905f830cd3d4d32bfba86e265f725e5": {
      "model_module": "@jupyter-widgets/controls",
      "model_module_version": "1.5.0",
      "model_name": "HTMLModel",
      "state": {
       "layout": "IPY_MODEL_8592090143fc40a4836ee2b9026bef48",
       "style": "IPY_MODEL_ec66624ec1664e94a848883862193a34",
       "value": "100%"
      }
     },
     "ca07c21aeeec4d03884cd10af901fb94": {
      "model_module": "@jupyter-widgets/controls",
      "model_module_version": "1.5.0",
      "model_name": "HTMLModel",
      "state": {
       "layout": "IPY_MODEL_e1efe8d396054fbd90031b6e243d2539",
       "style": "IPY_MODEL_e712cc45d8e84fc5815e0c1b37fe8564",
       "value": " 100/100 [03:51&lt;00:00,  2.32s/it]"
      }
     },
     "cb5c56c1d01b4d38b3ba00179ea3b0c8": {
      "model_module": "@jupyter-widgets/base",
      "model_module_version": "1.2.0",
      "model_name": "LayoutModel",
      "state": {}
     },
     "ce90fbc7289f4a599b4fa8a6f9f6ffa4": {
      "model_module": "@jupyter-widgets/controls",
      "model_module_version": "1.5.0",
      "model_name": "HTMLModel",
      "state": {
       "layout": "IPY_MODEL_6fdb35e02d2040ff92b5376ade6198aa",
       "style": "IPY_MODEL_52fce8e2e6184df6aab6eca73e2b141a",
       "value": " 37/200 [00:55&lt;04:02,  1.49s/it]"
      }
     },
     "cf0e600c596e4d8ead67c5a39ffab707": {
      "model_module": "@jupyter-widgets/controls",
      "model_module_version": "1.5.0",
      "model_name": "DescriptionStyleModel",
      "state": {
       "description_width": ""
      }
     },
     "cf8c6245898d4a6e9006cf36dc427446": {
      "model_module": "@jupyter-widgets/base",
      "model_module_version": "1.2.0",
      "model_name": "LayoutModel",
      "state": {}
     },
     "cff9848a1c08447c957948effdde059f": {
      "model_module": "@jupyter-widgets/controls",
      "model_module_version": "1.5.0",
      "model_name": "DescriptionStyleModel",
      "state": {
       "description_width": ""
      }
     },
     "d1215ddf5b684bfab5b468daccfbb5bb": {
      "model_module": "@jupyter-widgets/base",
      "model_module_version": "1.2.0",
      "model_name": "LayoutModel",
      "state": {}
     },
     "d1e88f9d3a0b4e12a259bde4d8484da4": {
      "model_module": "@jupyter-widgets/controls",
      "model_module_version": "1.5.0",
      "model_name": "DescriptionStyleModel",
      "state": {
       "description_width": ""
      }
     },
     "d3b98a9eeb984fdd95b8ecb13eee8855": {
      "model_module": "@jupyter-widgets/controls",
      "model_module_version": "1.5.0",
      "model_name": "HBoxModel",
      "state": {
       "children": [
        "IPY_MODEL_300dfe8b8d29442c85f5c75aba9dc3b4",
        "IPY_MODEL_1866db67e36a480aac2fdccc80e349dd",
        "IPY_MODEL_ca07c21aeeec4d03884cd10af901fb94"
       ],
       "layout": "IPY_MODEL_da24fe8a83b44b24b7e96d73e80fa238"
      }
     },
     "d835490e47064cf2951333c7b1dbdd9a": {
      "model_module": "@jupyter-widgets/controls",
      "model_module_version": "1.5.0",
      "model_name": "HBoxModel",
      "state": {
       "children": [
        "IPY_MODEL_2354f4d9a1b64f5a89bf021ab738d171",
        "IPY_MODEL_e270b296a4314e41aa144165c079c429",
        "IPY_MODEL_e8a871c95812433ca582b56b2d9d52e2"
       ],
       "layout": "IPY_MODEL_cb5c56c1d01b4d38b3ba00179ea3b0c8"
      }
     },
     "da24fe8a83b44b24b7e96d73e80fa238": {
      "model_module": "@jupyter-widgets/base",
      "model_module_version": "1.2.0",
      "model_name": "LayoutModel",
      "state": {}
     },
     "df980332b5164b199aa3e009aeccc641": {
      "model_module": "@jupyter-widgets/base",
      "model_module_version": "1.2.0",
      "model_name": "LayoutModel",
      "state": {}
     },
     "e1efe8d396054fbd90031b6e243d2539": {
      "model_module": "@jupyter-widgets/base",
      "model_module_version": "1.2.0",
      "model_name": "LayoutModel",
      "state": {}
     },
     "e270b296a4314e41aa144165c079c429": {
      "model_module": "@jupyter-widgets/controls",
      "model_module_version": "1.5.0",
      "model_name": "FloatProgressModel",
      "state": {
       "bar_style": "success",
       "layout": "IPY_MODEL_f53ccf0396ce444ab2ba62edbf381594",
       "style": "IPY_MODEL_890d639b0d004d0e9d8b53e1e0e2966f",
       "value": 100
      }
     },
     "e645d5e5a98e435f889a23506ca943d9": {
      "model_module": "@jupyter-widgets/controls",
      "model_module_version": "1.5.0",
      "model_name": "DescriptionStyleModel",
      "state": {
       "description_width": ""
      }
     },
     "e712cc45d8e84fc5815e0c1b37fe8564": {
      "model_module": "@jupyter-widgets/controls",
      "model_module_version": "1.5.0",
      "model_name": "DescriptionStyleModel",
      "state": {
       "description_width": ""
      }
     },
     "e842d137e2f54b71961731db0ecd9c7e": {
      "model_module": "@jupyter-widgets/base",
      "model_module_version": "1.2.0",
      "model_name": "LayoutModel",
      "state": {}
     },
     "e84db9b92fb04cac87ad57e53b99a385": {
      "model_module": "@jupyter-widgets/base",
      "model_module_version": "1.2.0",
      "model_name": "LayoutModel",
      "state": {}
     },
     "e8a871c95812433ca582b56b2d9d52e2": {
      "model_module": "@jupyter-widgets/controls",
      "model_module_version": "1.5.0",
      "model_name": "HTMLModel",
      "state": {
       "layout": "IPY_MODEL_82775cf88463431b928f9d69795864f9",
       "style": "IPY_MODEL_4a1e3f835099400cbfe1b1a3f13c0922",
       "value": " 100/100 [01:38&lt;00:00,  1.02it/s]"
      }
     },
     "e943d9a41d62475a9dc0f7f162d7b870": {
      "model_module": "@jupyter-widgets/base",
      "model_module_version": "1.2.0",
      "model_name": "LayoutModel",
      "state": {}
     },
     "e95791eb9e214a6cb5df220408ea23c0": {
      "model_module": "@jupyter-widgets/controls",
      "model_module_version": "1.5.0",
      "model_name": "HTMLModel",
      "state": {
       "layout": "IPY_MODEL_55d33cccd6f94254ba0d827a1fff8579",
       "style": "IPY_MODEL_388c3c6792bc43379836616408fc3b22",
       "value": "100%"
      }
     },
     "ea3c5eb99f4e4363b4191ff6dc7cc804": {
      "model_module": "@jupyter-widgets/base",
      "model_module_version": "1.2.0",
      "model_name": "LayoutModel",
      "state": {}
     },
     "ea66e93701a341f49d4905200c6a5ee1": {
      "model_module": "@jupyter-widgets/base",
      "model_module_version": "1.2.0",
      "model_name": "LayoutModel",
      "state": {}
     },
     "ec66624ec1664e94a848883862193a34": {
      "model_module": "@jupyter-widgets/controls",
      "model_module_version": "1.5.0",
      "model_name": "DescriptionStyleModel",
      "state": {
       "description_width": ""
      }
     },
     "ee0b248e66b344a4aae2e181b1a8c9b5": {
      "model_module": "@jupyter-widgets/base",
      "model_module_version": "1.2.0",
      "model_name": "LayoutModel",
      "state": {}
     },
     "f08a96c43fbf42058b530ccf994dcc07": {
      "model_module": "@jupyter-widgets/base",
      "model_module_version": "1.2.0",
      "model_name": "LayoutModel",
      "state": {}
     },
     "f0cdea016da240508865d93039677a9b": {
      "model_module": "@jupyter-widgets/controls",
      "model_module_version": "1.5.0",
      "model_name": "ProgressStyleModel",
      "state": {
       "description_width": ""
      }
     },
     "f2caeeefc21a48a3a3f4435b527e6cd5": {
      "model_module": "@jupyter-widgets/controls",
      "model_module_version": "1.5.0",
      "model_name": "DescriptionStyleModel",
      "state": {
       "description_width": ""
      }
     },
     "f53ccf0396ce444ab2ba62edbf381594": {
      "model_module": "@jupyter-widgets/base",
      "model_module_version": "1.2.0",
      "model_name": "LayoutModel",
      "state": {}
     },
     "f601c7f91dde43b1a6158d2f9e87228e": {
      "model_module": "@jupyter-widgets/base",
      "model_module_version": "1.2.0",
      "model_name": "LayoutModel",
      "state": {}
     },
     "ffd1005c4e474015bc55946dc66ad07e": {
      "model_module": "@jupyter-widgets/controls",
      "model_module_version": "1.5.0",
      "model_name": "DescriptionStyleModel",
      "state": {
       "description_width": ""
      }
     }
    },
    "version_major": 2,
    "version_minor": 0
   }
  }
 },
 "nbformat": 4,
 "nbformat_minor": 4
}
