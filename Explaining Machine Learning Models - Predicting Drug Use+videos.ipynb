{
 "cells": [
  {
   "cell_type": "markdown",
   "metadata": {},
   "source": [
    "# Explaining Machine Learning Models"
   ]
  },
  {
   "cell_type": "markdown",
   "metadata": {},
   "source": [
    "- Office Hours for 022221FT\n",
    "- 05/19/21"
   ]
  },
  {
   "cell_type": "markdown",
   "metadata": {},
   "source": [
    "## Overview"
   ]
  },
  {
   "cell_type": "markdown",
   "metadata": {},
   "source": [
    "- Fit an SVC and RandomForest model on our new data set. \n",
    "- Discuss 3 different methods for interpreting the models' results and what features it used to make its predictions. \n",
    "    - Permutation Importance\n",
    "    - Using `SHAP` and Shapely Values\n",
    "    - Using `LIME`"
   ]
  },
  {
   "cell_type": "markdown",
   "metadata": {},
   "source": [
    "## Questions"
   ]
  },
  {
   "cell_type": "markdown",
   "metadata": {},
   "source": [
    "- [Google Doc](https://docs.google.com/document/d/1TFMucUZQPhGX6eGvhUpSlrByKHswgC30SUfybcuu6Hw/edit#)"
   ]
  },
  {
   "cell_type": "markdown",
   "metadata": {},
   "source": [
    "## Notebook Headers for Study Group"
   ]
  },
  {
   "cell_type": "markdown",
   "metadata": {},
   "source": [
    "- ⭐️**EXPLAINING MACHINE LEARNING MODELS**⭐️\n",
    "    - All of today's content.\n",
    "-  📚**Shap Resources**\n",
    "    - Collection of Videos, Book Excerpts, and Blogs."
   ]
  },
  {
   "cell_type": "markdown",
   "metadata": {},
   "source": [
    "___"
   ]
  },
  {
   "cell_type": "markdown",
   "metadata": {},
   "source": [
    "# Predicing Drug Use"
   ]
  },
  {
   "cell_type": "markdown",
   "metadata": {},
   "source": [
    "## Goal"
   ]
  },
  {
   "cell_type": "markdown",
   "metadata": {},
   "source": [
    "- To predict if someone is a heroin user and to use the model to gain insights into risk factors for using heroin. "
   ]
  },
  {
   "cell_type": "markdown",
   "metadata": {},
   "source": [
    "## Data"
   ]
  },
  {
   "cell_type": "markdown",
   "metadata": {},
   "source": [
    "- Drug Consumption Survey: \n",
    "    - http://archive.ics.uci.edu/ml/datasets/Drug+consumption+%28quantified%29\n",
    "\n",
    "- Data Set contains information about previous drug use for many classes of drugs, demographic data such as education, age, country, and personality scores for several metrics.\n",
    "    - Nscore\n",
    "    - Escore\t\n",
    "    - Oscore\t\n",
    "    - Ascore\t\n",
    "    - Cscore\t\n",
    "    - Impulsiveness\t\n",
    "    - SS"
   ]
  },
  {
   "cell_type": "markdown",
   "metadata": {},
   "source": [
    ">- This dataset has already been heavily pre-processed to restore the orignal values of the dataset before the dataset providers encoded features. \n",
    "    - See `reference`>`Feature Selection - data-renaming.ipynb`\" [GitHub notebook Link](https://github.com/jirvingphd/dsc-phase-3-project/blob/9258a878234c98d13a48204131fa09eb9171f445/reference/Feature%20Selection%20-%20data-renaming.ipynb)"
   ]
  },
  {
   "cell_type": "markdown",
   "metadata": {},
   "source": [
    "### Imports and Functions"
   ]
  },
  {
   "cell_type": "code",
   "execution_count": null,
   "metadata": {
    "ExecuteTime": {
     "end_time": "2021-05-19T15:11:25.667148Z",
     "start_time": "2021-05-19T15:11:24.498266Z"
    }
   },
   "outputs": [],
   "source": [
    "## Import pd, sns, plt, np\n",
    "from project_functions.imports import *"
   ]
  },
  {
   "cell_type": "code",
   "execution_count": null,
   "metadata": {
    "ExecuteTime": {
     "end_time": "2021-05-19T15:11:25.776024Z",
     "start_time": "2021-05-19T15:11:25.669049Z"
    }
   },
   "outputs": [],
   "source": [
    "## Preprocessing tools\n",
    "from sklearn.model_selection import train_test_split,cross_val_predict,cross_validate\n",
    "from sklearn.preprocessing import MinMaxScaler,StandardScaler,OneHotEncoder\n",
    "from sklearn.impute import SimpleImputer\n",
    "from sklearn.pipeline import Pipeline\n",
    "from sklearn.compose import ColumnTransformer\n",
    "from imblearn.over_sampling import SMOTE,SMOTENC\n",
    "\n",
    "\n",
    "## Models & Utils\n",
    "from sklearn.dummy import DummyClassifier\n",
    "from sklearn.linear_model import LogisticRegression,LogisticRegressionCV\n",
    "from sklearn.ensemble import RandomForestClassifier\n",
    "from sklearn.svm import SVC\n",
    "\n",
    "from time import time"
   ]
  },
  {
   "cell_type": "code",
   "execution_count": null,
   "metadata": {
    "ExecuteTime": {
     "end_time": "2021-05-19T15:11:25.785050Z",
     "start_time": "2021-05-19T15:11:25.781969Z"
    }
   },
   "outputs": [],
   "source": [
    "# ## Changing Pandas Options to see full columns in previews and info\n",
    "n=200\n",
    "pd.set_option('display.max_columns',n)\n",
    "pd.set_option(\"display.max_info_rows\", n)\n",
    "pd.set_option('display.max_info_columns',n)\n",
    "# pd.set_option('display.float_format',lambda x: f\"{x:.2f}\")"
   ]
  },
  {
   "cell_type": "markdown",
   "metadata": {},
   "source": [
    "### Modeling Functionx (WIP)_"
   ]
  },
  {
   "cell_type": "code",
   "execution_count": null,
   "metadata": {
    "ExecuteTime": {
     "end_time": "2021-05-19T15:11:25.823251Z",
     "start_time": "2021-05-19T15:11:25.786866Z"
    }
   },
   "outputs": [],
   "source": [
    "%load_ext autoreload\n",
    "%autoreload 2\n",
    "\n",
    "import project_functions as pf"
   ]
  },
  {
   "cell_type": "markdown",
   "metadata": {},
   "source": [
    "## Preprocessing"
   ]
  },
  {
   "cell_type": "code",
   "execution_count": null,
   "metadata": {
    "ExecuteTime": {
     "end_time": "2021-05-19T15:11:25.908811Z",
     "start_time": "2021-05-19T15:11:25.825083Z"
    }
   },
   "outputs": [],
   "source": [
    "df = pd.read_csv('data/drug_use_renamed_converted.csv')\n",
    "df"
   ]
  },
  {
   "cell_type": "code",
   "execution_count": null,
   "metadata": {
    "ExecuteTime": {
     "end_time": "2021-05-19T15:11:26.027159Z",
     "start_time": "2021-05-19T15:11:25.985823Z"
    }
   },
   "outputs": [],
   "source": [
    "df.info()"
   ]
  },
  {
   "cell_type": "markdown",
   "metadata": {},
   "source": [
    "### Identifying Columns for Preprocessing"
   ]
  },
  {
   "cell_type": "code",
   "execution_count": null,
   "metadata": {
    "ExecuteTime": {
     "end_time": "2021-05-19T15:11:26.065780Z",
     "start_time": "2021-05-19T15:11:26.029183Z"
    }
   },
   "outputs": [],
   "source": [
    "object_cols = list(df.drop(columns=drug_cols).select_dtypes('object').columns)\n",
    "object_cols"
   ]
  },
  {
   "cell_type": "code",
   "execution_count": null,
   "metadata": {
    "ExecuteTime": {
     "end_time": "2021-05-19T15:11:26.099829Z",
     "start_time": "2021-05-19T15:11:26.067597Z"
    }
   },
   "outputs": [],
   "source": [
    "## Column Lists\n",
    "ordinal_cols = ['Age','Education']\n",
    "onehot_cols = ['Gender','Country', 'Ethnicity']"
   ]
  },
  {
   "cell_type": "code",
   "execution_count": null,
   "metadata": {
    "ExecuteTime": {
     "end_time": "2021-05-19T15:11:26.140725Z",
     "start_time": "2021-05-19T15:11:26.101441Z"
    }
   },
   "outputs": [],
   "source": [
    "df.select_dtypes('object').drop(columns=[*drug_cols,*ordinal_cols,*onehot_cols])"
   ]
  },
  {
   "cell_type": "markdown",
   "metadata": {},
   "source": [
    "## Feature Engineering"
   ]
  },
  {
   "cell_type": "markdown",
   "metadata": {},
   "source": [
    "### How to treat drug cols?"
   ]
  },
  {
   "cell_type": "markdown",
   "metadata": {},
   "source": [
    "- Either encode as ordinal or bin into 3 bins ('never used','previous user','current user')"
   ]
  },
  {
   "cell_type": "code",
   "execution_count": null,
   "metadata": {
    "ExecuteTime": {
     "end_time": "2021-05-19T15:11:26.179137Z",
     "start_time": "2021-05-19T15:11:26.142480Z"
    }
   },
   "outputs": [],
   "source": [
    "df['Heroin'].value_counts()"
   ]
  },
  {
   "cell_type": "code",
   "execution_count": null,
   "metadata": {
    "ExecuteTime": {
     "end_time": "2021-05-19T15:11:26.218319Z",
     "start_time": "2021-05-19T15:11:26.181218Z"
    }
   },
   "outputs": [],
   "source": [
    "df['Heroin'].unique()"
   ]
  },
  {
   "cell_type": "markdown",
   "metadata": {},
   "source": [
    "## Making New df for processing"
   ]
  },
  {
   "cell_type": "code",
   "execution_count": null,
   "metadata": {
    "ExecuteTime": {
     "end_time": "2021-05-19T15:11:26.254970Z",
     "start_time": "2021-05-19T15:11:26.220318Z"
    }
   },
   "outputs": [],
   "source": [
    "df2 = df.copy()"
   ]
  },
  {
   "cell_type": "markdown",
   "metadata": {},
   "source": [
    "### Binning Drug Use"
   ]
  },
  {
   "cell_type": "code",
   "execution_count": null,
   "metadata": {
    "ExecuteTime": {
     "end_time": "2021-05-19T15:11:26.292487Z",
     "start_time": "2021-05-19T15:11:26.256888Z"
    }
   },
   "outputs": [],
   "source": [
    "druguse_cat_map = {'Never Used':'Non-User' , \n",
    " 'Used over a Decade Ago': 'Non-User',\n",
    " 'Used in Last Decade':\"User\" ,\n",
    " 'Used in Last Year': \"User\",\n",
    " 'Used in Last Week': \"User\", \n",
    " 'Used in Last Day': \"User\",\n",
    " 'Used in Last Month':\"User\"}\n",
    "druguse_cat_map"
   ]
  },
  {
   "cell_type": "code",
   "execution_count": null,
   "metadata": {
    "ExecuteTime": {
     "end_time": "2021-05-19T15:16:56.269901Z",
     "start_time": "2021-05-19T15:16:56.229688Z"
    }
   },
   "outputs": [],
   "source": [
    "# for col in drug_cols:\n",
    "#     df2[col] = df[col].replace(druguse_cat_map)\n",
    "#     display(df2[col].value_counts(normalize=True, dropna=False))"
   ]
  },
  {
   "cell_type": "code",
   "execution_count": null,
   "metadata": {
    "ExecuteTime": {
     "end_time": "2021-05-19T15:11:26.453310Z",
     "start_time": "2021-05-19T15:11:26.413546Z"
    }
   },
   "outputs": [],
   "source": [
    "df2['Heroin'].value_counts(1)"
   ]
  },
  {
   "cell_type": "markdown",
   "metadata": {},
   "source": [
    "### Encoding Categorical Features (Ordinal)"
   ]
  },
  {
   "cell_type": "code",
   "execution_count": null,
   "metadata": {
    "ExecuteTime": {
     "end_time": "2021-05-19T15:11:26.528391Z",
     "start_time": "2021-05-19T15:11:26.493478Z"
    }
   },
   "outputs": [],
   "source": [
    "ordinal_cols"
   ]
  },
  {
   "cell_type": "markdown",
   "metadata": {},
   "source": [
    "### Age"
   ]
  },
  {
   "cell_type": "code",
   "execution_count": null,
   "metadata": {
    "ExecuteTime": {
     "end_time": "2021-05-19T15:11:26.564449Z",
     "start_time": "2021-05-19T15:11:26.530595Z"
    }
   },
   "outputs": [],
   "source": [
    "## Making age map\n",
    "age_map = {'18-24': 20,\n",
    "           '25-34':30,\n",
    "           '35-44':40, \n",
    "           '45-54':50,\n",
    "           '55-64':60,\n",
    "           '65+':70}"
   ]
  },
  {
   "cell_type": "code",
   "execution_count": null,
   "metadata": {
    "ExecuteTime": {
     "end_time": "2021-05-19T15:11:26.604599Z",
     "start_time": "2021-05-19T15:11:26.566409Z"
    }
   },
   "outputs": [],
   "source": [
    "df2['Age'] = df['Age'].replace(age_map)#.value_counts(dropna=False)\n",
    "df2['Age'].value_counts(dropna=False)"
   ]
  },
  {
   "cell_type": "markdown",
   "metadata": {},
   "source": [
    "### Education"
   ]
  },
  {
   "cell_type": "code",
   "execution_count": null,
   "metadata": {
    "ExecuteTime": {
     "end_time": "2021-05-19T15:11:26.648141Z",
     "start_time": "2021-05-19T15:11:26.611534Z"
    }
   },
   "outputs": [],
   "source": [
    "df['Education'].value_counts(dropna=False)"
   ]
  },
  {
   "cell_type": "code",
   "execution_count": null,
   "metadata": {
    "ExecuteTime": {
     "end_time": "2021-05-19T15:11:26.691568Z",
     "start_time": "2021-05-19T15:11:26.652660Z"
    }
   },
   "outputs": [],
   "source": [
    "education_map = {\"Left school before 16 years\":0, \n",
    "                 \"Left school at 16 years\":1, \n",
    "                 \"Left school at 17 years\":2,\n",
    "                 \"Left school at 18 years\":3,\n",
    "                 \"Some college or university, no certificate or degree\":4,\n",
    "                 \"Professional certificate/ diploma\":5,\n",
    "                 \"University degree\":6, \"Masters degree\":7, \"Doctorate degree\":8}\n",
    "\n",
    "df2[\"Education\"] = df['Education'].replace(education_map)\n",
    "df2['Education'].value_counts(dropna=False)"
   ]
  },
  {
   "cell_type": "code",
   "execution_count": null,
   "metadata": {},
   "outputs": [],
   "source": []
  },
  {
   "cell_type": "code",
   "execution_count": null,
   "metadata": {},
   "outputs": [],
   "source": []
  },
  {
   "cell_type": "code",
   "execution_count": null,
   "metadata": {
    "ExecuteTime": {
     "end_time": "2021-05-19T15:11:26.754685Z",
     "start_time": "2021-05-19T15:11:26.693422Z"
    }
   },
   "outputs": [],
   "source": [
    "df2"
   ]
  },
  {
   "cell_type": "markdown",
   "metadata": {},
   "source": [
    "# Preprocessing"
   ]
  },
  {
   "cell_type": "code",
   "execution_count": null,
   "metadata": {
    "ExecuteTime": {
     "end_time": "2021-05-19T15:11:26.795535Z",
     "start_time": "2021-05-19T15:11:26.756357Z"
    }
   },
   "outputs": [],
   "source": [
    "## Specifying root names of types of features to loop through and filter out from df\n",
    "target_col = 'Heroin'\n",
    "drop_cols = ['ID']\n",
    "target_map = {'Non-User':0, 'User':1}\n",
    "\n",
    "y = df2[target_col].map(target_map).copy()\n",
    "X = df2.drop(columns=[target_col,*drop_cols]).copy()\n",
    "y.value_counts(1,dropna=False)"
   ]
  },
  {
   "cell_type": "code",
   "execution_count": null,
   "metadata": {
    "ExecuteTime": {
     "end_time": "2021-05-19T15:11:26.861492Z",
     "start_time": "2021-05-19T15:11:26.797384Z"
    }
   },
   "outputs": [],
   "source": [
    "X_train,X_test,y_train,y_test = train_test_split(X,y)\n",
    "X_train"
   ]
  },
  {
   "cell_type": "code",
   "execution_count": null,
   "metadata": {
    "ExecuteTime": {
     "end_time": "2021-05-19T15:11:26.895034Z",
     "start_time": "2021-05-19T15:11:26.863553Z"
    }
   },
   "outputs": [],
   "source": [
    "from sklearn import set_config\n",
    "set_config(display='diagram')"
   ]
  },
  {
   "cell_type": "code",
   "execution_count": null,
   "metadata": {
    "ExecuteTime": {
     "end_time": "2021-05-19T15:11:26.933840Z",
     "start_time": "2021-05-19T15:11:26.897217Z"
    }
   },
   "outputs": [],
   "source": [
    "## saving list of numeric vs categorical feature\n",
    "num_cols = list(X_train.select_dtypes('number').columns)\n",
    "cat_cols = list(X_train.select_dtypes('object').columns)\n",
    "\n",
    "## create pipelines and column transformer\n",
    "num_transformer = Pipeline(steps=[\n",
    "    ('imputer',SimpleImputer(strategy='median')),\n",
    "    ('scale',StandardScaler())\n",
    "])\n",
    "\n",
    "cat_transformer = Pipeline(steps=[\n",
    "    ('imputer',SimpleImputer(strategy='constant',fill_value='MISSING')),\n",
    "    ('encoder',OneHotEncoder(sparse=False,drop='first'))\n",
    "])\n",
    "\n",
    "print('# of num_cols:',len(num_cols))\n",
    "print('# of cat_cols:',len(cat_cols))"
   ]
  },
  {
   "cell_type": "code",
   "execution_count": null,
   "metadata": {
    "ExecuteTime": {
     "end_time": "2021-05-19T15:11:27.044060Z",
     "start_time": "2021-05-19T15:11:26.970398Z"
    }
   },
   "outputs": [],
   "source": [
    "## COMBINE BOTH PIPELINES INTO ONE WITH COLUMN TRANSFORMER\n",
    "preprocessor=ColumnTransformer(transformers=[\n",
    "    ('num',num_transformer,num_cols),\n",
    "    ('cat',cat_transformer,cat_cols)])\n",
    "\n",
    "preprocessor"
   ]
  },
  {
   "cell_type": "code",
   "execution_count": null,
   "metadata": {
    "ExecuteTime": {
     "end_time": "2021-05-19T15:11:27.115652Z",
     "start_time": "2021-05-19T15:11:27.046063Z"
    }
   },
   "outputs": [],
   "source": [
    "## Fit preprocessing pipeline on training data and pull out the feature names and X_cols\n",
    "preprocessor.fit(X_train)\n",
    "\n",
    "## Use the encoder's .get_feature_names\n",
    "cat_features = list(preprocessor.named_transformers_['cat'].named_steps['encoder']\\\n",
    "                            .get_feature_names(cat_cols))\n",
    "X_cols = num_cols+cat_features"
   ]
  },
  {
   "cell_type": "code",
   "execution_count": null,
   "metadata": {
    "ExecuteTime": {
     "end_time": "2021-05-19T15:11:27.208448Z",
     "start_time": "2021-05-19T15:11:27.118008Z"
    }
   },
   "outputs": [],
   "source": [
    "## Transform X_traian,X_test and remake dfs\n",
    "X_train_df = pd.DataFrame(preprocessor.transform(X_train),\n",
    "                          index=X_train.index, columns=X_cols)\n",
    "X_test_df = pd.DataFrame(preprocessor.transform(X_test),\n",
    "                          index=X_test.index, columns=X_cols)\n",
    "\n",
    "## Tranform X_train and X_test and make into DataFrames\n",
    "X_train_df"
   ]
  },
  {
   "cell_type": "code",
   "execution_count": null,
   "metadata": {
    "ExecuteTime": {
     "end_time": "2021-05-19T15:11:27.247453Z",
     "start_time": "2021-05-19T15:11:27.210283Z"
    }
   },
   "outputs": [],
   "source": [
    "y.value_counts(1)"
   ]
  },
  {
   "cell_type": "markdown",
   "metadata": {},
   "source": [
    "## Resampling with SMOTENC"
   ]
  },
  {
   "cell_type": "code",
   "execution_count": null,
   "metadata": {
    "ExecuteTime": {
     "end_time": "2021-05-19T15:11:27.284566Z",
     "start_time": "2021-05-19T15:11:27.249315Z"
    }
   },
   "outputs": [],
   "source": [
    "y_train.value_counts(1)"
   ]
  },
  {
   "cell_type": "code",
   "execution_count": null,
   "metadata": {
    "ExecuteTime": {
     "end_time": "2021-05-19T15:11:27.318273Z",
     "start_time": "2021-05-19T15:11:27.286504Z"
    }
   },
   "outputs": [],
   "source": [
    "## Save list of trues and falses for each cols\n",
    "smote_feats = [False]*len(num_cols) +[True]*len(cat_features)\n",
    "# smote_feats"
   ]
  },
  {
   "cell_type": "code",
   "execution_count": null,
   "metadata": {
    "ExecuteTime": {
     "end_time": "2021-05-19T15:11:28.002476Z",
     "start_time": "2021-05-19T15:11:27.320006Z"
    },
    "scrolled": true
   },
   "outputs": [],
   "source": [
    "## resample training data\n",
    "smote = SMOTENC(smote_feats)\n",
    "X_train_sm,y_train_sm = smote.fit_resample(X_train_df,y_train)\n",
    "y_train_sm.value_counts()"
   ]
  },
  {
   "cell_type": "markdown",
   "metadata": {},
   "source": [
    "# MODELING"
   ]
  },
  {
   "cell_type": "markdown",
   "metadata": {},
   "source": [
    "#### Setting `train_test_list`"
   ]
  },
  {
   "cell_type": "code",
   "execution_count": null,
   "metadata": {
    "ExecuteTime": {
     "end_time": "2021-05-19T15:11:28.035582Z",
     "start_time": "2021-05-19T15:11:28.004305Z"
    }
   },
   "outputs": [],
   "source": [
    "### SAVING XY DATA TO LIST TO UNPACK\n",
    "train_test_list = [X_train_sm,y_train_sm,X_test_df,y_test]"
   ]
  },
  {
   "cell_type": "markdown",
   "metadata": {},
   "source": [
    "## Linear SVC"
   ]
  },
  {
   "cell_type": "code",
   "execution_count": null,
   "metadata": {
    "ExecuteTime": {
     "end_time": "2021-05-19T15:11:28.654736Z",
     "start_time": "2021-05-19T15:11:28.037468Z"
    }
   },
   "outputs": [],
   "source": [
    "# tic = time() #timing!\n",
    "svc_linear = SVC(kernel='linear',C=1)\n",
    "pf.fit_and_time_model(svc_linear,*train_test_list)"
   ]
  },
  {
   "cell_type": "markdown",
   "metadata": {},
   "source": [
    "## RandomForest"
   ]
  },
  {
   "cell_type": "code",
   "execution_count": null,
   "metadata": {
    "ExecuteTime": {
     "end_time": "2021-05-19T15:11:29.387171Z",
     "start_time": "2021-05-19T15:11:28.656351Z"
    }
   },
   "outputs": [],
   "source": [
    "rf = RandomForestClassifier()\n",
    "pf.fit_and_time_model(rf,*train_test_list)"
   ]
  },
  {
   "cell_type": "markdown",
   "metadata": {},
   "source": [
    "# ⭐️**EXPLAINING MACHINE LEARNING MODELS**⭐️"
   ]
  },
  {
   "cell_type": "markdown",
   "metadata": {},
   "source": [
    "## Overview"
   ]
  },
  {
   "cell_type": "markdown",
   "metadata": {},
   "source": [
    "- We will discuss/demo 3 methods of interpreting machine learning models. \n",
    "    1. Using Permutation Importance (from scikit-learn)\n",
    "    2. Using `SHAP` model explainers\n",
    "    3. Using `LIME` instance explainers"
   ]
  },
  {
   "cell_type": "markdown",
   "metadata": {},
   "source": [
    "## Permutation Importance"
   ]
  },
  {
   "cell_type": "markdown",
   "metadata": {},
   "source": [
    "> Permutation Importances will iteratively shuffle the rows of a single feature at a time to asses the model's change in performance with that feature's relationship with the target disrupted. \n",
    "- https://scikit-learn.org/stable/modules/permutation_importance.html\n",
    "\n",
    "```python\n",
    "from sklearn.inspection import permutation_importance\n",
    "r = permutation_importance(svc_linear, X_test_df, y_test, n_repeats=30)\n",
    "r.keys()\n",
    "```\n",
    "- Interesting Observation: \n",
    "    - permutation_importance takes a `scoring` argument!\n",
    "\n",
    "> \"**Warning Features that are deemed of low importance for a bad model (low cross-validation score) could be very important for a good model.** Therefore it is always important to evaluate the predictive power of a model using a held-out set (or better with cross-validation) prior to computing importances. Permutation importance does not reflect to the intrinsic predictive value of a feature by itself but how important this feature is for a particular model.\""
   ]
  },
  {
   "cell_type": "code",
   "execution_count": null,
   "metadata": {
    "ExecuteTime": {
     "end_time": "2021-05-19T15:11:29.483808Z",
     "start_time": "2021-05-19T15:11:29.389713Z"
    }
   },
   "outputs": [],
   "source": [
    "from sklearn.inspection import permutation_importance"
   ]
  },
  {
   "cell_type": "code",
   "execution_count": null,
   "metadata": {
    "ExecuteTime": {
     "end_time": "2021-05-19T15:16:23.267375Z",
     "start_time": "2021-05-19T15:16:14.311004Z"
    }
   },
   "outputs": [],
   "source": [
    "## Permutation importance takes a fit mode and test data. \n",
    "r = permutation_importance(svc_linear, X_test_df, y_test,\n",
    "                           n_repeats=30,scoring='f1')\n",
    "r.keys()"
   ]
  },
  {
   "cell_type": "code",
   "execution_count": null,
   "metadata": {
    "ExecuteTime": {
     "end_time": "2021-05-19T15:11:36.571088Z",
     "start_time": "2021-05-19T15:11:36.537909Z"
    }
   },
   "outputs": [],
   "source": [
    "## can make the mean importances into a series\n",
    "svc_importances = pd.Series(r['importances_mean'],index=X_train_df.columns,\n",
    "                           name = 'svc permutation importance')\n",
    "svc_importances"
   ]
  },
  {
   "cell_type": "code",
   "execution_count": null,
   "metadata": {
    "ExecuteTime": {
     "end_time": "2021-05-19T15:16:40.815793Z",
     "start_time": "2021-05-19T15:16:23.269130Z"
    }
   },
   "outputs": [],
   "source": [
    "r = permutation_importance(rf, X_test_df, y_test, n_repeats=30, scoring='f1')\n",
    "rf_importances = pd.Series(r['importances_mean'],index=X_test_df.columns,\n",
    "                          name= 'rf permutation importance')\n",
    "rf_importances"
   ]
  },
  {
   "cell_type": "code",
   "execution_count": null,
   "metadata": {
    "ExecuteTime": {
     "end_time": "2021-05-19T15:16:40.867139Z",
     "start_time": "2021-05-19T15:16:40.817985Z"
    }
   },
   "outputs": [],
   "source": [
    "embedded_importances = pf.get_importance(rf,X_test_df,plot=False)\n",
    "embedded_importances.name ='rf.feature_importances_'\n",
    "embedded_importances"
   ]
  },
  {
   "cell_type": "code",
   "execution_count": null,
   "metadata": {
    "ExecuteTime": {
     "end_time": "2021-05-19T15:16:40.912750Z",
     "start_time": "2021-05-19T15:16:40.869788Z"
    }
   },
   "outputs": [],
   "source": [
    "def compare_importances(*importances,sort_index=True,sort_col=0,show_bar=False):\n",
    "    \"\"\"Accepts Series of feature importances to concat.\n",
    "    \n",
    "    Args:\n",
    "        *importances (Seires): seires to concat (recommended to pre-set names of Series)\n",
    "        sort_index (bool, default=True): return series sorted by index. \n",
    "                            If False, sort seires by sort_col  #\n",
    "        sort_col (int, default=0): If sort_index=False, sort df by this column #\n",
    "        show_bar (bool, default=False): If show_bar, returns a pandas styler instead of df\n",
    "                                        with the importances plotted as bar graphs\n",
    "        \n",
    "    Returns:\n",
    "        DataFrame: featutre importances     \n",
    "    \n",
    "        \"\"\"\n",
    "    ## Concat Importances\n",
    "    compare_importances = pd.concat(importances,axis=1)\n",
    "    \n",
    "    ## Sort DF by index or by sort_col\n",
    "    if sort_index:\n",
    "        compare_importances = compare_importances.sort_index()\n",
    "    else:\n",
    "        sort_col_name = compare_importances.columns[sort_col]\n",
    "        compare_importances= compare_importances.sort_values(sort_col_name,ascending=False)\n",
    "        \n",
    "    ## If show bar, return pandas styler with in-cell bargraphs\n",
    "    if show_bar:\n",
    "        return compare_importances.style.bar().set_caption('Feature Importances')\n",
    "    else:\n",
    "        return compare_importances"
   ]
  },
  {
   "cell_type": "code",
   "execution_count": null,
   "metadata": {
    "ExecuteTime": {
     "end_time": "2021-05-19T15:17:38.101874Z",
     "start_time": "2021-05-19T15:17:38.046776Z"
    }
   },
   "outputs": [],
   "source": [
    "## Compare embedded feature importance vs permutation importance\n",
    "comp = compare_importances(embedded_importances,rf_importances,#svc_importances,\n",
    "                          show_bar=True,sort_index=False,sort_col=0)\n",
    "comp"
   ]
  },
  {
   "cell_type": "code",
   "execution_count": null,
   "metadata": {
    "ExecuteTime": {
     "end_time": "2021-05-19T15:16:41.044055Z",
     "start_time": "2021-05-19T15:16:40.976552Z"
    }
   },
   "outputs": [],
   "source": [
    "## Compare embedded feature importance vs permutation importance\n",
    "comp = compare_importances(embedded_importances,rf_importances,svc_importances,\n",
    "                          show_bar=True,sort_col=-1,sort_index=False)\n",
    "comp"
   ]
  },
  {
   "cell_type": "markdown",
   "metadata": {},
   "source": [
    "## Using SHAP and Shapely Values for Model Interpretation"
   ]
  },
  {
   "cell_type": "markdown",
   "metadata": {},
   "source": [
    "###  📚**Shap Resources**"
   ]
  },
  {
   "cell_type": "markdown",
   "metadata": {},
   "source": [
    ">- SHAP (SHapley Additive exPlanations)) \n",
    "    - [Repository](https://github.com/slundberg/shap)\n",
    "    - [Documentation](https://shap.readthedocs.io/en/latest/?badge=latest)\n",
    "        - Install via pip or conda.\n",
    "  \n",
    "\n",
    "- SHAP uses game theory to calcualte Shapely values for each feature in the dataset. \n",
    "- Shapely values are calculated by iteratively testing each feature's contribution to the model by comparing the model's  performance with vs. without the feature. (The \"marginal contribution\" of the feature to the model's performance)."
   ]
  },
  {
   "cell_type": "markdown",
   "metadata": {},
   "source": [
    "\n",
    "\n",
    "#### Papers, Book Excerpts, and  Blogs\n",
    "- [White Paper on Shapely Values](https://arxiv.org/abs/1705.07874)\n",
    "    \n",
    "- [Intepretable Machine Learning Book - Section on SHAP](https://christophm.github.io/interpretable-ml-book/shap.html)\n",
    "    \n",
    "- Towards Data Science Blog Posts:\n",
    "    - [Explain Your Model with SHAP Values](https://towardsdatascience.com/explain-your-model-with-the-shap-values-bc36aac4de3d)\n",
    "\n",
    "    - [Explain Any Model with SHAP KernelExplaibner](https://towardsdatascience.com/explain-any-models-with-the-shap-values-use-the-kernelexplainer-79de9464897a)\n",
    "\n",
    "\n",
    "\n",
    "\n",
    "\n",
    "#### Videos/Talks:\n",
    "- Explaining Machine Learning Models (in general).\n",
    "    - [\"Open the Black Box: an intro to Model Interpretability with LIME and SHAP](https://youtu.be/C80SQe16Rao)\n",
    "- Understanding Shapely/SHAP Values:\n",
    "    - [AI Simplified: SHAP Values in Machine Learning ](https://youtu.be/Tg8aPwPPJ9c)- (Intuitive Explanation)\n",
    "    - [Explainable AI explained! | #4 SHAP  ](https://youtu.be/9haIOplEIGM)- (Math Calculation Explanation)\n"
   ]
  },
  {
   "cell_type": "markdown",
   "metadata": {},
   "source": [
    "### How to Use SHAP"
   ]
  },
  {
   "cell_type": "markdown",
   "metadata": {},
   "source": [
    "- Uses game theory to explain feature importance and how a feature steered a model's prediction(s) by removing each feature and seeing the effect on the error.\n",
    "\n",
    "- SHAP has:\n",
    "    - `TreeExplainer`:\n",
    "        - compatible with sckit learn, xgboost, Catboost\n",
    "    - `KernelExplainer`:\n",
    "        - compatible with \"any\" model\n",
    "        \n",
    "\n",
    "\n",
    "- See [this blog post](https://towardsdatascience.com/explain-your-model-with-the-shap-values-bc36aac4de3d) for intro to topic and how to use with trees\n",
    "\n",
    "- For non-tree/random forest models [see this follow up post]( https://towardsdatascience.com/explain-any-models-with-the-shap-values-use-the-kernelexplainer-79de9464897a)\n",
    "\n",
    "        "
   ]
  },
  {
   "cell_type": "markdown",
   "metadata": {},
   "source": [
    "\n",
    "- Import and initialize javascript:\n",
    "\n",
    "```python\n",
    "import shap \n",
    "shap.initjs()\n",
    "```"
   ]
  },
  {
   "cell_type": "code",
   "execution_count": null,
   "metadata": {
    "ExecuteTime": {
     "end_time": "2021-05-19T15:11:50.924239Z",
     "start_time": "2021-05-19T15:11:50.091653Z"
    }
   },
   "outputs": [],
   "source": [
    "import shap \n",
    "print(shap.__version__)\n",
    "shap.initjs()"
   ]
  },
  {
   "cell_type": "code",
   "execution_count": null,
   "metadata": {
    "ExecuteTime": {
     "end_time": "2021-05-19T15:11:51.681111Z",
     "start_time": "2021-05-19T15:11:50.926380Z"
    }
   },
   "outputs": [],
   "source": [
    "rf = RandomForestClassifier()\n",
    "pf.fit_and_time_model(rf,*train_test_list)"
   ]
  },
  {
   "cell_type": "markdown",
   "metadata": {},
   "source": [
    "### To Get Expanations for Trees:\n"
   ]
  },
  {
   "cell_type": "markdown",
   "metadata": {},
   "source": [
    "\n",
    "1. Create a shap explainer using your fit model.\n",
    "\n",
    "```python\n",
    "explainer = shap.TreeExplainer(xgb_clf)\n",
    "```\n",
    "\n",
    "2. Get shapely values from explainer for your training data\n",
    "\n",
    "```python\n",
    "shap_values = explainer.shap_values(X_train,y_train)\n",
    "```            \n",
    "\n",
    "3. Select which type of the available plots you'd like to visualize\n",
    "\n",
    "    \n",
    "- **Types of Plots:**\n",
    "    - `summary_plot()`\n",
    "    - `dependence_plot()`\n",
    "    - `force_plot()` for a given observation\n",
    "    - `force_plot()` for all data\n",
    "    \n",
    "  "
   ]
  },
  {
   "cell_type": "code",
   "execution_count": null,
   "metadata": {
    "ExecuteTime": {
     "end_time": "2021-05-19T15:11:51.718403Z",
     "start_time": "2021-05-19T15:11:51.683622Z"
    }
   },
   "outputs": [],
   "source": [
    "# importances = pf.get_importance(rf,X_train_df,top_n=30)"
   ]
  },
  {
   "cell_type": "code",
   "execution_count": null,
   "metadata": {
    "ExecuteTime": {
     "end_time": "2021-05-19T15:11:54.902319Z",
     "start_time": "2021-05-19T15:11:51.720192Z"
    }
   },
   "outputs": [],
   "source": [
    "## Initialize an explainer with the model\n",
    "explainer = shap.TreeExplainer(rf)\n",
    "\n",
    "## Calculaate shap values for test data\n",
    "shap_values = explainer.shap_values(X_test_df,y_test)\n",
    "len(shap_values)"
   ]
  },
  {
   "cell_type": "code",
   "execution_count": null,
   "metadata": {
    "ExecuteTime": {
     "end_time": "2021-05-19T15:11:54.941924Z",
     "start_time": "2021-05-19T15:11:54.904188Z"
    }
   },
   "outputs": [],
   "source": [
    "shap_values[1].shape, X_test_df.shape"
   ]
  },
  {
   "cell_type": "markdown",
   "metadata": {},
   "source": [
    "### Summary Plot"
   ]
  },
  {
   "cell_type": "markdown",
   "metadata": {},
   "source": [
    "```python\n",
    "## For normal bar graph of importance:\n",
    "shap.summary_plot(shap_values[1],X_train,plot_type='bar')\n",
    "\n",
    "## For detail Shapely value visuals:\n",
    "shap.summary_plot(shap_values, X_train)\n",
    "```\n",
    "  \n",
    "\n",
    "**`shap.summary_plot`**\n",
    "> - Feature importance: Variables are ranked in descending order.\n",
    "- Impact: The horizontal location shows whether the effect of that value is associated with a higher or lower prediction.\n",
    "- Original value: Color shows whether that variable is high (in red) or low (in blue) for that observation.\n",
    "\n",
    "\n",
    ">- **IMPORTANT NOTE:** You may need to slice out the correct shap_values for the target class. (by default explainer.shap_values seems to return a list for a binary classification, one set of shap values for each class).\n",
    "    - This will cause issues like the summary plot having a bar with an equal amount of blue and red for each class. \n",
    "    - To fix, slice out the correct matrix from shap_values [0,1]\n"
   ]
  },
  {
   "cell_type": "code",
   "execution_count": null,
   "metadata": {
    "ExecuteTime": {
     "end_time": "2021-05-19T15:11:55.393140Z",
     "start_time": "2021-05-19T15:11:54.943706Z"
    }
   },
   "outputs": [],
   "source": [
    "shap.summary_plot(shap_values[1],X_test_df,plot_type='bar',max_display=40)"
   ]
  },
  {
   "cell_type": "code",
   "execution_count": null,
   "metadata": {
    "ExecuteTime": {
     "end_time": "2021-05-19T15:11:56.507525Z",
     "start_time": "2021-05-19T15:11:55.394685Z"
    },
    "scrolled": false
   },
   "outputs": [],
   "source": [
    "shap.summary_plot(shap_values[1],X_test_df,max_display=40)"
   ]
  },
  {
   "cell_type": "markdown",
   "metadata": {},
   "source": [
    "### Force Plots"
   ]
  },
  {
   "cell_type": "markdown",
   "metadata": {},
   "source": [
    "`shap.force_plot`"
   ]
  },
  {
   "cell_type": "markdown",
   "metadata": {},
   "source": [
    "To show an individual data point's prediction and the factors pushing it towards one class or another"
   ]
  },
  {
   "cell_type": "markdown",
   "metadata": {},
   "source": [
    "```python\n",
    "## Just using np to randomly select a row\n",
    "row = np.random.choice(range(len(X_train)))\n",
    "                       \n",
    "shap.force_plot(explainer.expected_value, shap_values[row,:], X_train.iloc[row,:])\n",
    "```"
   ]
  },
  {
   "cell_type": "markdown",
   "metadata": {},
   "source": [
    "#### Explain Individual Plot"
   ]
  },
  {
   "cell_type": "code",
   "execution_count": null,
   "metadata": {
    "ExecuteTime": {
     "end_time": "2021-05-19T15:11:56.544260Z",
     "start_time": "2021-05-19T15:11:56.509157Z"
    }
   },
   "outputs": [],
   "source": [
    "target_lookup = {0:'Non-User',1:'Heroin User'}\n",
    "target_lookup[0]"
   ]
  },
  {
   "cell_type": "code",
   "execution_count": null,
   "metadata": {
    "ExecuteTime": {
     "end_time": "2021-05-19T15:11:56.590734Z",
     "start_time": "2021-05-19T15:11:56.545902Z"
    }
   },
   "outputs": [],
   "source": [
    "row = np.random.choice(range(len(X_test_df)))\n",
    "print(f\"- Row #: {row}\")\n",
    "print(f\"Class = {target_lookup[y_test.iloc[row]]}\")\n",
    "X_test_df.iloc[row].round(2)"
   ]
  },
  {
   "cell_type": "code",
   "execution_count": null,
   "metadata": {
    "ExecuteTime": {
     "end_time": "2021-05-19T15:11:56.636442Z",
     "start_time": "2021-05-19T15:11:56.592549Z"
    }
   },
   "outputs": [],
   "source": [
    "## Individual forceplot\n",
    "shap.force_plot(explainer.expected_value[1], shap_values[1][row],X_test_df.iloc[row])       "
   ]
  },
  {
   "cell_type": "code",
   "execution_count": null,
   "metadata": {
    "ExecuteTime": {
     "end_time": "2021-05-19T15:11:57.047068Z",
     "start_time": "2021-05-19T15:11:56.638614Z"
    }
   },
   "outputs": [],
   "source": [
    "## Overall Forceplot\n",
    "shap.force_plot(explainer.expected_value[1], shap_values[1],X_test_df)       "
   ]
  },
  {
   "cell_type": "markdown",
   "metadata": {},
   "source": [
    "**`shap.dependence_plot`**"
   ]
  },
  {
   "cell_type": "markdown",
   "metadata": {},
   "source": [
    "\n",
    "```python\n",
    "## To Auto-Select Feature Most correlated with a specific feature, just pass the desired feature's column name.\n",
    "\n",
    "shap.dependence_plot('super_dist', shap_values, X_train)\n",
    "\n",
    "## There is a way to specifically call out multiple features but I wasn't able to summarize it quickly for this nb\n",
    "```"
   ]
  },
  {
   "cell_type": "code",
   "execution_count": null,
   "metadata": {
    "ExecuteTime": {
     "end_time": "2021-05-19T15:11:57.347145Z",
     "start_time": "2021-05-19T15:11:57.048891Z"
    }
   },
   "outputs": [],
   "source": [
    "shap.dependence_plot('Education',shap_values[1],X_test_df)"
   ]
  },
  {
   "cell_type": "markdown",
   "metadata": {},
   "source": [
    "### Using SHAP with SVMS: "
   ]
  },
  {
   "cell_type": "markdown",
   "metadata": {},
   "source": [
    "https://slundberg.github.io/shap/notebooks/Iris%20classification%20with%20scikit-learn.html**\n",
    "- ~~Must run the SVC with `probability=True` to be able to use `.predict_proba`, which is needed for the `KernelExplainer`~~"
   ]
  },
  {
   "cell_type": "code",
   "execution_count": null,
   "metadata": {
    "ExecuteTime": {
     "end_time": "2021-05-19T15:11:58.161361Z",
     "start_time": "2021-05-19T15:11:57.349962Z"
    }
   },
   "outputs": [],
   "source": [
    "svc_linear = pf.fit_and_time_model(SVC(kernel='linear',probability=True,C=1),\n",
    "                                *train_test_list)"
   ]
  },
  {
   "cell_type": "code",
   "execution_count": null,
   "metadata": {
    "ExecuteTime": {
     "end_time": "2021-05-19T15:11:58.204471Z",
     "start_time": "2021-05-19T15:11:58.163386Z"
    }
   },
   "outputs": [],
   "source": [
    "# pred_func = svc_linear.decision_function\n",
    "X_shap = shap.sample(X_test_df,nsamples=200)\n",
    "explainer = shap.KernelExplainer(svc_linear.predict,X_shap)\n",
    "explainer"
   ]
  },
  {
   "cell_type": "code",
   "execution_count": null,
   "metadata": {
    "ExecuteTime": {
     "end_time": "2021-05-19T15:14:02.668072Z",
     "start_time": "2021-05-19T15:11:58.206600Z"
    },
    "scrolled": true
   },
   "outputs": [],
   "source": [
    "shap_values = explainer.shap_values(X_shap,nsamples=100)#, nsamples=1000)"
   ]
  },
  {
   "cell_type": "code",
   "execution_count": null,
   "metadata": {
    "ExecuteTime": {
     "end_time": "2021-05-19T15:39:48.497266Z",
     "start_time": "2021-05-19T15:39:48.455856Z"
    }
   },
   "outputs": [],
   "source": [
    "shap_values.shape"
   ]
  },
  {
   "cell_type": "code",
   "execution_count": null,
   "metadata": {
    "ExecuteTime": {
     "end_time": "2021-05-19T15:14:02.780371Z",
     "start_time": "2021-05-19T15:14:02.728686Z"
    }
   },
   "outputs": [],
   "source": [
    "X_test_df.shape"
   ]
  },
  {
   "cell_type": "code",
   "execution_count": null,
   "metadata": {
    "ExecuteTime": {
     "end_time": "2021-05-19T15:14:02.833253Z",
     "start_time": "2021-05-19T15:14:02.782500Z"
    }
   },
   "outputs": [],
   "source": [
    "shap_values[0].shape"
   ]
  },
  {
   "cell_type": "code",
   "execution_count": null,
   "metadata": {
    "ExecuteTime": {
     "end_time": "2021-05-18T21:30:18.831882Z",
     "start_time": "2021-05-18T21:30:18.791108Z"
    }
   },
   "outputs": [],
   "source": [
    " "
   ]
  },
  {
   "cell_type": "code",
   "execution_count": null,
   "metadata": {
    "ExecuteTime": {
     "end_time": "2021-05-19T15:14:03.520087Z",
     "start_time": "2021-05-19T15:14:02.835784Z"
    }
   },
   "outputs": [],
   "source": [
    "# # shap.force_plot(shap_values[0],X_test)\n",
    "shap.summary_plot(shap_values,X_shap) "
   ]
  },
  {
   "cell_type": "code",
   "execution_count": null,
   "metadata": {
    "ExecuteTime": {
     "end_time": "2021-05-19T15:14:03.574877Z",
     "start_time": "2021-05-19T15:14:03.531738Z"
    }
   },
   "outputs": [],
   "source": [
    "# shap.summary_plot(shap_values,X_test,plot_type='bar')"
   ]
  },
  {
   "cell_type": "markdown",
   "metadata": {},
   "source": [
    "## Explaining Models with LIME"
   ]
  },
  {
   "cell_type": "markdown",
   "metadata": {},
   "source": [
    ">- LIME (Local Interpretable Model-Agnostic Explanations) \n",
    "    - GitHub: https://github.com/marcotcr/lime\n",
    "    - [White Paper](https://arxiv.org/abs/1602.04938)\n",
    "\n",
    "- [Blog Post:\"ExplainYour Modelw ith LIME\"](https://medium.com/dataman-in-ai/explain-your-model-with-lime-5a1a5867b423)"
   ]
  },
  {
   "cell_type": "code",
   "execution_count": null,
   "metadata": {
    "ExecuteTime": {
     "end_time": "2021-05-19T15:14:03.623177Z",
     "start_time": "2021-05-19T15:14:03.577168Z"
    }
   },
   "outputs": [],
   "source": [
    "# !pip install lime\n",
    "from lime.lime_tabular import LimeTabularExplainer"
   ]
  },
  {
   "cell_type": "code",
   "execution_count": null,
   "metadata": {
    "ExecuteTime": {
     "end_time": "2021-05-19T15:14:03.715301Z",
     "start_time": "2021-05-19T15:14:03.625030Z"
    }
   },
   "outputs": [],
   "source": [
    "lime_explainer =LimeTabularExplainer(\n",
    "    training_data=np.array(X_train_sm),\n",
    "    feature_names=X_train_sm.columns,\n",
    "    class_names=['Non-User', 'Heroin-User'],\n",
    "    mode='classification'\n",
    ")"
   ]
  },
  {
   "cell_type": "code",
   "execution_count": null,
   "metadata": {
    "ExecuteTime": {
     "end_time": "2021-05-19T15:14:03.763947Z",
     "start_time": "2021-05-19T15:14:03.717670Z"
    }
   },
   "outputs": [],
   "source": [
    "row = np.random.choice(range(len(X_test_df)))\n",
    "print(f\"- Row #: {row}\")\n",
    "print(f\"Class = {target_lookup[y_test.iloc[row]]}\")\n",
    "# X_test_df.iloc[row].round(2)    "
   ]
  },
  {
   "cell_type": "code",
   "execution_count": null,
   "metadata": {
    "ExecuteTime": {
     "end_time": "2021-05-19T15:14:12.383541Z",
     "start_time": "2021-05-19T15:14:03.766729Z"
    }
   },
   "outputs": [],
   "source": [
    "exp = lime_explainer.explain_instance(X_test_df.iloc[row], rf.predict_proba)\n",
    "exp.show_in_notebook(show_table=True)"
   ]
  },
  {
   "cell_type": "markdown",
   "metadata": {
    "heading_collapsed": true
   },
   "source": [
    "# Appendix"
   ]
  },
  {
   "cell_type": "markdown",
   "metadata": {
    "hidden": true
   },
   "source": [
    "### Renaming Features"
   ]
  },
  {
   "cell_type": "code",
   "execution_count": null,
   "metadata": {
    "ExecuteTime": {
     "end_time": "2021-05-19T15:11:25.944126Z",
     "start_time": "2021-05-19T15:11:25.910554Z"
    },
    "hidden": true
   },
   "outputs": [],
   "source": [
    "columns= {0:'ID',1:'Age',2:'Gender',3:'Education',4:'Country',5:'Ethnicity',\n",
    "         6:'Nscore',7:'Escore',8:'Oscore',9:\"Ascore\",10:'Cscore',\n",
    "         11:'Impulsiveness',12:'SS'}\n",
    "\n",
    "drug_dict = {13:'Alcohol', \n",
    "              14: 'Amphet', \n",
    "              15: 'Amyl', \n",
    "              16: 'Benzos', \n",
    "              17: 'Caff', \n",
    "              18: 'Cannabis', \n",
    "              19: 'Choc', \n",
    "              20: 'Coke',\n",
    "              21: 'Crack', \n",
    "              22: 'Ecstasy',\n",
    "              23: 'Heroin', \n",
    "              24: 'Ketamine', \n",
    "              25: 'LegalH', \n",
    "              26: 'LSD',\n",
    "              27: 'Meth',\n",
    "              28: 'Mushrooms', \n",
    "              29: 'Nicotine', \n",
    "              30: \"FakeDrugSemeron\",\n",
    "              31: 'VSA'}\n",
    "\n",
    "all_columns = {**columns, **drug_dict}"
   ]
  },
  {
   "cell_type": "code",
   "execution_count": null,
   "metadata": {
    "ExecuteTime": {
     "end_time": "2021-05-19T15:11:25.982322Z",
     "start_time": "2021-05-19T15:11:25.947933Z"
    },
    "hidden": true
   },
   "outputs": [],
   "source": [
    "drug_cols = list(drug_dict.values())\n",
    "drug_cols"
   ]
  },
  {
   "cell_type": "code",
   "execution_count": null,
   "metadata": {
    "hidden": true
   },
   "outputs": [],
   "source": [
    "\n",
    "education, age, country,"
   ]
  }
 ],
 "metadata": {
  "kernelspec": {
   "display_name": "learn-env-new",
   "language": "python",
   "name": "learn-env-new"
  },
  "language_info": {
   "codemirror_mode": {
    "name": "ipython",
    "version": 3
   },
   "file_extension": ".py",
   "mimetype": "text/x-python",
   "name": "python",
   "nbconvert_exporter": "python",
   "pygments_lexer": "ipython3",
   "version": "3.8.5"
  },
  "toc": {
   "base_numbering": 1,
   "nav_menu": {},
   "number_sections": true,
   "sideBar": true,
   "skip_h1_title": false,
   "title_cell": "Table of Contents",
   "title_sidebar": "Contents",
   "toc_cell": false,
   "toc_position": {
    "height": "calc(100% - 180px)",
    "left": "10px",
    "top": "150px",
    "width": "256px"
   },
   "toc_section_display": true,
   "toc_window_display": true
  },
  "widgets": {
   "application/vnd.jupyter.widget-state+json": {
    "state": {
     "02fab88372904eddafd82e02fc420a5e": {
      "model_module": "@jupyter-widgets/controls",
      "model_module_version": "1.5.0",
      "model_name": "HTMLModel",
      "state": {
       "layout": "IPY_MODEL_1844a91b130243359a9cd6a72429f9b9",
       "style": "IPY_MODEL_ffd1005c4e474015bc55946dc66ad07e",
       "value": " 56%"
      }
     },
     "0d7e536bb610490cb91525dbb601bb19": {
      "model_module": "@jupyter-widgets/controls",
      "model_module_version": "1.5.0",
      "model_name": "HTMLModel",
      "state": {
       "layout": "IPY_MODEL_3ba7697b7b874630a1eef01d45ac7929",
       "style": "IPY_MODEL_350207354f1c475eaf810564184263a6",
       "value": "100%"
      }
     },
     "1650d024b0c04890b6f8391ce4793630": {
      "model_module": "@jupyter-widgets/controls",
      "model_module_version": "1.5.0",
      "model_name": "HTMLModel",
      "state": {
       "layout": "IPY_MODEL_e84db9b92fb04cac87ad57e53b99a385",
       "style": "IPY_MODEL_d1e88f9d3a0b4e12a259bde4d8484da4",
       "value": "100%"
      }
     },
     "1844a91b130243359a9cd6a72429f9b9": {
      "model_module": "@jupyter-widgets/base",
      "model_module_version": "1.2.0",
      "model_name": "LayoutModel",
      "state": {}
     },
     "1866db67e36a480aac2fdccc80e349dd": {
      "model_module": "@jupyter-widgets/controls",
      "model_module_version": "1.5.0",
      "model_name": "FloatProgressModel",
      "state": {
       "bar_style": "success",
       "layout": "IPY_MODEL_a18e27f93bf24dcd8636f41bca536d10",
       "style": "IPY_MODEL_54119d29a0354248abde1fdc36489cb6",
       "value": 100
      }
     },
     "18b6368b2dd54a44ad9f1089804899e9": {
      "model_module": "@jupyter-widgets/controls",
      "model_module_version": "1.5.0",
      "model_name": "DescriptionStyleModel",
      "state": {
       "description_width": ""
      }
     },
     "1a3dc7888a3a45f6b83e439238229c5e": {
      "model_module": "@jupyter-widgets/controls",
      "model_module_version": "1.5.0",
      "model_name": "FloatProgressModel",
      "state": {
       "bar_style": "success",
       "layout": "IPY_MODEL_e943d9a41d62475a9dc0f7f162d7b870",
       "max": 200,
       "style": "IPY_MODEL_c35ecde0a95e49e38e9f6c8e2ffd23fe",
       "value": 200
      }
     },
     "1d61c82f365f4b54af54f5aa246a3fc1": {
      "model_module": "@jupyter-widgets/controls",
      "model_module_version": "1.5.0",
      "model_name": "HBoxModel",
      "state": {
       "children": [
        "IPY_MODEL_6d3f35b252fa4929bf1fa3ed1cbc5dc5",
        "IPY_MODEL_359551f5f64646f69dbec23d5d9d7902",
        "IPY_MODEL_bd8c6b9c80504557bc822d0648814302"
       ],
       "layout": "IPY_MODEL_528a28270bbc434c9f3d81ee1124b663"
      }
     },
     "1dc69bae48ee46668927be7eb237dc9a": {
      "model_module": "@jupyter-widgets/base",
      "model_module_version": "1.2.0",
      "model_name": "LayoutModel",
      "state": {}
     },
     "1f3ecf669fb846a1a7dd91b87af852a3": {
      "model_module": "@jupyter-widgets/controls",
      "model_module_version": "1.5.0",
      "model_name": "FloatProgressModel",
      "state": {
       "bar_style": "success",
       "layout": "IPY_MODEL_ea3c5eb99f4e4363b4191ff6dc7cc804",
       "style": "IPY_MODEL_6babc527bf77485bbc926380cc9341d7",
       "value": 100
      }
     },
     "20e348e1bf5f419ba20b720a729e977f": {
      "model_module": "@jupyter-widgets/base",
      "model_module_version": "1.2.0",
      "model_name": "LayoutModel",
      "state": {}
     },
     "2252b7482c184797b07378dc30c5f3d6": {
      "model_module": "@jupyter-widgets/controls",
      "model_module_version": "1.5.0",
      "model_name": "ProgressStyleModel",
      "state": {
       "description_width": ""
      }
     },
     "2354f4d9a1b64f5a89bf021ab738d171": {
      "model_module": "@jupyter-widgets/controls",
      "model_module_version": "1.5.0",
      "model_name": "HTMLModel",
      "state": {
       "layout": "IPY_MODEL_3f7852fe5c824fe28e25241e51c8f5f4",
       "style": "IPY_MODEL_9de7dba3c52d40068d15a0c4b3434f3f",
       "value": "100%"
      }
     },
     "23c7456f4a074adaa7e117c6d5e7bfcc": {
      "model_module": "@jupyter-widgets/base",
      "model_module_version": "1.2.0",
      "model_name": "LayoutModel",
      "state": {}
     },
     "24a5b3c10b16499fba5a6841276d510d": {
      "model_module": "@jupyter-widgets/controls",
      "model_module_version": "1.5.0",
      "model_name": "DescriptionStyleModel",
      "state": {
       "description_width": ""
      }
     },
     "257f0abdfae349e5ad0073a2c4211c81": {
      "model_module": "@jupyter-widgets/base",
      "model_module_version": "1.2.0",
      "model_name": "LayoutModel",
      "state": {}
     },
     "265dc0ca03c94a478d17a22108815d45": {
      "model_module": "@jupyter-widgets/controls",
      "model_module_version": "1.5.0",
      "model_name": "HBoxModel",
      "state": {
       "children": [
        "IPY_MODEL_02fab88372904eddafd82e02fc420a5e",
        "IPY_MODEL_c14efa934dc74aea86fb58daee693efd",
        "IPY_MODEL_c236ef18d58f4d508c96f6c89f03b33f"
       ],
       "layout": "IPY_MODEL_41a25993a53b4ed5abc0b871f3dcfcb6"
      }
     },
     "26a83807b7424690978ef10af26b7eb0": {
      "model_module": "@jupyter-widgets/controls",
      "model_module_version": "1.5.0",
      "model_name": "HTMLModel",
      "state": {
       "layout": "IPY_MODEL_f08a96c43fbf42058b530ccf994dcc07",
       "style": "IPY_MODEL_cf0e600c596e4d8ead67c5a39ffab707",
       "value": "100%"
      }
     },
     "2a5582e018a54661844d4ad8f8ab13d3": {
      "model_module": "@jupyter-widgets/controls",
      "model_module_version": "1.5.0",
      "model_name": "ProgressStyleModel",
      "state": {
       "description_width": ""
      }
     },
     "300dfe8b8d29442c85f5c75aba9dc3b4": {
      "model_module": "@jupyter-widgets/controls",
      "model_module_version": "1.5.0",
      "model_name": "HTMLModel",
      "state": {
       "layout": "IPY_MODEL_ee0b248e66b344a4aae2e181b1a8c9b5",
       "style": "IPY_MODEL_18b6368b2dd54a44ad9f1089804899e9",
       "value": "100%"
      }
     },
     "34063d24fa1d4a88b8fb36036e6588d7": {
      "model_module": "@jupyter-widgets/base",
      "model_module_version": "1.2.0",
      "model_name": "LayoutModel",
      "state": {}
     },
     "350207354f1c475eaf810564184263a6": {
      "model_module": "@jupyter-widgets/controls",
      "model_module_version": "1.5.0",
      "model_name": "DescriptionStyleModel",
      "state": {
       "description_width": ""
      }
     },
     "359551f5f64646f69dbec23d5d9d7902": {
      "model_module": "@jupyter-widgets/controls",
      "model_module_version": "1.5.0",
      "model_name": "FloatProgressModel",
      "state": {
       "bar_style": "danger",
       "layout": "IPY_MODEL_34063d24fa1d4a88b8fb36036e6588d7",
       "max": 472,
       "style": "IPY_MODEL_637191a8d3514ab3b812c0589b58f77d",
       "value": 5
      }
     },
     "35ce77e58c3b4235acbfaf80196276af": {
      "model_module": "@jupyter-widgets/controls",
      "model_module_version": "1.5.0",
      "model_name": "DescriptionStyleModel",
      "state": {
       "description_width": ""
      }
     },
     "376e4908505e46f5a9b00f302c93fee2": {
      "model_module": "@jupyter-widgets/base",
      "model_module_version": "1.2.0",
      "model_name": "LayoutModel",
      "state": {}
     },
     "3ba7697b7b874630a1eef01d45ac7929": {
      "model_module": "@jupyter-widgets/base",
      "model_module_version": "1.2.0",
      "model_name": "LayoutModel",
      "state": {}
     },
     "3e939b0409044720bc3315947e558c68": {
      "model_module": "@jupyter-widgets/controls",
      "model_module_version": "1.5.0",
      "model_name": "HTMLModel",
      "state": {
       "layout": "IPY_MODEL_65033f931cbb441187b94e83d3547384",
       "style": "IPY_MODEL_5e3553f15d2b44ea97ec20bd2a50549b",
       "value": " 100/100 [00:58&lt;00:00,  1.72it/s]"
      }
     },
     "3f3ccd914c8b49d0b47a114c014a2458": {
      "model_module": "@jupyter-widgets/controls",
      "model_module_version": "1.5.0",
      "model_name": "FloatProgressModel",
      "state": {
       "bar_style": "success",
       "layout": "IPY_MODEL_6751a62bb6414ff482ff47c42d97744d",
       "style": "IPY_MODEL_f0cdea016da240508865d93039677a9b",
       "value": 100
      }
     },
     "3f7852fe5c824fe28e25241e51c8f5f4": {
      "model_module": "@jupyter-widgets/base",
      "model_module_version": "1.2.0",
      "model_name": "LayoutModel",
      "state": {}
     },
     "41554c38e7324697a432f39686efd6fa": {
      "model_module": "@jupyter-widgets/controls",
      "model_module_version": "1.5.0",
      "model_name": "ProgressStyleModel",
      "state": {
       "description_width": ""
      }
     },
     "41a1ce5075c749e381b5f3c6d723c23f": {
      "model_module": "@jupyter-widgets/controls",
      "model_module_version": "1.5.0",
      "model_name": "HBoxModel",
      "state": {
       "children": [
        "IPY_MODEL_7e1d0fbacaf649ffbe2a16bad8caf848",
        "IPY_MODEL_c84bc57c329a45338f1e4b7f2861596a",
        "IPY_MODEL_48409c737d6e49d99e0964d097df0b67"
       ],
       "layout": "IPY_MODEL_1dc69bae48ee46668927be7eb237dc9a"
      }
     },
     "41a25993a53b4ed5abc0b871f3dcfcb6": {
      "model_module": "@jupyter-widgets/base",
      "model_module_version": "1.2.0",
      "model_name": "LayoutModel",
      "state": {}
     },
     "48409c737d6e49d99e0964d097df0b67": {
      "model_module": "@jupyter-widgets/controls",
      "model_module_version": "1.5.0",
      "model_name": "HTMLModel",
      "state": {
       "layout": "IPY_MODEL_f601c7f91dde43b1a6158d2f9e87228e",
       "style": "IPY_MODEL_73cfba8a71174ca4b3e06903698b87f8",
       "value": " 45/400 [19:54&lt;2:37:06, 26.55s/it]"
      }
     },
     "4a1e3f835099400cbfe1b1a3f13c0922": {
      "model_module": "@jupyter-widgets/controls",
      "model_module_version": "1.5.0",
      "model_name": "DescriptionStyleModel",
      "state": {
       "description_width": ""
      }
     },
     "4fcc250adba44399a5e3d64928fa714a": {
      "model_module": "@jupyter-widgets/controls",
      "model_module_version": "1.5.0",
      "model_name": "HTMLModel",
      "state": {
       "layout": "IPY_MODEL_257f0abdfae349e5ad0073a2c4211c81",
       "style": "IPY_MODEL_bdc8a81b9c7847d7a11565066d4a5447",
       "value": "100%"
      }
     },
     "528a28270bbc434c9f3d81ee1124b663": {
      "model_module": "@jupyter-widgets/base",
      "model_module_version": "1.2.0",
      "model_name": "LayoutModel",
      "state": {}
     },
     "539e3e5a457a41e2802e8dce064bf123": {
      "model_module": "@jupyter-widgets/controls",
      "model_module_version": "1.5.0",
      "model_name": "HTMLModel",
      "state": {
       "layout": "IPY_MODEL_95b555141d6741ff8e758dde44a9b64d",
       "style": "IPY_MODEL_58402c617cd94911b694b2808208b6b1",
       "value": "100%"
      }
     },
     "54119d29a0354248abde1fdc36489cb6": {
      "model_module": "@jupyter-widgets/controls",
      "model_module_version": "1.5.0",
      "model_name": "ProgressStyleModel",
      "state": {
       "description_width": ""
      }
     },
     "575cc9d0928748ed9d224d6d646c5b43": {
      "model_module": "@jupyter-widgets/controls",
      "model_module_version": "1.5.0",
      "model_name": "HBoxModel",
      "state": {
       "children": [
        "IPY_MODEL_0d7e536bb610490cb91525dbb601bb19",
        "IPY_MODEL_c86fb753012540d588b06e60f9ec59d1",
        "IPY_MODEL_8940bd58b80746e1b0aa9dbe34aad408"
       ],
       "layout": "IPY_MODEL_93aa3eae045c4a8eb5478ceeca1e36a8"
      }
     },
     "58402c617cd94911b694b2808208b6b1": {
      "model_module": "@jupyter-widgets/controls",
      "model_module_version": "1.5.0",
      "model_name": "DescriptionStyleModel",
      "state": {
       "description_width": ""
      }
     },
     "58dfdd3dd7634689a6647c937fb43780": {
      "model_module": "@jupyter-widgets/controls",
      "model_module_version": "1.5.0",
      "model_name": "HBoxModel",
      "state": {
       "children": [
        "IPY_MODEL_26a83807b7424690978ef10af26b7eb0",
        "IPY_MODEL_9e1b18623b944e9c93d6e972576ec772",
        "IPY_MODEL_3e939b0409044720bc3315947e558c68"
       ],
       "layout": "IPY_MODEL_e842d137e2f54b71961731db0ecd9c7e"
      }
     },
     "594998dcfd2249d39cf75d41a3f4440d": {
      "model_module": "@jupyter-widgets/controls",
      "model_module_version": "1.5.0",
      "model_name": "DescriptionStyleModel",
      "state": {
       "description_width": ""
      }
     },
     "5e3553f15d2b44ea97ec20bd2a50549b": {
      "model_module": "@jupyter-widgets/controls",
      "model_module_version": "1.5.0",
      "model_name": "DescriptionStyleModel",
      "state": {
       "description_width": ""
      }
     },
     "60224b18af7c44098b05d9e430acc724": {
      "model_module": "@jupyter-widgets/controls",
      "model_module_version": "1.5.0",
      "model_name": "ProgressStyleModel",
      "state": {
       "description_width": ""
      }
     },
     "625d0a27985d4b77952b537b2883ef4c": {
      "model_module": "@jupyter-widgets/base",
      "model_module_version": "1.2.0",
      "model_name": "LayoutModel",
      "state": {}
     },
     "6304a66c3de446578733b22fa757112a": {
      "model_module": "@jupyter-widgets/controls",
      "model_module_version": "1.5.0",
      "model_name": "HTMLModel",
      "state": {
       "layout": "IPY_MODEL_84be1f473ca5401aba560ecf54160bbc",
       "style": "IPY_MODEL_35ce77e58c3b4235acbfaf80196276af",
       "value": " 100/100 [01:04&lt;00:00,  1.55it/s]"
      }
     },
     "637191a8d3514ab3b812c0589b58f77d": {
      "model_module": "@jupyter-widgets/controls",
      "model_module_version": "1.5.0",
      "model_name": "ProgressStyleModel",
      "state": {
       "description_width": ""
      }
     },
     "63a5c3ac8ce648e2b174094a895d9b43": {
      "model_module": "@jupyter-widgets/controls",
      "model_module_version": "1.5.0",
      "model_name": "DescriptionStyleModel",
      "state": {
       "description_width": ""
      }
     },
     "65033f931cbb441187b94e83d3547384": {
      "model_module": "@jupyter-widgets/base",
      "model_module_version": "1.2.0",
      "model_name": "LayoutModel",
      "state": {}
     },
     "6751a62bb6414ff482ff47c42d97744d": {
      "model_module": "@jupyter-widgets/base",
      "model_module_version": "1.2.0",
      "model_name": "LayoutModel",
      "state": {}
     },
     "68b1e70162414c91b6a31c97e6e69130": {
      "model_module": "@jupyter-widgets/controls",
      "model_module_version": "1.5.0",
      "model_name": "ProgressStyleModel",
      "state": {
       "description_width": ""
      }
     },
     "6901022acc494389bfe08dce24fb2fa6": {
      "model_module": "@jupyter-widgets/base",
      "model_module_version": "1.2.0",
      "model_name": "LayoutModel",
      "state": {}
     },
     "6babc527bf77485bbc926380cc9341d7": {
      "model_module": "@jupyter-widgets/controls",
      "model_module_version": "1.5.0",
      "model_name": "ProgressStyleModel",
      "state": {
       "description_width": ""
      }
     },
     "6d3f35b252fa4929bf1fa3ed1cbc5dc5": {
      "model_module": "@jupyter-widgets/controls",
      "model_module_version": "1.5.0",
      "model_name": "HTMLModel",
      "state": {
       "layout": "IPY_MODEL_376e4908505e46f5a9b00f302c93fee2",
       "style": "IPY_MODEL_f2caeeefc21a48a3a3f4435b527e6cd5",
       "value": "  1%"
      }
     },
     "6e51d93770724f7cb1ca70c7f33ed6e7": {
      "model_module": "@jupyter-widgets/base",
      "model_module_version": "1.2.0",
      "model_name": "LayoutModel",
      "state": {}
     },
     "73cfba8a71174ca4b3e06903698b87f8": {
      "model_module": "@jupyter-widgets/controls",
      "model_module_version": "1.5.0",
      "model_name": "DescriptionStyleModel",
      "state": {
       "description_width": ""
      }
     },
     "75582895240444429d06b26bc885a74e": {
      "model_module": "@jupyter-widgets/base",
      "model_module_version": "1.2.0",
      "model_name": "LayoutModel",
      "state": {}
     },
     "7824a30033594e25adad18858ca7e5d2": {
      "model_module": "@jupyter-widgets/controls",
      "model_module_version": "1.5.0",
      "model_name": "HTMLModel",
      "state": {
       "layout": "IPY_MODEL_20e348e1bf5f419ba20b720a729e977f",
       "style": "IPY_MODEL_c230d68836e3458ba63c93b5eadf2a9a",
       "value": " 100/100 [01:41&lt;00:00,  1.01s/it]"
      }
     },
     "788430b4388a4d58a2599252d3619573": {
      "model_module": "@jupyter-widgets/base",
      "model_module_version": "1.2.0",
      "model_name": "LayoutModel",
      "state": {}
     },
     "7e1d0fbacaf649ffbe2a16bad8caf848": {
      "model_module": "@jupyter-widgets/controls",
      "model_module_version": "1.5.0",
      "model_name": "HTMLModel",
      "state": {
       "layout": "IPY_MODEL_cf8c6245898d4a6e9006cf36dc427446",
       "style": "IPY_MODEL_be7158a3ed0e42a880c38ef79e12c7fe",
       "value": " 11%"
      }
     },
     "806ae34bfb0544f19e37b4f1571cd680": {
      "model_module": "@jupyter-widgets/controls",
      "model_module_version": "1.5.0",
      "model_name": "HBoxModel",
      "state": {
       "children": [
        "IPY_MODEL_539e3e5a457a41e2802e8dce064bf123",
        "IPY_MODEL_1a3dc7888a3a45f6b83e439238229c5e",
        "IPY_MODEL_9408082590b9404c8e256ee116529d83"
       ],
       "layout": "IPY_MODEL_ea66e93701a341f49d4905200c6a5ee1"
      }
     },
     "813c8c7880f54ac48dacff7378c5d45f": {
      "model_module": "@jupyter-widgets/base",
      "model_module_version": "1.2.0",
      "model_name": "LayoutModel",
      "state": {}
     },
     "82775cf88463431b928f9d69795864f9": {
      "model_module": "@jupyter-widgets/base",
      "model_module_version": "1.2.0",
      "model_name": "LayoutModel",
      "state": {}
     },
     "84be1f473ca5401aba560ecf54160bbc": {
      "model_module": "@jupyter-widgets/base",
      "model_module_version": "1.2.0",
      "model_name": "LayoutModel",
      "state": {}
     },
     "8592090143fc40a4836ee2b9026bef48": {
      "model_module": "@jupyter-widgets/base",
      "model_module_version": "1.2.0",
      "model_name": "LayoutModel",
      "state": {}
     },
     "890d639b0d004d0e9d8b53e1e0e2966f": {
      "model_module": "@jupyter-widgets/controls",
      "model_module_version": "1.5.0",
      "model_name": "ProgressStyleModel",
      "state": {
       "description_width": ""
      }
     },
     "8940bd58b80746e1b0aa9dbe34aad408": {
      "model_module": "@jupyter-widgets/controls",
      "model_module_version": "1.5.0",
      "model_name": "HTMLModel",
      "state": {
       "layout": "IPY_MODEL_75582895240444429d06b26bc885a74e",
       "style": "IPY_MODEL_b9613e0b74ac4c1fb217aebbe5f3e760",
       "value": " 200/200 [02:09&lt;00:00,  1.54it/s]"
      }
     },
     "89eae43972ba4494bc0c426301da1770": {
      "model_module": "@jupyter-widgets/controls",
      "model_module_version": "1.5.0",
      "model_name": "HTMLModel",
      "state": {
       "layout": "IPY_MODEL_b955ac90a0014a50b01358bb8d403e81",
       "style": "IPY_MODEL_594998dcfd2249d39cf75d41a3f4440d",
       "value": " 100/100 [00:31&lt;00:00,  3.15it/s]"
      }
     },
     "8b5151d9b9634f568756c6ea1fc7f608": {
      "model_module": "@jupyter-widgets/base",
      "model_module_version": "1.2.0",
      "model_name": "LayoutModel",
      "state": {}
     },
     "8f899713af2649bfb855e9aee95a6928": {
      "model_module": "@jupyter-widgets/base",
      "model_module_version": "1.2.0",
      "model_name": "LayoutModel",
      "state": {}
     },
     "93aa3eae045c4a8eb5478ceeca1e36a8": {
      "model_module": "@jupyter-widgets/base",
      "model_module_version": "1.2.0",
      "model_name": "LayoutModel",
      "state": {}
     },
     "9408082590b9404c8e256ee116529d83": {
      "model_module": "@jupyter-widgets/controls",
      "model_module_version": "1.5.0",
      "model_name": "HTMLModel",
      "state": {
       "layout": "IPY_MODEL_813c8c7880f54ac48dacff7378c5d45f",
       "style": "IPY_MODEL_24a5b3c10b16499fba5a6841276d510d",
       "value": " 200/200 [06:20&lt;00:00,  1.90s/it]"
      }
     },
     "95b555141d6741ff8e758dde44a9b64d": {
      "model_module": "@jupyter-widgets/base",
      "model_module_version": "1.2.0",
      "model_name": "LayoutModel",
      "state": {}
     },
     "9de7dba3c52d40068d15a0c4b3434f3f": {
      "model_module": "@jupyter-widgets/controls",
      "model_module_version": "1.5.0",
      "model_name": "DescriptionStyleModel",
      "state": {
       "description_width": ""
      }
     },
     "9e1b18623b944e9c93d6e972576ec772": {
      "model_module": "@jupyter-widgets/controls",
      "model_module_version": "1.5.0",
      "model_name": "FloatProgressModel",
      "state": {
       "bar_style": "success",
       "layout": "IPY_MODEL_788430b4388a4d58a2599252d3619573",
       "style": "IPY_MODEL_60224b18af7c44098b05d9e430acc724",
       "value": 100
      }
     },
     "a18e27f93bf24dcd8636f41bca536d10": {
      "model_module": "@jupyter-widgets/base",
      "model_module_version": "1.2.0",
      "model_name": "LayoutModel",
      "state": {}
     },
     "a41590772f83476490782f9b4469d2c0": {
      "model_module": "@jupyter-widgets/controls",
      "model_module_version": "1.5.0",
      "model_name": "HBoxModel",
      "state": {
       "children": [
        "IPY_MODEL_1650d024b0c04890b6f8391ce4793630",
        "IPY_MODEL_3f3ccd914c8b49d0b47a114c014a2458",
        "IPY_MODEL_6304a66c3de446578733b22fa757112a"
       ],
       "layout": "IPY_MODEL_ba8bf5f8446c40f79d69e0b04dcfce55"
      }
     },
     "b56499a88dae410ab9f80400db35c953": {
      "model_module": "@jupyter-widgets/controls",
      "model_module_version": "1.5.0",
      "model_name": "HBoxModel",
      "state": {
       "children": [
        "IPY_MODEL_4fcc250adba44399a5e3d64928fa714a",
        "IPY_MODEL_c6fb7b330fe8438ca95e89a7b08757be",
        "IPY_MODEL_89eae43972ba4494bc0c426301da1770"
       ],
       "layout": "IPY_MODEL_df980332b5164b199aa3e009aeccc641"
      }
     },
     "b786752bf9fe4023b57bfe3ba4e7b109": {
      "model_module": "@jupyter-widgets/base",
      "model_module_version": "1.2.0",
      "model_name": "LayoutModel",
      "state": {}
     },
     "b955ac90a0014a50b01358bb8d403e81": {
      "model_module": "@jupyter-widgets/base",
      "model_module_version": "1.2.0",
      "model_name": "LayoutModel",
      "state": {}
     },
     "b9613e0b74ac4c1fb217aebbe5f3e760": {
      "model_module": "@jupyter-widgets/controls",
      "model_module_version": "1.5.0",
      "model_name": "DescriptionStyleModel",
      "state": {
       "description_width": ""
      }
     },
     "ba8bf5f8446c40f79d69e0b04dcfce55": {
      "model_module": "@jupyter-widgets/base",
      "model_module_version": "1.2.0",
      "model_name": "LayoutModel",
      "state": {}
     },
     "bd8c6b9c80504557bc822d0648814302": {
      "model_module": "@jupyter-widgets/controls",
      "model_module_version": "1.5.0",
      "model_name": "HTMLModel",
      "state": {
       "layout": "IPY_MODEL_8f899713af2649bfb855e9aee95a6928",
       "style": "IPY_MODEL_63a5c3ac8ce648e2b174094a895d9b43",
       "value": " 5/472 [00:10&lt;17:04,  2.19s/it]"
      }
     },
     "bdc8a81b9c7847d7a11565066d4a5447": {
      "model_module": "@jupyter-widgets/controls",
      "model_module_version": "1.5.0",
      "model_name": "DescriptionStyleModel",
      "state": {
       "description_width": ""
      }
     },
     "be7158a3ed0e42a880c38ef79e12c7fe": {
      "model_module": "@jupyter-widgets/controls",
      "model_module_version": "1.5.0",
      "model_name": "DescriptionStyleModel",
      "state": {
       "description_width": ""
      }
     },
     "c14efa934dc74aea86fb58daee693efd": {
      "model_module": "@jupyter-widgets/controls",
      "model_module_version": "1.5.0",
      "model_name": "FloatProgressModel",
      "state": {
       "bar_style": "danger",
       "layout": "IPY_MODEL_8b5151d9b9634f568756c6ea1fc7f608",
       "style": "IPY_MODEL_2a5582e018a54661844d4ad8f8ab13d3",
       "value": 56
      }
     },
     "c230d68836e3458ba63c93b5eadf2a9a": {
      "model_module": "@jupyter-widgets/controls",
      "model_module_version": "1.5.0",
      "model_name": "DescriptionStyleModel",
      "state": {
       "description_width": ""
      }
     },
     "c236ef18d58f4d508c96f6c89f03b33f": {
      "model_module": "@jupyter-widgets/controls",
      "model_module_version": "1.5.0",
      "model_name": "HTMLModel",
      "state": {
       "layout": "IPY_MODEL_23c7456f4a074adaa7e117c6d5e7bfcc",
       "style": "IPY_MODEL_e645d5e5a98e435f889a23506ca943d9",
       "value": " 56/100 [00:49&lt;00:39,  1.12it/s]"
      }
     },
     "c35ecde0a95e49e38e9f6c8e2ffd23fe": {
      "model_module": "@jupyter-widgets/controls",
      "model_module_version": "1.5.0",
      "model_name": "ProgressStyleModel",
      "state": {
       "description_width": ""
      }
     },
     "c6881122c33b4a889432a78548f1f351": {
      "model_module": "@jupyter-widgets/controls",
      "model_module_version": "1.5.0",
      "model_name": "HBoxModel",
      "state": {
       "children": [
        "IPY_MODEL_c905f830cd3d4d32bfba86e265f725e5",
        "IPY_MODEL_1f3ecf669fb846a1a7dd91b87af852a3",
        "IPY_MODEL_7824a30033594e25adad18858ca7e5d2"
       ],
       "layout": "IPY_MODEL_6901022acc494389bfe08dce24fb2fa6"
      }
     },
     "c6fb7b330fe8438ca95e89a7b08757be": {
      "model_module": "@jupyter-widgets/controls",
      "model_module_version": "1.5.0",
      "model_name": "FloatProgressModel",
      "state": {
       "bar_style": "success",
       "layout": "IPY_MODEL_6e51d93770724f7cb1ca70c7f33ed6e7",
       "style": "IPY_MODEL_68b1e70162414c91b6a31c97e6e69130",
       "value": 100
      }
     },
     "c84bc57c329a45338f1e4b7f2861596a": {
      "model_module": "@jupyter-widgets/controls",
      "model_module_version": "1.5.0",
      "model_name": "FloatProgressModel",
      "state": {
       "bar_style": "danger",
       "layout": "IPY_MODEL_625d0a27985d4b77952b537b2883ef4c",
       "max": 400,
       "style": "IPY_MODEL_41554c38e7324697a432f39686efd6fa",
       "value": 45
      }
     },
     "c86fb753012540d588b06e60f9ec59d1": {
      "model_module": "@jupyter-widgets/controls",
      "model_module_version": "1.5.0",
      "model_name": "FloatProgressModel",
      "state": {
       "bar_style": "success",
       "layout": "IPY_MODEL_b786752bf9fe4023b57bfe3ba4e7b109",
       "max": 200,
       "style": "IPY_MODEL_2252b7482c184797b07378dc30c5f3d6",
       "value": 200
      }
     },
     "c905f830cd3d4d32bfba86e265f725e5": {
      "model_module": "@jupyter-widgets/controls",
      "model_module_version": "1.5.0",
      "model_name": "HTMLModel",
      "state": {
       "layout": "IPY_MODEL_8592090143fc40a4836ee2b9026bef48",
       "style": "IPY_MODEL_ec66624ec1664e94a848883862193a34",
       "value": "100%"
      }
     },
     "ca07c21aeeec4d03884cd10af901fb94": {
      "model_module": "@jupyter-widgets/controls",
      "model_module_version": "1.5.0",
      "model_name": "HTMLModel",
      "state": {
       "layout": "IPY_MODEL_e1efe8d396054fbd90031b6e243d2539",
       "style": "IPY_MODEL_e712cc45d8e84fc5815e0c1b37fe8564",
       "value": " 100/100 [03:51&lt;00:00,  2.32s/it]"
      }
     },
     "cb5c56c1d01b4d38b3ba00179ea3b0c8": {
      "model_module": "@jupyter-widgets/base",
      "model_module_version": "1.2.0",
      "model_name": "LayoutModel",
      "state": {}
     },
     "cf0e600c596e4d8ead67c5a39ffab707": {
      "model_module": "@jupyter-widgets/controls",
      "model_module_version": "1.5.0",
      "model_name": "DescriptionStyleModel",
      "state": {
       "description_width": ""
      }
     },
     "cf8c6245898d4a6e9006cf36dc427446": {
      "model_module": "@jupyter-widgets/base",
      "model_module_version": "1.2.0",
      "model_name": "LayoutModel",
      "state": {}
     },
     "d1e88f9d3a0b4e12a259bde4d8484da4": {
      "model_module": "@jupyter-widgets/controls",
      "model_module_version": "1.5.0",
      "model_name": "DescriptionStyleModel",
      "state": {
       "description_width": ""
      }
     },
     "d3b98a9eeb984fdd95b8ecb13eee8855": {
      "model_module": "@jupyter-widgets/controls",
      "model_module_version": "1.5.0",
      "model_name": "HBoxModel",
      "state": {
       "children": [
        "IPY_MODEL_300dfe8b8d29442c85f5c75aba9dc3b4",
        "IPY_MODEL_1866db67e36a480aac2fdccc80e349dd",
        "IPY_MODEL_ca07c21aeeec4d03884cd10af901fb94"
       ],
       "layout": "IPY_MODEL_da24fe8a83b44b24b7e96d73e80fa238"
      }
     },
     "d835490e47064cf2951333c7b1dbdd9a": {
      "model_module": "@jupyter-widgets/controls",
      "model_module_version": "1.5.0",
      "model_name": "HBoxModel",
      "state": {
       "children": [
        "IPY_MODEL_2354f4d9a1b64f5a89bf021ab738d171",
        "IPY_MODEL_e270b296a4314e41aa144165c079c429",
        "IPY_MODEL_e8a871c95812433ca582b56b2d9d52e2"
       ],
       "layout": "IPY_MODEL_cb5c56c1d01b4d38b3ba00179ea3b0c8"
      }
     },
     "da24fe8a83b44b24b7e96d73e80fa238": {
      "model_module": "@jupyter-widgets/base",
      "model_module_version": "1.2.0",
      "model_name": "LayoutModel",
      "state": {}
     },
     "df980332b5164b199aa3e009aeccc641": {
      "model_module": "@jupyter-widgets/base",
      "model_module_version": "1.2.0",
      "model_name": "LayoutModel",
      "state": {}
     },
     "e1efe8d396054fbd90031b6e243d2539": {
      "model_module": "@jupyter-widgets/base",
      "model_module_version": "1.2.0",
      "model_name": "LayoutModel",
      "state": {}
     },
     "e270b296a4314e41aa144165c079c429": {
      "model_module": "@jupyter-widgets/controls",
      "model_module_version": "1.5.0",
      "model_name": "FloatProgressModel",
      "state": {
       "bar_style": "success",
       "layout": "IPY_MODEL_f53ccf0396ce444ab2ba62edbf381594",
       "style": "IPY_MODEL_890d639b0d004d0e9d8b53e1e0e2966f",
       "value": 100
      }
     },
     "e645d5e5a98e435f889a23506ca943d9": {
      "model_module": "@jupyter-widgets/controls",
      "model_module_version": "1.5.0",
      "model_name": "DescriptionStyleModel",
      "state": {
       "description_width": ""
      }
     },
     "e712cc45d8e84fc5815e0c1b37fe8564": {
      "model_module": "@jupyter-widgets/controls",
      "model_module_version": "1.5.0",
      "model_name": "DescriptionStyleModel",
      "state": {
       "description_width": ""
      }
     },
     "e842d137e2f54b71961731db0ecd9c7e": {
      "model_module": "@jupyter-widgets/base",
      "model_module_version": "1.2.0",
      "model_name": "LayoutModel",
      "state": {}
     },
     "e84db9b92fb04cac87ad57e53b99a385": {
      "model_module": "@jupyter-widgets/base",
      "model_module_version": "1.2.0",
      "model_name": "LayoutModel",
      "state": {}
     },
     "e8a871c95812433ca582b56b2d9d52e2": {
      "model_module": "@jupyter-widgets/controls",
      "model_module_version": "1.5.0",
      "model_name": "HTMLModel",
      "state": {
       "layout": "IPY_MODEL_82775cf88463431b928f9d69795864f9",
       "style": "IPY_MODEL_4a1e3f835099400cbfe1b1a3f13c0922",
       "value": " 100/100 [01:38&lt;00:00,  1.02it/s]"
      }
     },
     "e943d9a41d62475a9dc0f7f162d7b870": {
      "model_module": "@jupyter-widgets/base",
      "model_module_version": "1.2.0",
      "model_name": "LayoutModel",
      "state": {}
     },
     "ea3c5eb99f4e4363b4191ff6dc7cc804": {
      "model_module": "@jupyter-widgets/base",
      "model_module_version": "1.2.0",
      "model_name": "LayoutModel",
      "state": {}
     },
     "ea66e93701a341f49d4905200c6a5ee1": {
      "model_module": "@jupyter-widgets/base",
      "model_module_version": "1.2.0",
      "model_name": "LayoutModel",
      "state": {}
     },
     "ec66624ec1664e94a848883862193a34": {
      "model_module": "@jupyter-widgets/controls",
      "model_module_version": "1.5.0",
      "model_name": "DescriptionStyleModel",
      "state": {
       "description_width": ""
      }
     },
     "ee0b248e66b344a4aae2e181b1a8c9b5": {
      "model_module": "@jupyter-widgets/base",
      "model_module_version": "1.2.0",
      "model_name": "LayoutModel",
      "state": {}
     },
     "f08a96c43fbf42058b530ccf994dcc07": {
      "model_module": "@jupyter-widgets/base",
      "model_module_version": "1.2.0",
      "model_name": "LayoutModel",
      "state": {}
     },
     "f0cdea016da240508865d93039677a9b": {
      "model_module": "@jupyter-widgets/controls",
      "model_module_version": "1.5.0",
      "model_name": "ProgressStyleModel",
      "state": {
       "description_width": ""
      }
     },
     "f2caeeefc21a48a3a3f4435b527e6cd5": {
      "model_module": "@jupyter-widgets/controls",
      "model_module_version": "1.5.0",
      "model_name": "DescriptionStyleModel",
      "state": {
       "description_width": ""
      }
     },
     "f53ccf0396ce444ab2ba62edbf381594": {
      "model_module": "@jupyter-widgets/base",
      "model_module_version": "1.2.0",
      "model_name": "LayoutModel",
      "state": {}
     },
     "f601c7f91dde43b1a6158d2f9e87228e": {
      "model_module": "@jupyter-widgets/base",
      "model_module_version": "1.2.0",
      "model_name": "LayoutModel",
      "state": {}
     },
     "ffd1005c4e474015bc55946dc66ad07e": {
      "model_module": "@jupyter-widgets/controls",
      "model_module_version": "1.5.0",
      "model_name": "DescriptionStyleModel",
      "state": {
       "description_width": ""
      }
     }
    },
    "version_major": 2,
    "version_minor": 0
   }
  }
 },
 "nbformat": 4,
 "nbformat_minor": 4
}
